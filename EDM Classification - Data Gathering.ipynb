{
 "cells": [
  {
   "cell_type": "markdown",
   "metadata": {},
   "source": [
    "# EDM Genre Classification - Data Gathering"
   ]
  },
  {
   "cell_type": "markdown",
   "metadata": {},
   "source": [
    "### Import Libraries"
   ]
  },
  {
   "cell_type": "code",
   "execution_count": 1,
   "metadata": {},
   "outputs": [],
   "source": [
    "import spotipy\n",
    "from spotipy.oauth2 import SpotifyClientCredentials\n",
    "import spotipy.util as util\n",
    "\n",
    "import pandas as pd\n",
    "\n",
    "\n",
    "import pickle"
   ]
  },
  {
   "cell_type": "markdown",
   "metadata": {},
   "source": [
    "### Set Up Spotify Connection"
   ]
  },
  {
   "cell_type": "code",
   "execution_count": 2,
   "metadata": {},
   "outputs": [],
   "source": [
    "# Credentials\n",
    "client_id = 'd72a09f875b3492aa6ffcdbe79ca0786'\n",
    "client_secret = 'bc01c2662e604e12aa3f36d18d669bc0'\n",
    "username = '1235520406'\n",
    "\n",
    "# Scope Options:  https://developer.spotify.com/web-api/using-scopes/\n",
    "scope = 'user-library-read playlist-modify-public playlist-read-private'\n",
    "\n",
    "# This can be any valid url, but must be matched on your developer dashboard\n",
    "redirect_uri = 'http://www.example.com'\n",
    "\n",
    "def sign_in():\n",
    "    client_credentials_manager = SpotifyClientCredentials(client_id=client_id, client_secret=client_secret) \n",
    "    sp = spotipy.Spotify(client_credentials_manager=client_credentials_manager)\n",
    "    token = util.prompt_for_user_token(username, scope, client_id, client_secret, redirect_uri)\n",
    "\n",
    "    if token:\n",
    "        return spotipy.Spotify(auth=token)\n",
    "    else:\n",
    "        print(\"Can't get token for\", username)\n",
    "        \n",
    "sp = sign_in()"
   ]
  },
  {
   "cell_type": "markdown",
   "metadata": {},
   "source": [
    "### Get Audio Features Data"
   ]
  },
  {
   "cell_type": "code",
   "execution_count": 595,
   "metadata": {},
   "outputs": [],
   "source": [
    "def get_recommendations(genre, num_songs, max_iter, sp):\n",
    "    \"\"\"\n",
    "    Generate a set of track URI's (Uniform Resource Indicator) for a given genre.\n",
    "    Use the recommendations function to generate new lists of 100 songs (the upper\n",
    "    limit) until the desired number of songs is found or you reach the maximum\n",
    "    iterations specified. Return as list.\n",
    "    \"\"\"\n",
    "    \n",
    "    sp = sign_in() # Establish Spotify connection\n",
    "    \n",
    "    track_list = set()\n",
    "    \n",
    "    i = 1\n",
    "\n",
    "    while (len(track_list) < num_songs) & (i < max_iter):\n",
    "        new_tracks = sp.recommendations(seed_genres=[genre], limit=100)['tracks']\n",
    "\n",
    "        for track in new_tracks:\n",
    "            track_list.add(track['uri'])\n",
    "        \n",
    "        i += 1\n",
    "    \n",
    "    print(genre + ': ' + str(len(track_list))) # Output number of tracks obtained\n",
    "    \n",
    "    return list(track_list)"
   ]
  },
  {
   "cell_type": "code",
   "execution_count": 342,
   "metadata": {},
   "outputs": [],
   "source": [
    "def tracks_from_playlists(playlist_uris, sp):\n",
    "    \"\"\"\n",
    "    Return all track URI's for tracks in a given list of playlists by playlist URI.\n",
    "    \"\"\"\n",
    "    \n",
    "    sp = sign_in()\n",
    "    \n",
    "    all_uris = []\n",
    "    \n",
    "    for uri in playlist_uris:\n",
    "        \n",
    "        results = sp.user_playlist_tracks(playlist_id=uri)\n",
    "        playlist_tracks = results['items']\n",
    "\n",
    "        # Loop to ensure all tracks are captured\n",
    "        while results['next']:\n",
    "            results = sp.next(results)\n",
    "            playlist_tracks.extend(results['items'])\n",
    "        \n",
    "        # Save playlist track URI's to list\n",
    "        track_uris = []\n",
    "        \n",
    "        for track in playlist_tracks:\n",
    "            # Skip tracks that have no data\n",
    "            try:\n",
    "                track_uri = track['track']['uri']\n",
    "                track_uris.append(track_uri)\n",
    "            except TypeError:\n",
    "                pass\n",
    "        \n",
    "        # Append playlist track URI's to full list\n",
    "        all_uris.extend(track_uris)\n",
    "    \n",
    "    return list(set(all_uris))"
   ]
  },
  {
   "cell_type": "code",
   "execution_count": 346,
   "metadata": {},
   "outputs": [],
   "source": [
    "def get_audio_features(track_list, sp):\n",
    "    \"\"\"\n",
    "    Accept track list and return dataframe with audio features.\n",
    "    \"\"\"\n",
    "    \n",
    "    sp = sign_in() # Establish Spotify connection\n",
    "    \n",
    "    track_list = list(track_list)\n",
    "    \n",
    "    audio_df = pd.DataFrame(sp.audio_features(track_list[0]))\n",
    "    start = 1\n",
    "    while start < len(track_list):\n",
    "        end = min(start + 100, len(track_list))\n",
    "        \n",
    "        # For subsets with no audio data, loop through one by one and pass on tracks missing data\n",
    "        try:\n",
    "            audio_df = pd.concat([audio_df, pd.DataFrame(sp.audio_features(track_list[start:end]))])\n",
    "        except AttributeError:\n",
    "            for i in range(start, end):\n",
    "                try:\n",
    "                    audio_df = pd.concat([audio_df, pd.DataFrame(sp.audio_features(track_list[i]))])\n",
    "                except AttributeError:\n",
    "                    pass\n",
    "            \n",
    "        start += 100\n",
    "    \n",
    "    return audio_df.reset_index(drop=True)"
   ]
  },
  {
   "cell_type": "markdown",
   "metadata": {},
   "source": [
    "#### User Generated Playlists"
   ]
  },
  {
   "cell_type": "code",
   "execution_count": 136,
   "metadata": {},
   "outputs": [],
   "source": [
    "playlists_deep_house = ['spotify:playlist:6vDGVr652ztNWKZuHvsFvx',\n",
    "                        'spotify:playlist:37i9dQZF1DX2TRYkJECvfC',\n",
    "                        'spotify:playlist:37i9dQZF1DX5xiztvBdlUf',\n",
    "                        'spotify:playlist:4wjWoRltrA5qZ0uNsnzdWp',\n",
    "                        'spotify:playlist:4UJaDEATfh5FoNFyVcMBHV',\n",
    "                        'spotify:playlist:2GOq4YducOjWm88a4IkCQq',\n",
    "                        'spotify:playlist:5h1oEk4W9KVMHkOd8WWWlC',\n",
    "                        'spotify:playlist:3oRNodhtGLVnZl0Q32FJHB',\n",
    "                        'spotify:playlist:7qKZ5hzM099puSI6MKiUyX',\n",
    "                        'spotify:playlist:6n7XGSMHS4Xhv0NWL88in9',\n",
    "                        'spotify:playlist:0ekUBqyN6aMDI90qsn96Gz',\n",
    "                        'spotify:playlist:0e7ZClzZLXcgtRvhdmfIID',\n",
    "                        'spotify:playlist:2t5U3e6mHq4T2fKXknS4dd',\n",
    "                        'spotify:playlist:0ypuLGVb7lGs0WGu8a9PHg',\n",
    "                        'spotify:playlist:5CLCReqqp7OTLDMcvB1oLw',\n",
    "                        'spotify:playlist:2b1gr7NkoWDHatEQvhGsjy',\n",
    "                        'spotify:playlist:3dHfJPYowP6ZHUixqA4pUK',\n",
    "                        'spotify:playlist:5fwNQf619fTX4jcK7GlJ4l',\n",
    "                        'spotify:playlist:6r0LRTsaL5DQoZkwheYiw6',\n",
    "                        'spotify:playlist:0zWcfPRGU4GI2sQSIuwu4j',\n",
    "                        'spotify:playlist:2J8VHkLSdlvT5jey7pvBf7',\n",
    "                        'spotify:playlist:0sjYcaKmksfAcZVV9Zid3G',\n",
    "                        'spotify:playlist:3GoE2qRab6zBwaO9r0b0nv',\n",
    "                        'spotify:playlist:48IubOKEvNWeEZ1vECS0q3',\n",
    "                        'spotify:playlist:3QGZ3W7vJbnnkWnbeh2j6M',\n",
    "                        'spotify:playlist:5tmnS4UuyxxW41M7c3wDVB',\n",
    "                        'spotify:playlist:0uBddqxhSNKw38usJ8j1y6',\n",
    "                        'spotify:playlist:2QOeH7Fn7oU7pz0ZyL2cAq',\n",
    "                        'spotify:playlist:4JuVgEhvl4WgNGk8nFvruv',\n",
    "                        'spotify:playlist:1KIL5f54E1i2f4mSPTqu5B'\n",
    "                       ]"
   ]
  },
  {
   "cell_type": "code",
   "execution_count": 340,
   "metadata": {},
   "outputs": [],
   "source": [
    "playlists_dnb = ['spotify:playlist:068WHS0zOWsqvn2uIBYb5D',\n",
    "                 'spotify:playlist:0Zarq4BVkFkZOWkmqsfrjA',\n",
    "                 'spotify:playlist:3OYBpiQl7zOac5j5nGl3mu',\n",
    "                 'spotify:playlist:4Xb7allH5pITXzHc1nadT7',\n",
    "                 'spotify:playlist:37i9dQZF1DX1jlzMTQ2PY5',\n",
    "                 'spotify:playlist:37i9dQZF1DX4to60X6goeK',\n",
    "                 'spotify:playlist:5XGbuIRSb5INv66b817DJH',\n",
    "                 'spotify:playlist:37i9dQZF1DX8jnAPF7Iiqp',\n",
    "                 'spotify:playlist:5ABMzUESx7K7EyowE5kFCl',\n",
    "                 'spotify:playlist:1K0VIne9ejeBhISlO43gRA',\n",
    "                 'spotify:playlist:2vAT9MoHmHiOZ89zyk1uqd',\n",
    "                 'spotify:playlist:37i9dQZF1DX5wDmLW735Yd',\n",
    "                 'spotify:playlist:30sfJJYyp9raHP4HEYbACe',\n",
    "                 'spotify:playlist:7CXXmPbwLrRJkr7EP6Fmrt',\n",
    "                 'spotify:playlist:3gqEaRQUN0xYi9kHexWQpY',\n",
    "                 'spotify:playlist:1CDdeNMmQ9jKQks8XD854G',\n",
    "                 'spotify:playlist:19y0UVk0bcrJWEqMwBHosj',\n",
    "                 'spotify:playlist:4oOZJEq1TBUti6PSouTo5M',\n",
    "                 'spotify:playlist:0CjxEzL8Vm9IC3Or12KrAP',\n",
    "                 'spotify:playlist:0oP76q6CyLk41eVDO0AxV1',\n",
    "                 'spotify:playlist:05CWFSX7qOugRLcpy9VQED',\n",
    "                 'spotify:playlist:6PwLxu5DoY39rGQiOq5GP2',\n",
    "                 'spotify:playlist:4Oa99cnfYN2NmaUSTxiZaS',\n",
    "                 'spotify:playlist:0W8KE1NZFTl8gpd7zHoQD2',\n",
    "                 'spotify:playlist:0ydFX2Mwe0sX1bbHgma93g',\n",
    "                 'spotify:playlist:1jnbdkFbVzMmDqUFnHSWid',\n",
    "                 'spotify:playlist:2LP3pEcFPfVm15Pld7gwz0',\n",
    "                 'spotify:playlist:5osGKmqCMhajgNmNIXAXmM',\n",
    "                 'spotify:playlist:6yFDqUY09Hd3Ix3AamPYX4',\n",
    "                 'spotify:playlist:5MG037sSypV015Ns1U6UwA',\n",
    "                 'spotify:playlist:501tF4mo7f0rwwK8pJFSm6',\n",
    "                 'spotify:playlist:6dDMrOGa5BJDDSbolmy9IC'\n",
    "                ]"
   ]
  },
  {
   "cell_type": "code",
   "execution_count": 148,
   "metadata": {},
   "outputs": [],
   "source": [
    "playlists_dubstep = ['spotify:playlist:3ObJ6Qra3CkV0gNCRTtK0c',\n",
    "                     'spotify:playlist:6xo6Pr528QIucumzKcMXOu',\n",
    "                     'spotify:playlist:37i9dQZF1DX4arVIN5Cg4U',\n",
    "                     'spotify:playlist:6Qu7co7czjjXwSEuCyCOAD',\n",
    "                     'spotify:playlist:5szak97F9g5KufvE9gI3wZ',\n",
    "                     'spotify:playlist:2V0gyT0QmFdURZMO6V8uBC',\n",
    "                     'spotify:playlist:2FACWZn19xOX3M8diykOQ9',\n",
    "                     'spotify:playlist:37i9dQZF1DX5Q27plkaOQ3',\n",
    "                     'spotify:playlist:0KEWfN1VI1gQIuZwnnyZrV',\n",
    "                     'spotify:playlist:7r4NzA8aEKdNJcsLwRvNv8',\n",
    "                     'spotify:playlist:1r3wxe2Bxdu5PE6qOkBPut',\n",
    "                     'spotify:playlist:2ZBRrHz00yrqhCIUWpXgBI',\n",
    "                     'spotify:playlist:5BLf2cCU57iKnVBYnXYZaO',\n",
    "                     'spotify:playlist:3TMIAE4WfGH6NVo3FVJJke',\n",
    "                     'spotify:playlist:09I0tyeHnd4G6vnt8iBYDM',\n",
    "                     'spotify:playlist:3fRGztTdMolxw0nNRnZdj1',\n",
    "                     'spotify:playlist:3quLyj3mybW3hHTt9UVGtw',\n",
    "                     'spotify:playlist:2sjVpVZpcje4dIznYcQfAC',\n",
    "                     'spotify:playlist:5iExAknaGP8JmScz4mdgp1',\n",
    "                     'spotify:playlist:1AsVFc0487EvJwDqEIJHBa',\n",
    "                     'spotify:playlist:5wNRJwSnBImUuZXJW1TiAj',\n",
    "                     'spotify:playlist:3IA3ITmQpz3ljORSuLKI9g',\n",
    "                     'spotify:playlist:1VBPcr2mWcjUBI89omHbq0',\n",
    "                     'spotify:playlist:5XfRIAnUvliBwA78AfI21J',\n",
    "                     'spotify:playlist:3vKsFlHqEkwbDLzUdm7k85',\n",
    "                     'spotify:playlist:6E4ExdbRj89LWi61AOHjxo',\n",
    "                     'spotify:playlist:6phIrRw2XU4sz3rYS7lSnv',\n",
    "                     'spotify:playlist:45sWJkHfnQ3oJ1QxNiRSGN',\n",
    "                     'spotify:playlist:2M4LqkvwUoZUTwaAfy2UKP',\n",
    "                     'spotify:playlist:372Tvhb55xHYHlbGcwr2rv'\n",
    "                    ]"
   ]
  },
  {
   "cell_type": "code",
   "execution_count": 149,
   "metadata": {},
   "outputs": [],
   "source": [
    "playlists_hardstyle = ['spotify:playlist:3bGSAHGYFEDxyEj7uXe0qq',\n",
    "                       'spotify:playlist:37i9dQZF1DX0pH2SQMRXnC',\n",
    "                       'spotify:playlist:3M5bphHgTe5oTebqMUkczJ',\n",
    "                       'spotify:playlist:4yHL0Vok6DofsmOEAUemTs',\n",
    "                       'spotify:playlist:4FK8PNOzHWhZbgxvBIWxfr',\n",
    "                       'spotify:playlist:2haltdKf2U7JhvCpeI3bpM',\n",
    "                       'spotify:playlist:7ecjOhrAkcnWMJaJxMUiSK',\n",
    "                       'spotify:playlist:3LHR9Ko2cIqfyOugDU6Sbr',\n",
    "                       'spotify:playlist:37i9dQZF1DX7NhGf24haor',\n",
    "                       'spotify:playlist:0jvp2XkmT8EAe8aKprzPSN',\n",
    "                       'spotify:playlist:6jxElHkfE4i59rYA0iw7Nh',\n",
    "                       'spotify:playlist:3TPVoqbqXyeYoiLr6f5Qzw',\n",
    "                       'spotify:playlist:2MSHhxtmzMyBHjSVD0rcuN',\n",
    "                       'spotify:playlist:2NY34sL3vaST2m41bbGj9I',\n",
    "                       'spotify:playlist:4TGyWrMDsSEc1flS0XwCLR',\n",
    "                       'spotify:playlist:0945N3eI9uOdY3dKnesoC8',\n",
    "                       'spotify:playlist:2LVvgP7VJN5xAkmPdl5J4q',\n",
    "                       'spotify:playlist:0J6rTAWgzATvixpbmoUyBw',\n",
    "                       'spotify:playlist:3aR2n0XpRNlrWose8kx82S',\n",
    "                       'spotify:playlist:2LPRY9zd2ou5nzBijiHhsT',\n",
    "                       'spotify:playlist:02yGrg25tSif38IKdnu5BC',\n",
    "                       'spotify:playlist:6yLZGml16kzULqUBjhWdKP',\n",
    "                       'spotify:playlist:6bgAF9cZlt373xe3ZglWhv',\n",
    "                       'spotify:playlist:1P6ue4O5NIFkfDgF9GFrkU',\n",
    "                       'spotify:playlist:0r2Ah8Iq0F87jTIoSUPUFF',\n",
    "                       'spotify:playlist:5hFd2Eakmovb6RAstuclNO',\n",
    "                       'spotify:playlist:5SPe4piyussZvC5wS03gye',\n",
    "                       'spotify:playlist:1QINLBaqnigRe2O5bnZrRS',\n",
    "                       'spotify:playlist:2vGynBrYFZZahXI2yHrlua',\n",
    "                       'spotify:playlist:3VdI2oR2OSTlggFuZf9DB4'\n",
    "                      ]"
   ]
  },
  {
   "cell_type": "code",
   "execution_count": 150,
   "metadata": {},
   "outputs": [],
   "source": [
    "playlists_prog_house = ['spotify:playlist:5CMvAWTlDPdZnkleiTHyyo',\n",
    "                        'spotify:playlist:626UDFY53J9Fma3om0Jkx8',\n",
    "                        'spotify:playlist:7LVIOFEgmTbDYnwGv162vN',\n",
    "                        'spotify:playlist:5S33MuzhWWNW57z49eBSui',\n",
    "                        'spotify:playlist:27VY0PivrvmGgNvFx23sU5',\n",
    "                        'spotify:playlist:6JcBwspcgUBohikbK8vSzn',\n",
    "                        'spotify:playlist:3YeajqIAyj4wpRF28r200x',\n",
    "                        'spotify:playlist:5jYizoudbYsSmVmZvnkG7J',\n",
    "                        'spotify:playlist:0twgzXVsIw5TTU3rTM35MS',\n",
    "                        'spotify:playlist:05rymuboflZFqbz6qp2umN',\n",
    "                        'spotify:playlist:3Wcdyxo643EZOQL1ES6M4s',\n",
    "                        'spotify:playlist:4KRKrZA5Xd2Yg2DdqGkExt',\n",
    "                        'spotify:playlist:2FfELJaBcybxCRkRJOv9HC',\n",
    "                        'spotify:playlist:3aibqawnjfomPVR0Y8DaJX',\n",
    "                        'spotify:playlist:6PCvHPLlCmRB40ecbX2ujS',\n",
    "                        'spotify:playlist:5naf36PQw7BxiiTRBYudRv',\n",
    "                        'spotify:playlist:6EH7SkbiK6hO5fo5HMedPX',\n",
    "                        'spotify:playlist:528Hzmamt58Sjz2tVeiTyX',\n",
    "                        'spotify:playlist:67Wb4vEhaQ8toEleqzHL2i',\n",
    "                        'spotify:playlist:5M28rzdeQFlbMiymhMo1tC',\n",
    "                        'spotify:playlist:3aIJD4EEfC26itf5RFttVs',\n",
    "                        'spotify:playlist:5P1sC87GZ8F2d5zIo5NCJI',\n",
    "                        'spotify:playlist:0YYfBqObHKDQgp03QgFpAF',\n",
    "                        'spotify:playlist:77vGgwlmUAyaOcGouhK5X8',\n",
    "                        'spotify:playlist:7bDn5o2sR24ZxpWHzhm2Qz',\n",
    "                        'spotify:playlist:1R0QuM6uXZQRIojoxJK2Zj',\n",
    "                        'spotify:playlist:2ATOfdwJgpYlkJ0zsexZYw',\n",
    "                        'spotify:playlist:1oFzUnIGNXglnGfPuZefc5',\n",
    "                        'spotify:playlist:0GVRyHxMZr6xjO0HoqilPe',\n",
    "                        'spotify:playlist:4wdVFpxzUIr3nldYvt1DNg'\n",
    "                       ]"
   ]
  },
  {
   "cell_type": "code",
   "execution_count": 192,
   "metadata": {},
   "outputs": [],
   "source": [
    "playlists_techno = ['spotify:playlist:18vUeZ9BdtMRNV6gI8RnR6',\n",
    "                    'spotify:playlist:37i9dQZF1DX6J5NfMJS675',\n",
    "                    'spotify:playlist:6MJSGcF4iV79gyo8xZpd8U',\n",
    "                    'spotify:playlist:3Y3NX4qhBo5rxvU60MgUoh',\n",
    "                    'spotify:playlist:3xZiKQnlj2sG9s2mrQK1lZ',\n",
    "                    'spotify:playlist:4C80pHNiCw3R7vcA5xvgPO',\n",
    "                    'spotify:playlist:48yJRrbHtz1DwDEQEZuohc',\n",
    "                    'spotify:playlist:2n9IW8aEnZ0C0o2e3etOdx',\n",
    "                    'spotify:playlist:6JqrgEHEMAzgfyuQTXYReT',\n",
    "                    'spotify:playlist:6VQ0Gn0ISUX4bAl9LVsQNK',\n",
    "                    'spotify:playlist:5KlUhhSR7sZOdl8Hxy3Guz',\n",
    "                    'spotify:playlist:37i9dQZF1DX8ZMwsPgxIOs',\n",
    "                    'spotify:playlist:0B3WoheGNqol1B69LM9Y8n',\n",
    "                    'spotify:playlist:0iDXvLH6Y6euU2bTxIjgxC',\n",
    "                    'spotify:playlist:1irK0GrzY5R1ZTSKvD0egn',\n",
    "                    'spotify:playlist:1wTBf9md3Qx1vEXJJ9VRpH',\n",
    "                    'spotify:playlist:47km1wjUFyMh3LZ1J2R5D7',\n",
    "                    'spotify:playlist:6sMkUAotBUAiXq1dP5s9nG',\n",
    "                    'spotify:playlist:7LS2grTMmboABdGoy1Nbf4',\n",
    "                    'spotify:playlist:7mwPa6HjqoiUrsk3C2Hitk',\n",
    "                    'spotify:playlist:4JFZfMDsV30FAs3NR8y9Cq',\n",
    "                    'spotify:playlist:7Anb1HtKdhvK3Pb1d36f22',\n",
    "                    'spotify:playlist:3iSSSGjtYzad5IisyBrm2U',\n",
    "                    'spotify:playlist:5qUiLFZRY0CdQJJNnvDMtY',\n",
    "                    'spotify:playlist:0G2fxTnXZCwCfE5e3paeqq',\n",
    "                    'spotify:playlist:7q0AoI7HnxTxfMpnH4Q92Z',\n",
    "                    'spotify:playlist:1Ho106dv2ZNq07uVWFXFed',\n",
    "                    'spotify:playlist:4teaXY1gkkq3Fv6ksOfmNC',\n",
    "                    'spotify:playlist:7qNw8Sn2N5lbHYnirZIni6',\n",
    "                    'spotify:playlist:7sCdZfCThcJRLjcQuV5qWe'\n",
    "                   ]"
   ]
  },
  {
   "cell_type": "code",
   "execution_count": 193,
   "metadata": {},
   "outputs": [],
   "source": [
    "playlists_trance = ['spotify:playlist:0Q3ugz23LAXFg2PvXJ8hMx',\n",
    "                    'spotify:playlist:37i9dQZF1DXbtYAdenGE9U',\n",
    "                    'spotify:playlist:69gyd1SXiVhvfsyYS078f0',\n",
    "                    'spotify:playlist:78AFAJFvRzboZfEDnAkkFn',\n",
    "                    'spotify:playlist:5dQ4RlPHRjGDZQwsWnpdJ2',\n",
    "                    'spotify:playlist:1coHeAMbS3luasCXzfnm7b',\n",
    "                    'spotify:playlist:1qxzbI2JYHwt1Uvcw6ZLPL',\n",
    "                    'spotify:playlist:5VlGm8N7DJaMA7mCFOp6GV',\n",
    "                    'spotify:playlist:0uVIGYfnUAkOT5REqtQICx',\n",
    "                    'spotify:playlist:4wM86bbXb5U6IxOAXh5Wev',\n",
    "                    'spotify:playlist:260cw4PvjDjcWuCi5duiEf',\n",
    "                    'spotify:playlist:2iTMQ36cvjhxgIYGv7uld5',\n",
    "                    'spotify:playlist:3dFiXOwSqPw3Qi59No6tfh',\n",
    "                    'spotify:playlist:3TxOh9fFiyyOA8aTh7IaqC',\n",
    "                    'spotify:playlist:12bgX5upoSMOSFr1HWpL02',\n",
    "                    'spotify:playlist:5O4EoYxZlrkWJegYMMEMm3',\n",
    "                    'spotify:playlist:7cEc9ewYHymDkAHvyQf344',\n",
    "                    'spotify:playlist:3MKHH3b7ExUNwm228Za7wM',\n",
    "                    'spotify:playlist:4nWDc1cjcL1yPkR3Z0uYeU',\n",
    "                    'spotify:playlist:2Ps64TVbfmfX6jxWJnlX1j',\n",
    "                    'spotify:playlist:1RX2XgpOYPAHPptQZZq5aF',\n",
    "                    'spotify:playlist:2lrCh3HJpqVhx6Ia3HDdzm',\n",
    "                    'spotify:playlist:5XZXBrQQ6D7aEjhJ2RC6Io',\n",
    "                    'spotify:playlist:5qzG29K5RdtdFpvvpsMuY6',\n",
    "                    'spotify:playlist:5QafFMGgQKGwqgV7k3qHy6',\n",
    "                    'spotify:playlist:03JQeIhJa8jiLYLmwL7mBT',\n",
    "                    'spotify:playlist:4U6C10Ui83IumPgqkvu36s',\n",
    "                    'spotify:playlist:1t027lkuoGFJ6CQPs3WXSb',\n",
    "                    'spotify:playlist:79BWXGe8jwjFr4vm6Md3qQ',\n",
    "                    'spotify:playlist:72DnoMQTeGRgLbLk7WlKol'\n",
    "                   ]"
   ]
  },
  {
   "cell_type": "code",
   "execution_count": 202,
   "metadata": {},
   "outputs": [],
   "source": [
    "# Get track URI's from user generated playlists\n",
    "track_uris_deep_house = tracks_from_playlists(playlists_deep_house, sp)\n",
    "track_uris_dnb = tracks_from_playlists(playlists_dnb, sp)\n",
    "track_uris_dubstep = tracks_from_playlists(playlists_dubstep, sp)\n",
    "track_uris_hardstyle = tracks_from_playlists(playlists_hardstyle, sp)\n",
    "track_uris_prog_house = tracks_from_playlists(playlists_prog_house, sp)\n",
    "track_uris_techno = tracks_from_playlists(playlists_techno, sp)\n",
    "track_uris_trance = tracks_from_playlists(playlists_trance, sp)"
   ]
  },
  {
   "cell_type": "code",
   "execution_count": 343,
   "metadata": {},
   "outputs": [],
   "source": [
    "track_uris_dnb = tracks_from_playlists(playlists_dnb, sp)"
   ]
  },
  {
   "cell_type": "code",
   "execution_count": null,
   "metadata": {},
   "outputs": [],
   "source": [
    "# Get audio features data for all tracks\n",
    "audio_dnb = get_audio_features(track_uris_dnb, sp)\n",
    "audio_deep_house = get_audio_features(track_uris_deep_house, sp)\n",
    "audio_dubstep = get_audio_features(track_uris_dubstep, sp)\n",
    "audio_hardstyle = get_audio_features(track_uris_hardstyle, sp)\n",
    "audio_prog_house = get_audio_features(track_uris_prog_house, sp)\n",
    "audio_techno = get_audio_features(track_uris_techno, sp)\n",
    "audio_trance = get_audio_features(track_uris_trance, sp)"
   ]
  },
  {
   "cell_type": "code",
   "execution_count": 348,
   "metadata": {},
   "outputs": [],
   "source": [
    "# Add genre tag and combine dataframes\n",
    "audio_dnb['genre'] = 'dnb'\n",
    "audio_deep_house['genre'] = 'deep_house'\n",
    "audio_dubstep['genre'] = 'dubstep'\n",
    "audio_hardstyle['genre'] = 'hardstyle'\n",
    "audio_prog_house['genre'] = 'prog_house'\n",
    "audio_techno['genre'] = 'techno'\n",
    "audio_trance['genre'] = 'trance'\n",
    "\n",
    "all_genres = pd.concat([audio_dnb, audio_deep_house, audio_dubstep, audio_hardstyle,\n",
    "                        audio_prog_house, audio_techno, audio_trance])"
   ]
  },
  {
   "cell_type": "code",
   "execution_count": 349,
   "metadata": {},
   "outputs": [
    {
     "name": "stdout",
     "output_type": "stream",
     "text": [
      "Deep House Tracks:        8960\n",
      "Drum and Bass Tracks:     5014\n",
      "Dubstep Tracks:           7403\n",
      "Hardstyle Tracks:         6690\n",
      "Progressive House Tracks: 14851\n",
      "Techno Tracks:            7322\n",
      "Trance Tracks:            9811\n"
     ]
    }
   ],
   "source": [
    "print('Deep House Tracks:        ' + str(len(track_uris_deep_house)))\n",
    "print('Drum and Bass Tracks:     ' + str(len(track_uris_dnb)))\n",
    "print('Dubstep Tracks:           ' + str(len(track_uris_dubstep)))\n",
    "print('Hardstyle Tracks:         ' + str(len(track_uris_hardstyle)))\n",
    "print('Progressive House Tracks: ' + str(len(track_uris_prog_house)))\n",
    "print('Techno Tracks:            ' + str(len(track_uris_techno)))\n",
    "print('Trance Tracks:            ' + str(len(track_uris_trance)))"
   ]
  },
  {
   "cell_type": "markdown",
   "metadata": {},
   "source": [
    "#### Spotify Recommendations"
   ]
  },
  {
   "cell_type": "code",
   "execution_count": 596,
   "metadata": {},
   "outputs": [
    {
     "name": "stdout",
     "output_type": "stream",
     "text": [
      "drum-and-bass: 999\n",
      "deep-house: 1000\n",
      "dubstep: 999\n",
      "hardstyle: 998\n",
      "progressive-house: 998\n",
      "techno: 999\n",
      "trance: 998\n"
     ]
    }
   ],
   "source": [
    "# Get Spotify track URI's for 1000 recommendations from each genre\n",
    "recs_dnb = get_recommendations('drum-and-bass', 3000, 1000, sp)\n",
    "recs_deep_house = get_recommendations('deep-house', 3000, 1000, sp)\n",
    "recs_dubstep = get_recommendations('dubstep', 3000, 1000, sp)\n",
    "recs_hardstyle = get_recommendations('hardstyle', 3000, 1000, sp)\n",
    "recs_prog_house = get_recommendations('progressive-house', 3000, 1000, sp)\n",
    "recs_techno = get_recommendations('techno', 3000, 1000, sp)\n",
    "recs_trance = get_recommendations('trance', 3000, 1000, sp)"
   ]
  },
  {
   "cell_type": "code",
   "execution_count": 602,
   "metadata": {},
   "outputs": [],
   "source": [
    "# Get audio features data for all recommended tracks\n",
    "audio_dnb_recs = get_audio_features(recs_dnb, sp)\n",
    "audio_deep_house_recs = get_audio_features(recs_deep_house, sp)\n",
    "audio_dubstep_recs = get_audio_features(recs_dubstep, sp)\n",
    "audio_hardstyle_recs = get_audio_features(recs_hardstyle, sp)\n",
    "audio_prog_house_recs = get_audio_features(recs_prog_house, sp)\n",
    "audio_techno_recs = get_audio_features(recs_techno, sp)\n",
    "audio_trance_recs = get_audio_features(recs_trance, sp)"
   ]
  },
  {
   "cell_type": "code",
   "execution_count": 603,
   "metadata": {},
   "outputs": [],
   "source": [
    "# Add genre tag and combine dataframes\n",
    "audio_dnb_recs['genre'] = 'dnb'\n",
    "audio_deep_house_recs['genre'] = 'deep_house'\n",
    "audio_dubstep_recs['genre'] = 'dubstep'\n",
    "audio_hardstyle_recs['genre'] = 'hardstyle'\n",
    "audio_prog_house_recs['genre'] = 'prog_house'\n",
    "audio_techno_recs['genre'] = 'techno'\n",
    "audio_trance_recs['genre'] = 'trance'\n",
    "\n",
    "all_genres_recs = pd.concat([audio_dnb_recs, audio_deep_house_recs, audio_dubstep_recs,\n",
    "                             audio_hardstyle_recs, audio_prog_house_recs, audio_techno_recs,\n",
    "                             audio_trance_recs])"
   ]
  },
  {
   "cell_type": "markdown",
   "metadata": {},
   "source": [
    "#### Pickle the Raw Data"
   ]
  },
  {
   "cell_type": "code",
   "execution_count": 350,
   "metadata": {},
   "outputs": [],
   "source": [
    "# Pickle the raw audio data\n",
    "with open('pickle_raw_audio_data.pickle', 'wb') as to_write:\n",
    "    pickle.dump(all_genres, to_write)"
   ]
  },
  {
   "cell_type": "code",
   "execution_count": 604,
   "metadata": {},
   "outputs": [],
   "source": [
    "# Pickle the raw audio data\n",
    "with open('pickle_raw_audio_data_recs.pickle', 'wb') as to_write:\n",
    "    pickle.dump(all_genres_recs, to_write)"
   ]
  }
 ],
 "metadata": {
  "kernelspec": {
   "display_name": "Python 3",
   "language": "python",
   "name": "python3"
  },
  "language_info": {
   "codemirror_mode": {
    "name": "ipython",
    "version": 3
   },
   "file_extension": ".py",
   "mimetype": "text/x-python",
   "name": "python",
   "nbconvert_exporter": "python",
   "pygments_lexer": "ipython3",
   "version": "3.8.5"
  }
 },
 "nbformat": 4,
 "nbformat_minor": 4
}
