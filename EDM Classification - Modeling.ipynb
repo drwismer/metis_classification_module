{
 "cells": [
  {
   "cell_type": "markdown",
   "metadata": {},
   "source": [
    "# EDM Genre Classification - Modeling"
   ]
  },
  {
   "cell_type": "markdown",
   "metadata": {},
   "source": [
    "#### Import Libraries"
   ]
  },
  {
   "cell_type": "code",
   "execution_count": 14,
   "metadata": {},
   "outputs": [],
   "source": [
    "import pandas as pd\n",
    "import numpy as np\n",
    "\n",
    "import matplotlib.pyplot as plt\n",
    "from matplotlib.colors import LinearSegmentedColormap\n",
    "import seaborn as sns\n",
    "sns.set(style='darkgrid')\n",
    "\n",
    "from sklearn.naive_bayes import GaussianNB, ComplementNB, MultinomialNB, CategoricalNB\n",
    "from sklearn.tree import DecisionTreeClassifier\n",
    "from sklearn.ensemble import RandomForestClassifier, BaggingClassifier\n",
    "from sklearn.neighbors import KNeighborsClassifier\n",
    "from sklearn.feature_selection import SelectFromModel\n",
    "from sklearn.model_selection import train_test_split, GridSearchCV\n",
    "from sklearn.metrics import plot_roc_curve, confusion_matrix, plot_confusion_matrix\n",
    "from sklearn.metrics import accuracy_score, classification_report\n",
    "from sklearn.preprocessing import MinMaxScaler, StandardScaler, PolynomialFeatures\n",
    "from sklearn.linear_model import LogisticRegression\n",
    "from sklearn.impute import KNNImputer\n",
    "from sklearn import svm\n",
    "from xgboost import XGBClassifier, XGBRFClassifier\n",
    "    \n",
    "import pickle"
   ]
  },
  {
   "cell_type": "markdown",
   "metadata": {},
   "source": [
    "#### Import Data"
   ]
  },
  {
   "cell_type": "code",
   "execution_count": 15,
   "metadata": {},
   "outputs": [],
   "source": [
    "# Open pickled raw audio data\n",
    "with open('checkpoints/pickle_clean_audio_data.pickle', 'rb') as read_file:\n",
    "    track_data = pickle.load(read_file)\n",
    "\n",
    "with open('checkpoints/pickle_clean_audio_data_recs.pickle', 'rb') as read_file:\n",
    "    recs_data = pickle.load(read_file)\n",
    "    \n",
    "model_data = track_data.drop(columns='uri')\n",
    "model_data_recs = recs_data.drop(columns='uri')"
   ]
  },
  {
   "cell_type": "code",
   "execution_count": 16,
   "metadata": {},
   "outputs": [
    {
     "data": {
      "text/html": [
       "<div>\n",
       "<style scoped>\n",
       "    .dataframe tbody tr th:only-of-type {\n",
       "        vertical-align: middle;\n",
       "    }\n",
       "\n",
       "    .dataframe tbody tr th {\n",
       "        vertical-align: top;\n",
       "    }\n",
       "\n",
       "    .dataframe thead th {\n",
       "        text-align: right;\n",
       "    }\n",
       "</style>\n",
       "<table border=\"1\" class=\"dataframe\">\n",
       "  <thead>\n",
       "    <tr style=\"text-align: right;\">\n",
       "      <th></th>\n",
       "      <th>duration_ms</th>\n",
       "      <th>acousticness</th>\n",
       "      <th>danceability</th>\n",
       "      <th>energy</th>\n",
       "      <th>instrumentalness</th>\n",
       "      <th>liveness</th>\n",
       "      <th>loudness</th>\n",
       "      <th>mode</th>\n",
       "      <th>speechiness</th>\n",
       "      <th>tempo</th>\n",
       "      <th>...</th>\n",
       "      <th>key_6</th>\n",
       "      <th>key_7</th>\n",
       "      <th>key_8</th>\n",
       "      <th>key_9</th>\n",
       "      <th>key_10</th>\n",
       "      <th>key_11</th>\n",
       "      <th>time_sig_1</th>\n",
       "      <th>time_sig_3</th>\n",
       "      <th>time_sig_4</th>\n",
       "      <th>time_sig_5</th>\n",
       "    </tr>\n",
       "  </thead>\n",
       "  <tbody>\n",
       "    <tr>\n",
       "      <th>count</th>\n",
       "      <td>34398.000000</td>\n",
       "      <td>34398.000000</td>\n",
       "      <td>34398.000000</td>\n",
       "      <td>34398.000000</td>\n",
       "      <td>34398.000000</td>\n",
       "      <td>34398.000000</td>\n",
       "      <td>34398.000000</td>\n",
       "      <td>34398.000000</td>\n",
       "      <td>34398.000000</td>\n",
       "      <td>34398.000000</td>\n",
       "      <td>...</td>\n",
       "      <td>34398.000000</td>\n",
       "      <td>34398.000000</td>\n",
       "      <td>34398.000000</td>\n",
       "      <td>34398.000000</td>\n",
       "      <td>34398.000000</td>\n",
       "      <td>34398.000000</td>\n",
       "      <td>34398.000000</td>\n",
       "      <td>34398.000000</td>\n",
       "      <td>34398.000000</td>\n",
       "      <td>34398.000000</td>\n",
       "    </tr>\n",
       "    <tr>\n",
       "      <th>mean</th>\n",
       "      <td>301466.280423</td>\n",
       "      <td>0.045423</td>\n",
       "      <td>0.621237</td>\n",
       "      <td>0.816428</td>\n",
       "      <td>0.443562</td>\n",
       "      <td>0.210067</td>\n",
       "      <td>-6.485391</td>\n",
       "      <td>0.481540</td>\n",
       "      <td>0.087770</td>\n",
       "      <td>139.752092</td>\n",
       "      <td>...</td>\n",
       "      <td>0.086575</td>\n",
       "      <td>0.109658</td>\n",
       "      <td>0.074045</td>\n",
       "      <td>0.086982</td>\n",
       "      <td>0.078813</td>\n",
       "      <td>0.104570</td>\n",
       "      <td>0.001919</td>\n",
       "      <td>0.025031</td>\n",
       "      <td>0.968457</td>\n",
       "      <td>0.004593</td>\n",
       "    </tr>\n",
       "    <tr>\n",
       "      <th>std</th>\n",
       "      <td>106829.002949</td>\n",
       "      <td>0.101584</td>\n",
       "      <td>0.145965</td>\n",
       "      <td>0.148511</td>\n",
       "      <td>0.386428</td>\n",
       "      <td>0.179876</td>\n",
       "      <td>3.157602</td>\n",
       "      <td>0.499666</td>\n",
       "      <td>0.081302</td>\n",
       "      <td>18.694061</td>\n",
       "      <td>...</td>\n",
       "      <td>0.281215</td>\n",
       "      <td>0.312467</td>\n",
       "      <td>0.261848</td>\n",
       "      <td>0.281812</td>\n",
       "      <td>0.269450</td>\n",
       "      <td>0.306003</td>\n",
       "      <td>0.043762</td>\n",
       "      <td>0.156220</td>\n",
       "      <td>0.174781</td>\n",
       "      <td>0.067619</td>\n",
       "    </tr>\n",
       "    <tr>\n",
       "      <th>min</th>\n",
       "      <td>135000.000000</td>\n",
       "      <td>0.000002</td>\n",
       "      <td>0.153000</td>\n",
       "      <td>0.136000</td>\n",
       "      <td>0.000000</td>\n",
       "      <td>0.007020</td>\n",
       "      <td>-16.829000</td>\n",
       "      <td>0.000000</td>\n",
       "      <td>0.023200</td>\n",
       "      <td>100.000000</td>\n",
       "      <td>...</td>\n",
       "      <td>0.000000</td>\n",
       "      <td>0.000000</td>\n",
       "      <td>0.000000</td>\n",
       "      <td>0.000000</td>\n",
       "      <td>0.000000</td>\n",
       "      <td>0.000000</td>\n",
       "      <td>0.000000</td>\n",
       "      <td>0.000000</td>\n",
       "      <td>0.000000</td>\n",
       "      <td>0.000000</td>\n",
       "    </tr>\n",
       "    <tr>\n",
       "      <th>25%</th>\n",
       "      <td>213432.000000</td>\n",
       "      <td>0.001230</td>\n",
       "      <td>0.514000</td>\n",
       "      <td>0.726000</td>\n",
       "      <td>0.006690</td>\n",
       "      <td>0.090100</td>\n",
       "      <td>-8.656000</td>\n",
       "      <td>0.000000</td>\n",
       "      <td>0.044000</td>\n",
       "      <td>124.033000</td>\n",
       "      <td>...</td>\n",
       "      <td>0.000000</td>\n",
       "      <td>0.000000</td>\n",
       "      <td>0.000000</td>\n",
       "      <td>0.000000</td>\n",
       "      <td>0.000000</td>\n",
       "      <td>0.000000</td>\n",
       "      <td>0.000000</td>\n",
       "      <td>0.000000</td>\n",
       "      <td>1.000000</td>\n",
       "      <td>0.000000</td>\n",
       "    </tr>\n",
       "    <tr>\n",
       "      <th>50%</th>\n",
       "      <td>270400.000000</td>\n",
       "      <td>0.007220</td>\n",
       "      <td>0.626000</td>\n",
       "      <td>0.857000</td>\n",
       "      <td>0.460000</td>\n",
       "      <td>0.128000</td>\n",
       "      <td>-6.212000</td>\n",
       "      <td>0.000000</td>\n",
       "      <td>0.057700</td>\n",
       "      <td>136.022500</td>\n",
       "      <td>...</td>\n",
       "      <td>0.000000</td>\n",
       "      <td>0.000000</td>\n",
       "      <td>0.000000</td>\n",
       "      <td>0.000000</td>\n",
       "      <td>0.000000</td>\n",
       "      <td>0.000000</td>\n",
       "      <td>0.000000</td>\n",
       "      <td>0.000000</td>\n",
       "      <td>1.000000</td>\n",
       "      <td>0.000000</td>\n",
       "    </tr>\n",
       "    <tr>\n",
       "      <th>75%</th>\n",
       "      <td>384710.000000</td>\n",
       "      <td>0.036400</td>\n",
       "      <td>0.739000</td>\n",
       "      <td>0.937000</td>\n",
       "      <td>0.852000</td>\n",
       "      <td>0.301000</td>\n",
       "      <td>-4.204000</td>\n",
       "      <td>1.000000</td>\n",
       "      <td>0.091100</td>\n",
       "      <td>150.017000</td>\n",
       "      <td>...</td>\n",
       "      <td>0.000000</td>\n",
       "      <td>0.000000</td>\n",
       "      <td>0.000000</td>\n",
       "      <td>0.000000</td>\n",
       "      <td>0.000000</td>\n",
       "      <td>0.000000</td>\n",
       "      <td>0.000000</td>\n",
       "      <td>0.000000</td>\n",
       "      <td>1.000000</td>\n",
       "      <td>0.000000</td>\n",
       "    </tr>\n",
       "    <tr>\n",
       "      <th>max</th>\n",
       "      <td>600000.000000</td>\n",
       "      <td>0.944000</td>\n",
       "      <td>0.988000</td>\n",
       "      <td>1.000000</td>\n",
       "      <td>0.984000</td>\n",
       "      <td>0.985000</td>\n",
       "      <td>2.675000</td>\n",
       "      <td>1.000000</td>\n",
       "      <td>0.898000</td>\n",
       "      <td>199.998000</td>\n",
       "      <td>...</td>\n",
       "      <td>1.000000</td>\n",
       "      <td>1.000000</td>\n",
       "      <td>1.000000</td>\n",
       "      <td>1.000000</td>\n",
       "      <td>1.000000</td>\n",
       "      <td>1.000000</td>\n",
       "      <td>1.000000</td>\n",
       "      <td>1.000000</td>\n",
       "      <td>1.000000</td>\n",
       "      <td>1.000000</td>\n",
       "    </tr>\n",
       "  </tbody>\n",
       "</table>\n",
       "<p>8 rows × 27 columns</p>\n",
       "</div>"
      ],
      "text/plain": [
       "         duration_ms  acousticness  danceability        energy  \\\n",
       "count   34398.000000  34398.000000  34398.000000  34398.000000   \n",
       "mean   301466.280423      0.045423      0.621237      0.816428   \n",
       "std    106829.002949      0.101584      0.145965      0.148511   \n",
       "min    135000.000000      0.000002      0.153000      0.136000   \n",
       "25%    213432.000000      0.001230      0.514000      0.726000   \n",
       "50%    270400.000000      0.007220      0.626000      0.857000   \n",
       "75%    384710.000000      0.036400      0.739000      0.937000   \n",
       "max    600000.000000      0.944000      0.988000      1.000000   \n",
       "\n",
       "       instrumentalness      liveness      loudness          mode  \\\n",
       "count      34398.000000  34398.000000  34398.000000  34398.000000   \n",
       "mean           0.443562      0.210067     -6.485391      0.481540   \n",
       "std            0.386428      0.179876      3.157602      0.499666   \n",
       "min            0.000000      0.007020    -16.829000      0.000000   \n",
       "25%            0.006690      0.090100     -8.656000      0.000000   \n",
       "50%            0.460000      0.128000     -6.212000      0.000000   \n",
       "75%            0.852000      0.301000     -4.204000      1.000000   \n",
       "max            0.984000      0.985000      2.675000      1.000000   \n",
       "\n",
       "        speechiness         tempo  ...         key_6         key_7  \\\n",
       "count  34398.000000  34398.000000  ...  34398.000000  34398.000000   \n",
       "mean       0.087770    139.752092  ...      0.086575      0.109658   \n",
       "std        0.081302     18.694061  ...      0.281215      0.312467   \n",
       "min        0.023200    100.000000  ...      0.000000      0.000000   \n",
       "25%        0.044000    124.033000  ...      0.000000      0.000000   \n",
       "50%        0.057700    136.022500  ...      0.000000      0.000000   \n",
       "75%        0.091100    150.017000  ...      0.000000      0.000000   \n",
       "max        0.898000    199.998000  ...      1.000000      1.000000   \n",
       "\n",
       "              key_8         key_9        key_10        key_11    time_sig_1  \\\n",
       "count  34398.000000  34398.000000  34398.000000  34398.000000  34398.000000   \n",
       "mean       0.074045      0.086982      0.078813      0.104570      0.001919   \n",
       "std        0.261848      0.281812      0.269450      0.306003      0.043762   \n",
       "min        0.000000      0.000000      0.000000      0.000000      0.000000   \n",
       "25%        0.000000      0.000000      0.000000      0.000000      0.000000   \n",
       "50%        0.000000      0.000000      0.000000      0.000000      0.000000   \n",
       "75%        0.000000      0.000000      0.000000      0.000000      0.000000   \n",
       "max        1.000000      1.000000      1.000000      1.000000      1.000000   \n",
       "\n",
       "         time_sig_3    time_sig_4    time_sig_5  \n",
       "count  34398.000000  34398.000000  34398.000000  \n",
       "mean       0.025031      0.968457      0.004593  \n",
       "std        0.156220      0.174781      0.067619  \n",
       "min        0.000000      0.000000      0.000000  \n",
       "25%        0.000000      1.000000      0.000000  \n",
       "50%        0.000000      1.000000      0.000000  \n",
       "75%        0.000000      1.000000      0.000000  \n",
       "max        1.000000      1.000000      1.000000  \n",
       "\n",
       "[8 rows x 27 columns]"
      ]
     },
     "execution_count": 16,
     "metadata": {},
     "output_type": "execute_result"
    }
   ],
   "source": [
    "model_data.describe()"
   ]
  },
  {
   "cell_type": "markdown",
   "metadata": {},
   "source": [
    "## Train Test Split\n",
    "\n",
    "Training - 60%, Validation - 20%, Testing - 20%"
   ]
  },
  {
   "cell_type": "code",
   "execution_count": 17,
   "metadata": {},
   "outputs": [],
   "source": [
    "audio_metrics = ['acousticness', 'danceability', 'duration_ms', 'energy', 'instrumentalness', 'liveness', \n",
    "                 'loudness', 'speechiness', 'tempo', 'valence']\n",
    "\n",
    "dummy_vars = ['key_0', 'key_1', 'key_2', 'key_3', 'key_4', 'key_5', 'key_6', 'key_7', 'key_8', 'key_9', 'key_10', 'key_11',\n",
    "              'time_sig_1', 'time_sig_3', 'time_sig_4', 'time_sig_5', 'mode']"
   ]
  },
  {
   "cell_type": "code",
   "execution_count": 18,
   "metadata": {},
   "outputs": [],
   "source": [
    "# Train test split\n",
    "X = model_data[audio_metrics + dummy_vars]\n",
    "Y = model_data['genre']\n",
    "\n",
    "X, x_test, Y, y_test = train_test_split(X, Y, test_size=0.20, random_state=13)\n",
    "x_train, x_val, y_train, y_val = train_test_split(X, Y, test_size=0.25, random_state=13)"
   ]
  },
  {
   "cell_type": "code",
   "execution_count": 19,
   "metadata": {},
   "outputs": [],
   "source": [
    "# Convert loudness data to positive values for certain classification models\n",
    "x_train2 = x_train.copy()\n",
    "x_val2 = x_val.copy()\n",
    "x_test2 = x_test.copy()\n",
    "\n",
    "x_train2['loudness'] = np.where(x_train2['loudness'] < 0, x_train2['loudness'] * -1, 0)\n",
    "x_val2['loudness'] = np.where(x_val2['loudness'] < 0, x_val2['loudness'] * -1, 0)\n",
    "x_test2['loudness'] = np.where(x_test2['loudness'] < 0, x_test2['loudness'] * -1, 0)"
   ]
  },
  {
   "cell_type": "markdown",
   "metadata": {},
   "source": [
    "## Basic Data Transformations"
   ]
  },
  {
   "cell_type": "code",
   "execution_count": 20,
   "metadata": {},
   "outputs": [],
   "source": [
    "# Normalized data\n",
    "mm_scale = MinMaxScaler()\n",
    "x_train_norm = mm_scale.fit_transform(x_train[audio_metrics])\n",
    "x_val_norm = mm_scale.fit_transform(x_val[audio_metrics])\n",
    "x_test_norm = mm_scale.transform(x_test[audio_metrics])\n",
    "\n",
    "# Add dummies to normalized data\n",
    "x_train_norm = np.hstack((x_train_norm, x_train[dummy_vars].to_numpy()))\n",
    "x_val_norm = np.hstack((x_val_norm, x_val[dummy_vars].to_numpy()))\n",
    "x_test_norm = np.hstack((x_test_norm, x_test[dummy_vars].to_numpy()))\n",
    "\n",
    "# Standardized data\n",
    "st_scale = StandardScaler()\n",
    "x_train_st = st_scale.fit_transform(x_train[audio_metrics])\n",
    "x_val_st = st_scale.fit_transform(x_val[audio_metrics])\n",
    "x_test_st = st_scale.transform(x_test[audio_metrics])\n",
    "\n",
    "# Add dummies to standardized data\n",
    "x_train_st = np.hstack((x_train_st, x_train[dummy_vars].to_numpy()))\n",
    "x_val_st = np.hstack((x_val_st, x_val[dummy_vars].to_numpy()))\n",
    "x_test_st = np.hstack((x_test_st, x_test[dummy_vars].to_numpy()))\n",
    "\n",
    "# Logistic Regression target columns\n",
    "unique_vals = model_data['genre'].unique()\n",
    "lr_y_train = y_train.replace(to_replace=unique_vals, value= list(range(len(unique_vals))))\n",
    "lr_y_val = y_val.replace(to_replace=unique_vals, value= list(range(len(unique_vals))))\n",
    "lr_y_test = y_test.replace(to_replace=unique_vals, value= list(range(len(unique_vals))))"
   ]
  },
  {
   "cell_type": "markdown",
   "metadata": {},
   "source": [
    "## Baseline Models - Simple Validation"
   ]
  },
  {
   "cell_type": "code",
   "execution_count": 21,
   "metadata": {},
   "outputs": [],
   "source": [
    "rs = 13"
   ]
  },
  {
   "cell_type": "markdown",
   "metadata": {},
   "source": [
    "#### Logistic Regression"
   ]
  },
  {
   "cell_type": "code",
   "execution_count": 22,
   "metadata": {},
   "outputs": [
    {
     "name": "stdout",
     "output_type": "stream",
     "text": [
      "Training Score:   0.6336369803275511\n",
      "Validation Score: 0.6409883720930233\n"
     ]
    }
   ],
   "source": [
    "lr_classifier = LogisticRegression(multi_class='multinomial', solver='sag', max_iter=1000, random_state=rs)\n",
    "lr_classifier.fit(x_train_st, lr_y_train)\n",
    "\n",
    "y_pred_train = lr_classifier.predict(x_train_st)\n",
    "y_pred_val = lr_classifier.predict(x_val_st)\n",
    "\n",
    "lr_train_score = accuracy_score(lr_y_train, y_pred_train, normalize = True)\n",
    "lr_val_score = accuracy_score(lr_y_val, y_pred_val, normalize = True)\n",
    "\n",
    "print('Training Score:   ' + str(lr_train_score))\n",
    "print('Validation Score: ' + str(lr_val_score))"
   ]
  },
  {
   "cell_type": "markdown",
   "metadata": {},
   "source": [
    "#### Gaussian Naive Bayes"
   ]
  },
  {
   "cell_type": "code",
   "execution_count": 23,
   "metadata": {},
   "outputs": [
    {
     "name": "stdout",
     "output_type": "stream",
     "text": [
      "Training Score:   0.5484543075879446\n",
      "Validation Score: 0.540406976744186\n"
     ]
    }
   ],
   "source": [
    "gnb_classifier = GaussianNB()\n",
    "gnb_classifier.fit(x_train_st, y_train)\n",
    "\n",
    "y_pred_train = gnb_classifier.predict(x_train_st)\n",
    "y_pred_val = gnb_classifier.predict(x_val_st)\n",
    "\n",
    "gnb_train_score = accuracy_score(y_train, y_pred_train, normalize = True)\n",
    "gnb_val_score = accuracy_score(y_val, y_pred_val, normalize = True)\n",
    "\n",
    "print('Training Score:   ' + str(gnb_train_score))\n",
    "print('Validation Score: ' + str(gnb_val_score))"
   ]
  },
  {
   "cell_type": "markdown",
   "metadata": {},
   "source": [
    "#### Multinomial Naive Bayes"
   ]
  },
  {
   "cell_type": "code",
   "execution_count": 24,
   "metadata": {},
   "outputs": [
    {
     "name": "stdout",
     "output_type": "stream",
     "text": [
      "Training Score:   0.32764802790968117\n",
      "Validation Score: 0.3313953488372093\n"
     ]
    }
   ],
   "source": [
    "mnb_classifier = MultinomialNB()\n",
    "mnb_classifier.fit(x_train2, y_train)\n",
    "\n",
    "y_pred_train = mnb_classifier.predict(x_train2)\n",
    "y_pred_val = mnb_classifier.predict(x_val2)\n",
    "\n",
    "mnb_train_score = accuracy_score(y_train, y_pred_train, normalize = True)\n",
    "mnb_val_score = accuracy_score(y_val, y_pred_val, normalize = True)\n",
    "\n",
    "print('Training Score:   ' + str(mnb_train_score))\n",
    "print('Validation Score: ' + str(mnb_val_score))"
   ]
  },
  {
   "cell_type": "markdown",
   "metadata": {},
   "source": [
    "#### Complement Naive Bayes"
   ]
  },
  {
   "cell_type": "code",
   "execution_count": 25,
   "metadata": {},
   "outputs": [
    {
     "name": "stdout",
     "output_type": "stream",
     "text": [
      "Training Score:   0.2719255741835449\n",
      "Validation Score: 0.2686046511627907\n"
     ]
    }
   ],
   "source": [
    "compnb_classifier = ComplementNB()\n",
    "compnb_classifier.fit(x_train2, y_train)\n",
    "\n",
    "y_pred_train = compnb_classifier.predict(x_train2)\n",
    "y_pred_val = compnb_classifier.predict(x_val2)\n",
    "\n",
    "compnb_train_score = accuracy_score(y_train, y_pred_train, normalize = True)\n",
    "compnb_val_score = accuracy_score(y_val, y_pred_val, normalize = True)\n",
    "\n",
    "print('Training Score:   ' + str(compnb_train_score))\n",
    "print('Validation Score: ' + str(compnb_val_score))"
   ]
  },
  {
   "cell_type": "markdown",
   "metadata": {},
   "source": [
    "#### Categorical Naive Bayes"
   ]
  },
  {
   "cell_type": "code",
   "execution_count": 26,
   "metadata": {},
   "outputs": [
    {
     "name": "stdout",
     "output_type": "stream",
     "text": [
      "Training Score:   0.7791452660141487\n",
      "Validation Score: 0.6170058139534884\n"
     ]
    }
   ],
   "source": [
    "catnb_classifier = CategoricalNB()\n",
    "catnb_classifier.fit(x_train2, y_train)\n",
    "\n",
    "y_pred_train = catnb_classifier.predict(x_train2)\n",
    "y_pred_val = catnb_classifier.predict(x_val2)\n",
    "\n",
    "catnb_train_score = accuracy_score(y_train, y_pred_train, normalize = True)\n",
    "catnb_val_score = accuracy_score(y_val, y_pred_val, normalize = True)\n",
    "\n",
    "print('Training Score:   ' + str(catnb_train_score))\n",
    "print('Validation Score: ' + str(catnb_val_score))"
   ]
  },
  {
   "cell_type": "markdown",
   "metadata": {},
   "source": [
    "#### K Nearest Neighbors"
   ]
  },
  {
   "cell_type": "code",
   "execution_count": 27,
   "metadata": {},
   "outputs": [
    {
     "name": "stdout",
     "output_type": "stream",
     "text": [
      "Training Score:   0.7353425719546468\n",
      "Validation Score: 0.6251453488372093\n"
     ]
    }
   ],
   "source": [
    "knn_classifier = KNeighborsClassifier()\n",
    "knn_classifier.fit(x_train_st, y_train)\n",
    "\n",
    "y_pred_train = knn_classifier.predict(x_train_st)\n",
    "y_pred_val = knn_classifier.predict(x_val_st)\n",
    "\n",
    "knn_train_score = accuracy_score(y_train, y_pred_train, normalize = True)\n",
    "knn_val_score = accuracy_score(y_val, y_pred_val, normalize = True)\n",
    "\n",
    "print('Training Score:   ' + str(knn_train_score))\n",
    "print('Validation Score: ' + str(knn_val_score))"
   ]
  },
  {
   "cell_type": "markdown",
   "metadata": {},
   "source": [
    "#### K Nearest Neighbors - Bagged"
   ]
  },
  {
   "cell_type": "code",
   "execution_count": 28,
   "metadata": {},
   "outputs": [
    {
     "name": "stdout",
     "output_type": "stream",
     "text": [
      "Training Score:   0.5853280356623703\n",
      "Validation Score: 0.35770348837209304\n"
     ]
    }
   ],
   "source": [
    "knn_bag_classifier = BaggingClassifier(KNeighborsClassifier(), random_state=rs)\n",
    "knn_bag_classifier.fit(x_train, y_train)\n",
    "\n",
    "y_pred_train = knn_bag_classifier.predict(x_train)\n",
    "y_pred_val = knn_bag_classifier.predict(x_val)\n",
    "\n",
    "knn_bag_train_score = accuracy_score(y_train, y_pred_train, normalize = True)\n",
    "knn_bag_val_score = accuracy_score(y_val, y_pred_val, normalize = True)\n",
    "\n",
    "print('Training Score:   ' + str(knn_bag_train_score))\n",
    "print('Validation Score: ' + str(knn_bag_val_score))"
   ]
  },
  {
   "cell_type": "markdown",
   "metadata": {},
   "source": [
    "#### Decision Tree"
   ]
  },
  {
   "cell_type": "code",
   "execution_count": 29,
   "metadata": {},
   "outputs": [
    {
     "name": "stdout",
     "output_type": "stream",
     "text": [
      "Training Score:   0.9982556449268339\n",
      "Validation Score: 0.6540697674418605\n"
     ]
    }
   ],
   "source": [
    "dt_classifier = DecisionTreeClassifier(random_state=rs)\n",
    "dt_classifier.fit(x_train, y_train)\n",
    "\n",
    "y_pred_train = dt_classifier.predict(x_train)\n",
    "y_pred_val = dt_classifier.predict(x_val)\n",
    "\n",
    "dt_train_score = accuracy_score(y_train, y_pred_train, normalize = True)\n",
    "dt_val_score = accuracy_score(y_val, y_pred_val, normalize = True)\n",
    "\n",
    "print('Training Score:   ' + str(dt_train_score))\n",
    "print('Validation Score: ' + str(dt_val_score))"
   ]
  },
  {
   "cell_type": "markdown",
   "metadata": {},
   "source": [
    "#### Decision Tree - Bagged"
   ]
  },
  {
   "cell_type": "code",
   "execution_count": 30,
   "metadata": {},
   "outputs": [
    {
     "name": "stdout",
     "output_type": "stream",
     "text": [
      "Training Score:   0.985076073262913\n",
      "Validation Score: 0.7303779069767442\n"
     ]
    }
   ],
   "source": [
    "dt_bag_classifier = BaggingClassifier(DecisionTreeClassifier(), random_state=rs)\n",
    "dt_bag_classifier.fit(x_train, y_train)\n",
    "\n",
    "y_pred_train = dt_bag_classifier.predict(x_train)\n",
    "y_pred_val = dt_bag_classifier.predict(x_val)\n",
    "\n",
    "dt_bag_train_score = accuracy_score(y_train, y_pred_train, normalize = True)\n",
    "dt_bag_val_score = accuracy_score(y_val, y_pred_val, normalize = True)\n",
    "\n",
    "print('Training Score:   ' + str(dt_bag_train_score))\n",
    "print('Validation Score: ' + str(dt_bag_val_score))"
   ]
  },
  {
   "cell_type": "markdown",
   "metadata": {},
   "source": [
    "#### Random Forest"
   ]
  },
  {
   "cell_type": "code",
   "execution_count": 31,
   "metadata": {},
   "outputs": [
    {
     "name": "stdout",
     "output_type": "stream",
     "text": [
      "Training Score:   0.9982556449268339\n",
      "Validation Score: 0.7563953488372093\n"
     ]
    }
   ],
   "source": [
    "rf_classifier = RandomForestClassifier(random_state=rs)\n",
    "rf_classifier.fit(x_train, y_train)\n",
    "\n",
    "y_pred_train = rf_classifier.predict(x_train)\n",
    "y_pred_val = rf_classifier.predict(x_val)\n",
    "\n",
    "rf_train_score = accuracy_score(y_train, y_pred_train, normalize = True)\n",
    "rf_val_score = accuracy_score(y_val, y_pred_val, normalize = True)\n",
    "\n",
    "print('Training Score:   ' + str(rf_train_score))\n",
    "print('Validation Score: ' + str(rf_val_score))"
   ]
  },
  {
   "cell_type": "markdown",
   "metadata": {},
   "source": [
    "#### Random Forest - Bagged"
   ]
  },
  {
   "cell_type": "code",
   "execution_count": 32,
   "metadata": {},
   "outputs": [
    {
     "name": "stdout",
     "output_type": "stream",
     "text": [
      "Training Score:   0.9760635720515554\n",
      "Validation Score: 0.75625\n"
     ]
    }
   ],
   "source": [
    "rf_bag_classifier = BaggingClassifier(RandomForestClassifier(), random_state=rs)\n",
    "rf_bag_classifier.fit(x_train, y_train)\n",
    "\n",
    "y_pred_train = rf_bag_classifier.predict(x_train)\n",
    "y_pred_val = rf_bag_classifier.predict(x_val)\n",
    "\n",
    "rf_bag_train_score = accuracy_score(y_train, y_pred_train, normalize = True)\n",
    "rf_bag_val_score = accuracy_score(y_val, y_pred_val, normalize = True)\n",
    "\n",
    "print('Training Score:   ' + str(rf_bag_train_score))\n",
    "print('Validation Score: ' + str(rf_bag_val_score))"
   ]
  },
  {
   "cell_type": "markdown",
   "metadata": {},
   "source": [
    "#### Support Vector Machine - SVC"
   ]
  },
  {
   "cell_type": "code",
   "execution_count": 33,
   "metadata": {},
   "outputs": [
    {
     "name": "stdout",
     "output_type": "stream",
     "text": [
      "Training Score:   0.7608295377459056\n",
      "Validation Score: 0.7261627906976744\n"
     ]
    }
   ],
   "source": [
    "svm_classifier = svm.SVC()\n",
    "svm_classifier.fit(x_train_st, y_train)\n",
    "\n",
    "y_pred_train = svm_classifier.predict(x_train_st)\n",
    "y_pred_val = svm_classifier.predict(x_val_st)\n",
    "\n",
    "svm_train_score = accuracy_score(y_train, y_pred_train, normalize = True)\n",
    "svm_val_score = accuracy_score(y_val, y_pred_val, normalize = True)\n",
    "\n",
    "print('Training Score:   ' + str(svm_train_score))\n",
    "print('Validation Score: ' + str(svm_val_score))"
   ]
  },
  {
   "cell_type": "markdown",
   "metadata": {},
   "source": [
    "#### Support Vector Machine - NuSVC"
   ]
  },
  {
   "cell_type": "code",
   "execution_count": 34,
   "metadata": {},
   "outputs": [
    {
     "name": "stdout",
     "output_type": "stream",
     "text": [
      "Training Score:   0.6874212617501696\n",
      "Validation Score: 0.6859011627906977\n"
     ]
    }
   ],
   "source": [
    "nusvm_classifier = svm.NuSVC()\n",
    "nusvm_classifier.fit(x_train_st, y_train)\n",
    "\n",
    "y_pred_train = nusvm_classifier.predict(x_train_st)\n",
    "y_pred_val = nusvm_classifier.predict(x_val_st)\n",
    "\n",
    "nusvm_train_score = accuracy_score(y_train, y_pred_train, normalize = True)\n",
    "nusvm_val_score = accuracy_score(y_val, y_pred_val, normalize = True)\n",
    "\n",
    "print('Training Score:   ' + str(nusvm_train_score))\n",
    "print('Validation Score: ' + str(nusvm_val_score))"
   ]
  },
  {
   "cell_type": "markdown",
   "metadata": {},
   "source": [
    "#### Support Vector Machine - LinearSVC"
   ]
  },
  {
   "cell_type": "code",
   "execution_count": 35,
   "metadata": {},
   "outputs": [
    {
     "name": "stdout",
     "output_type": "stream",
     "text": [
      "Training Score:   0.5909971896501599\n",
      "Validation Score: 0.6\n"
     ]
    }
   ],
   "source": [
    "linsvm_classifier = svm.LinearSVC(max_iter=50000)\n",
    "linsvm_classifier.fit(x_train_st, y_train)\n",
    "\n",
    "y_pred_train = linsvm_classifier.predict(x_train_st)\n",
    "y_pred_val = linsvm_classifier.predict(x_val_st)\n",
    "\n",
    "linsvm_train_score = accuracy_score(y_train, y_pred_train, normalize = True)\n",
    "linsvm_val_score = accuracy_score(y_val, y_pred_val, normalize = True)\n",
    "\n",
    "print('Training Score:   ' + str(linsvm_train_score))\n",
    "print('Validation Score: ' + str(linsvm_val_score))"
   ]
  },
  {
   "cell_type": "markdown",
   "metadata": {},
   "source": [
    "#### XGBoost Classifier"
   ]
  },
  {
   "cell_type": "code",
   "execution_count": 36,
   "metadata": {},
   "outputs": [
    {
     "name": "stdout",
     "output_type": "stream",
     "text": [
      "[09:49:27] WARNING: /Users/travis/build/dmlc/xgboost/src/learner.cc:1095: Starting in XGBoost 1.3.0, the default evaluation metric used with the objective 'multi:softprob' was changed from 'merror' to 'mlogloss'. Explicitly set eval_metric if you'd like to restore the old behavior.\n"
     ]
    },
    {
     "name": "stderr",
     "output_type": "stream",
     "text": [
      "/Users/davidwismer/opt/anaconda3/lib/python3.8/site-packages/xgboost/sklearn.py:1146: UserWarning: The use of label encoder in XGBClassifier is deprecated and will be removed in a future release. To remove this warning, do the following: 1) Pass option use_label_encoder=False when constructing XGBClassifier object; and 2) Encode your labels (y) as integers starting with 0, i.e. 0, 1, 2, ..., [num_class - 1].\n",
      "  warnings.warn(label_encoder_deprecation_msg, UserWarning)\n"
     ]
    },
    {
     "name": "stdout",
     "output_type": "stream",
     "text": [
      "Training Score:   0.9585715670123074\n",
      "Validation Score: 0.7638081395348837\n"
     ]
    }
   ],
   "source": [
    "xgb_classifier = XGBClassifier()\n",
    "xgb_classifier.fit(x_train, y_train)\n",
    "\n",
    "y_pred_train = xgb_classifier.predict(x_train)\n",
    "y_pred_val = xgb_classifier.predict(x_val)\n",
    "\n",
    "xgb_train_score = accuracy_score(y_train, y_pred_train, normalize = True)\n",
    "xgb_val_score = accuracy_score(y_val, y_pred_val, normalize = True)\n",
    "\n",
    "print('Training Score:   ' + str(xgb_train_score))\n",
    "print('Validation Score: ' + str(xgb_val_score))"
   ]
  },
  {
   "cell_type": "markdown",
   "metadata": {},
   "source": [
    "#### XGBoost Random Forest Classifier"
   ]
  },
  {
   "cell_type": "code",
   "execution_count": 37,
   "metadata": {},
   "outputs": [
    {
     "name": "stdout",
     "output_type": "stream",
     "text": [
      "[09:49:37] WARNING: /Users/travis/build/dmlc/xgboost/src/learner.cc:1095: Starting in XGBoost 1.3.0, the default evaluation metric used with the objective 'multi:softprob' was changed from 'merror' to 'mlogloss'. Explicitly set eval_metric if you'd like to restore the old behavior.\n",
      "Training Score:   0.7591820912879155\n",
      "Validation Score: 0.7287790697674419\n"
     ]
    }
   ],
   "source": [
    "xgbrf_classifier = XGBRFClassifier()\n",
    "xgbrf_classifier.fit(x_train, y_train)\n",
    "\n",
    "y_pred_train = xgbrf_classifier.predict(x_train)\n",
    "y_pred_val = xgbrf_classifier.predict(x_val)\n",
    "\n",
    "xgbrf_train_score = accuracy_score(y_train, y_pred_train, normalize = True)\n",
    "xgbrf_val_score = accuracy_score(y_val, y_pred_val, normalize = True)\n",
    "\n",
    "print('Training Score:   ' + str(xgbrf_train_score))\n",
    "print('Validation Score: ' + str(xgbrf_val_score))"
   ]
  },
  {
   "cell_type": "markdown",
   "metadata": {},
   "source": [
    "#### Baseline Model Comparison"
   ]
  },
  {
   "cell_type": "code",
   "execution_count": 39,
   "metadata": {},
   "outputs": [],
   "source": [
    "models = ['Logistic Regression',\n",
    "          'Gaussian Naive Bayes',\n",
    "          'Multinomial Naive Bayes',\n",
    "          'Complement Naive Bayes',\n",
    "          'Categorical Naive Bayes',\n",
    "          'K Nearest Neighbors',\n",
    "          'Decision Tree',\n",
    "          'Random Forest',\n",
    "          'Support Vector Classifier',\n",
    "          'Nu-Support Vector Classifier',\n",
    "          'Linear Support Vector Classifier',\n",
    "          'XGBoost Classifier',\n",
    "          'XGBoost Random Forest Classifier']\n",
    "\n",
    "train_scores = np.array([lr_train_score,\n",
    "                         gnb_train_score,\n",
    "                         mnb_train_score,\n",
    "                         compnb_train_score,\n",
    "                         catnb_train_score,\n",
    "                         knn_train_score,\n",
    "                         dt_train_score,\n",
    "                         rf_train_score,\n",
    "                         svm_train_score,\n",
    "                         nusvm_train_score,\n",
    "                         linsvm_train_score,\n",
    "                         xgb_train_score,\n",
    "                         xgbrf_train_score])\n",
    "\n",
    "val_scores = np.array([lr_val_score,\n",
    "                       gnb_val_score,\n",
    "                       mnb_val_score,\n",
    "                       compnb_val_score,\n",
    "                       catnb_val_score,\n",
    "                       knn_val_score,\n",
    "                       dt_val_score,\n",
    "                       rf_val_score,\n",
    "                       svm_val_score,\n",
    "                       nusvm_val_score,\n",
    "                       linsvm_val_score,\n",
    "                       xgb_val_score,\n",
    "                       xgbrf_val_score])\n",
    "\n",
    "gen_error = train_scores - val_scores\n",
    "\n",
    "baseline_dict = {'Model' : models, 'Train Score' : train_scores, 'Validation Score' : val_scores, 'Generalization Error' : gen_error}"
   ]
  },
  {
   "cell_type": "code",
   "execution_count": 77,
   "metadata": {},
   "outputs": [
    {
     "data": {
      "text/html": [
       "<style  type=\"text/css\" >\n",
       "#T_545ce_row0_col1{\n",
       "            background-color:  #76ba76;\n",
       "            color:  #000000;\n",
       "        }#T_545ce_row0_col2{\n",
       "            background-color:  #3a9c3a;\n",
       "            color:  #000000;\n",
       "        }#T_545ce_row0_col3{\n",
       "            background-color:  #eaf2ea;\n",
       "            color:  #000000;\n",
       "        }#T_545ce_row1_col1{\n",
       "            background-color:  #91c791;\n",
       "            color:  #000000;\n",
       "        }#T_545ce_row1_col2{\n",
       "            background-color:  #6ab46a;\n",
       "            color:  #000000;\n",
       "        }#T_545ce_row1_col3{\n",
       "            background-color:  #e0eedf;\n",
       "            color:  #000000;\n",
       "        }#T_545ce_row2_col1{\n",
       "            background-color:  #d9ead9;\n",
       "            color:  #000000;\n",
       "        }#T_545ce_row2_col2{\n",
       "            background-color:  #cde5cd;\n",
       "            color:  #000000;\n",
       "        }#T_545ce_row2_col3{\n",
       "            background-color:  #e8f2e8;\n",
       "            color:  #000000;\n",
       "        }#T_545ce_row3_col1,#T_545ce_row3_col2,#T_545ce_row10_col3{\n",
       "            background-color:  #ebf3eb;\n",
       "            color:  #000000;\n",
       "        }#T_545ce_row3_col3{\n",
       "            background-color:  #e3efe3;\n",
       "            color:  #000000;\n",
       "        }#T_545ce_row4_col1{\n",
       "            background-color:  #47a347;\n",
       "            color:  #000000;\n",
       "        }#T_545ce_row4_col2{\n",
       "            background-color:  #45a245;\n",
       "            color:  #000000;\n",
       "        }#T_545ce_row4_col3{\n",
       "            background-color:  #78bb78;\n",
       "            color:  #000000;\n",
       "        }#T_545ce_row5_col1{\n",
       "            background-color:  #55a955;\n",
       "            color:  #000000;\n",
       "        }#T_545ce_row5_col2{\n",
       "            background-color:  #41a041;\n",
       "            color:  #000000;\n",
       "        }#T_545ce_row5_col3{\n",
       "            background-color:  #9bcc9b;\n",
       "            color:  #000000;\n",
       "        }#T_545ce_row6_col1,#T_545ce_row6_col3,#T_545ce_row7_col1,#T_545ce_row11_col2{\n",
       "            background-color:  #008000;\n",
       "            color:  #f1f1f1;\n",
       "        }#T_545ce_row6_col2{\n",
       "            background-color:  #349934;\n",
       "            color:  #000000;\n",
       "        }#T_545ce_row7_col2{\n",
       "            background-color:  #038103;\n",
       "            color:  #f1f1f1;\n",
       "        }#T_545ce_row7_col3{\n",
       "            background-color:  #44a144;\n",
       "            color:  #000000;\n",
       "        }#T_545ce_row8_col1{\n",
       "            background-color:  #4ca54c;\n",
       "            color:  #000000;\n",
       "        }#T_545ce_row8_col2{\n",
       "            background-color:  #118911;\n",
       "            color:  #f1f1f1;\n",
       "        }#T_545ce_row8_col3{\n",
       "            background-color:  #cee5ce;\n",
       "            color:  #000000;\n",
       "        }#T_545ce_row9_col1{\n",
       "            background-color:  #64b164;\n",
       "            color:  #000000;\n",
       "        }#T_545ce_row9_col2{\n",
       "            background-color:  #259225;\n",
       "            color:  #000000;\n",
       "        }#T_545ce_row9_col3{\n",
       "            background-color:  #e4f0e4;\n",
       "            color:  #000000;\n",
       "        }#T_545ce_row10_col1{\n",
       "            background-color:  #84c084;\n",
       "            color:  #000000;\n",
       "        }#T_545ce_row10_col2,#T_545ce_row12_col1{\n",
       "            background-color:  #4da64d;\n",
       "            color:  #000000;\n",
       "        }#T_545ce_row11_col1{\n",
       "            background-color:  #0c860c;\n",
       "            color:  #f1f1f1;\n",
       "        }#T_545ce_row11_col3{\n",
       "            background-color:  #63b163;\n",
       "            color:  #000000;\n",
       "        }#T_545ce_row12_col2{\n",
       "            background-color:  #118811;\n",
       "            color:  #f1f1f1;\n",
       "        }#T_545ce_row12_col3{\n",
       "            background-color:  #d1e6d1;\n",
       "            color:  #000000;\n",
       "        }</style><table id=\"T_545ce_\" ><thead>    <tr>        <th class=\"blank level0\" ></th>        <th class=\"col_heading level0 col0\" >Model</th>        <th class=\"col_heading level0 col1\" >Train Score</th>        <th class=\"col_heading level0 col2\" >Validation Score</th>        <th class=\"col_heading level0 col3\" >Generalization Error</th>    </tr></thead><tbody>\n",
       "                <tr>\n",
       "                        <th id=\"T_545ce_level0_row0\" class=\"row_heading level0 row0\" >0</th>\n",
       "                        <td id=\"T_545ce_row0_col0\" class=\"data row0 col0\" >Logistic Regression</td>\n",
       "                        <td id=\"T_545ce_row0_col1\" class=\"data row0 col1\" >0.633637</td>\n",
       "                        <td id=\"T_545ce_row0_col2\" class=\"data row0 col2\" >0.640988</td>\n",
       "                        <td id=\"T_545ce_row0_col3\" class=\"data row0 col3\" >-0.007351</td>\n",
       "            </tr>\n",
       "            <tr>\n",
       "                        <th id=\"T_545ce_level0_row1\" class=\"row_heading level0 row1\" >1</th>\n",
       "                        <td id=\"T_545ce_row1_col0\" class=\"data row1 col0\" >Gaussian Naive Bayes</td>\n",
       "                        <td id=\"T_545ce_row1_col1\" class=\"data row1 col1\" >0.548454</td>\n",
       "                        <td id=\"T_545ce_row1_col2\" class=\"data row1 col2\" >0.540407</td>\n",
       "                        <td id=\"T_545ce_row1_col3\" class=\"data row1 col3\" >0.008047</td>\n",
       "            </tr>\n",
       "            <tr>\n",
       "                        <th id=\"T_545ce_level0_row2\" class=\"row_heading level0 row2\" >2</th>\n",
       "                        <td id=\"T_545ce_row2_col0\" class=\"data row2 col0\" >Multinomial Naive Bayes</td>\n",
       "                        <td id=\"T_545ce_row2_col1\" class=\"data row2 col1\" >0.327648</td>\n",
       "                        <td id=\"T_545ce_row2_col2\" class=\"data row2 col2\" >0.331395</td>\n",
       "                        <td id=\"T_545ce_row2_col3\" class=\"data row2 col3\" >-0.003747</td>\n",
       "            </tr>\n",
       "            <tr>\n",
       "                        <th id=\"T_545ce_level0_row3\" class=\"row_heading level0 row3\" >3</th>\n",
       "                        <td id=\"T_545ce_row3_col0\" class=\"data row3 col0\" >Complement Naive Bayes</td>\n",
       "                        <td id=\"T_545ce_row3_col1\" class=\"data row3 col1\" >0.271926</td>\n",
       "                        <td id=\"T_545ce_row3_col2\" class=\"data row3 col2\" >0.268605</td>\n",
       "                        <td id=\"T_545ce_row3_col3\" class=\"data row3 col3\" >0.003321</td>\n",
       "            </tr>\n",
       "            <tr>\n",
       "                        <th id=\"T_545ce_level0_row4\" class=\"row_heading level0 row4\" >4</th>\n",
       "                        <td id=\"T_545ce_row4_col0\" class=\"data row4 col0\" >Categorical Naive Bayes</td>\n",
       "                        <td id=\"T_545ce_row4_col1\" class=\"data row4 col1\" >0.779145</td>\n",
       "                        <td id=\"T_545ce_row4_col2\" class=\"data row4 col2\" >0.617006</td>\n",
       "                        <td id=\"T_545ce_row4_col3\" class=\"data row4 col3\" >0.162139</td>\n",
       "            </tr>\n",
       "            <tr>\n",
       "                        <th id=\"T_545ce_level0_row5\" class=\"row_heading level0 row5\" >5</th>\n",
       "                        <td id=\"T_545ce_row5_col0\" class=\"data row5 col0\" >K Nearest Neighbors</td>\n",
       "                        <td id=\"T_545ce_row5_col1\" class=\"data row5 col1\" >0.735343</td>\n",
       "                        <td id=\"T_545ce_row5_col2\" class=\"data row5 col2\" >0.625145</td>\n",
       "                        <td id=\"T_545ce_row5_col3\" class=\"data row5 col3\" >0.110197</td>\n",
       "            </tr>\n",
       "            <tr>\n",
       "                        <th id=\"T_545ce_level0_row6\" class=\"row_heading level0 row6\" >6</th>\n",
       "                        <td id=\"T_545ce_row6_col0\" class=\"data row6 col0\" >Decision Tree</td>\n",
       "                        <td id=\"T_545ce_row6_col1\" class=\"data row6 col1\" >0.998256</td>\n",
       "                        <td id=\"T_545ce_row6_col2\" class=\"data row6 col2\" >0.654070</td>\n",
       "                        <td id=\"T_545ce_row6_col3\" class=\"data row6 col3\" >0.344186</td>\n",
       "            </tr>\n",
       "            <tr>\n",
       "                        <th id=\"T_545ce_level0_row7\" class=\"row_heading level0 row7\" >7</th>\n",
       "                        <td id=\"T_545ce_row7_col0\" class=\"data row7 col0\" >Random Forest</td>\n",
       "                        <td id=\"T_545ce_row7_col1\" class=\"data row7 col1\" >0.998256</td>\n",
       "                        <td id=\"T_545ce_row7_col2\" class=\"data row7 col2\" >0.756395</td>\n",
       "                        <td id=\"T_545ce_row7_col3\" class=\"data row7 col3\" >0.241860</td>\n",
       "            </tr>\n",
       "            <tr>\n",
       "                        <th id=\"T_545ce_level0_row8\" class=\"row_heading level0 row8\" >8</th>\n",
       "                        <td id=\"T_545ce_row8_col0\" class=\"data row8 col0\" >Support Vector Classifier</td>\n",
       "                        <td id=\"T_545ce_row8_col1\" class=\"data row8 col1\" >0.760830</td>\n",
       "                        <td id=\"T_545ce_row8_col2\" class=\"data row8 col2\" >0.726163</td>\n",
       "                        <td id=\"T_545ce_row8_col3\" class=\"data row8 col3\" >0.034667</td>\n",
       "            </tr>\n",
       "            <tr>\n",
       "                        <th id=\"T_545ce_level0_row9\" class=\"row_heading level0 row9\" >9</th>\n",
       "                        <td id=\"T_545ce_row9_col0\" class=\"data row9 col0\" >Nu-Support Vector Classifier</td>\n",
       "                        <td id=\"T_545ce_row9_col1\" class=\"data row9 col1\" >0.687421</td>\n",
       "                        <td id=\"T_545ce_row9_col2\" class=\"data row9 col2\" >0.685901</td>\n",
       "                        <td id=\"T_545ce_row9_col3\" class=\"data row9 col3\" >0.001520</td>\n",
       "            </tr>\n",
       "            <tr>\n",
       "                        <th id=\"T_545ce_level0_row10\" class=\"row_heading level0 row10\" >10</th>\n",
       "                        <td id=\"T_545ce_row10_col0\" class=\"data row10 col0\" >Linear Support Vector Classifier</td>\n",
       "                        <td id=\"T_545ce_row10_col1\" class=\"data row10 col1\" >0.590997</td>\n",
       "                        <td id=\"T_545ce_row10_col2\" class=\"data row10 col2\" >0.600000</td>\n",
       "                        <td id=\"T_545ce_row10_col3\" class=\"data row10 col3\" >-0.009003</td>\n",
       "            </tr>\n",
       "            <tr>\n",
       "                        <th id=\"T_545ce_level0_row11\" class=\"row_heading level0 row11\" >11</th>\n",
       "                        <td id=\"T_545ce_row11_col0\" class=\"data row11 col0\" >XGBoost Classifier</td>\n",
       "                        <td id=\"T_545ce_row11_col1\" class=\"data row11 col1\" >0.958572</td>\n",
       "                        <td id=\"T_545ce_row11_col2\" class=\"data row11 col2\" >0.763808</td>\n",
       "                        <td id=\"T_545ce_row11_col3\" class=\"data row11 col3\" >0.194763</td>\n",
       "            </tr>\n",
       "            <tr>\n",
       "                        <th id=\"T_545ce_level0_row12\" class=\"row_heading level0 row12\" >12</th>\n",
       "                        <td id=\"T_545ce_row12_col0\" class=\"data row12 col0\" >XGBoost Random Forest Classifier</td>\n",
       "                        <td id=\"T_545ce_row12_col1\" class=\"data row12 col1\" >0.759182</td>\n",
       "                        <td id=\"T_545ce_row12_col2\" class=\"data row12 col2\" >0.728779</td>\n",
       "                        <td id=\"T_545ce_row12_col3\" class=\"data row12 col3\" >0.030403</td>\n",
       "            </tr>\n",
       "    </tbody></table>"
      ],
      "text/plain": [
       "<pandas.io.formats.style.Styler at 0x7ff1454f6f70>"
      ]
     },
     "execution_count": 77,
     "metadata": {},
     "output_type": "execute_result"
    }
   ],
   "source": [
    "cm = sns.light_palette(\"green\", as_cmap=True)\n",
    "baseline_summary = pd.DataFrame(baseline_dict)\n",
    "baseline_summary.style.background_gradient(cmap=cm)"
   ]
  },
  {
   "cell_type": "markdown",
   "metadata": {},
   "source": [
    "## Hyperparameter Tuning and Cross Validation for Top Baseline Models\n",
    "\n",
    "- Random Forest Classifier\n",
    "- Support Vector Classifier\n",
    "- Logistic Regression"
   ]
  },
  {
   "cell_type": "markdown",
   "metadata": {},
   "source": [
    "#### Cross Validation Train Test Split\n"
   ]
  },
  {
   "cell_type": "code",
   "execution_count": 41,
   "metadata": {},
   "outputs": [],
   "source": [
    "# Train test split\n",
    "X = model_data[audio_metrics + dummy_vars]\n",
    "Y = model_data['genre']\n",
    "\n",
    "x_train, x_test, y_train, y_test = train_test_split(X, Y, test_size=0.20, random_state=rs)"
   ]
  },
  {
   "cell_type": "code",
   "execution_count": 42,
   "metadata": {},
   "outputs": [],
   "source": [
    "# Normalized data\n",
    "mm_scale = MinMaxScaler()\n",
    "x_train_norm = mm_scale.fit_transform(x_train[audio_metrics])\n",
    "x_test_norm = mm_scale.transform(x_test[audio_metrics])\n",
    "\n",
    "# Add dummies to normalized data\n",
    "x_train_norm = np.hstack((x_train_norm, x_train[dummy_vars].to_numpy()))\n",
    "x_test_norm = np.hstack((x_test_norm, x_test[dummy_vars].to_numpy()))\n",
    "\n",
    "# Standardized data\n",
    "st_scale = StandardScaler()\n",
    "x_train_st = st_scale.fit_transform(x_train[audio_metrics])\n",
    "x_test_st = st_scale.transform(x_test[audio_metrics])\n",
    "\n",
    "# Add dummies to standardized data\n",
    "x_train_st = np.hstack((x_train_st, x_train[dummy_vars].to_numpy()))\n",
    "x_test_st = np.hstack((x_test_st, x_test[dummy_vars].to_numpy()))\n",
    "\n",
    "# Logistic Regression target columns\n",
    "unique_vals = model_data['genre'].unique()\n",
    "lr_y_train = y_train.replace(to_replace=unique_vals, value= list(range(len(unique_vals))))\n",
    "lr_y_test = y_test.replace(to_replace=unique_vals, value= list(range(len(unique_vals))))"
   ]
  },
  {
   "cell_type": "markdown",
   "metadata": {},
   "source": [
    "#### XGBoost Classifier"
   ]
  },
  {
   "cell_type": "code",
   "execution_count": 45,
   "metadata": {},
   "outputs": [
    {
     "name": "stdout",
     "output_type": "stream",
     "text": [
      "Fitting 5 folds for each of 108 candidates, totalling 540 fits\n"
     ]
    },
    {
     "name": "stderr",
     "output_type": "stream",
     "text": [
      "[Parallel(n_jobs=-1)]: Using backend LokyBackend with 16 concurrent workers.\n",
      "[Parallel(n_jobs=-1)]: Done  18 tasks      | elapsed:  2.0min\n",
      "[Parallel(n_jobs=-1)]: Done 168 tasks      | elapsed: 15.9min\n",
      "[Parallel(n_jobs=-1)]: Done 418 tasks      | elapsed: 51.0min\n",
      "[Parallel(n_jobs=-1)]: Done 540 out of 540 | elapsed: 72.5min finished\n",
      "/Users/davidwismer/opt/anaconda3/lib/python3.8/site-packages/xgboost/sklearn.py:1146: UserWarning: The use of label encoder in XGBClassifier is deprecated and will be removed in a future release. To remove this warning, do the following: 1) Pass option use_label_encoder=False when constructing XGBClassifier object; and 2) Encode your labels (y) as integers starting with 0, i.e. 0, 1, 2, ..., [num_class - 1].\n",
      "  warnings.warn(label_encoder_deprecation_msg, UserWarning)\n"
     ]
    },
    {
     "name": "stdout",
     "output_type": "stream",
     "text": [
      "[11:31:26] WARNING: /Users/travis/build/dmlc/xgboost/src/learner.cc:1095: Starting in XGBoost 1.3.0, the default evaluation metric used with the objective 'multi:softprob' was changed from 'merror' to 'mlogloss'. Explicitly set eval_metric if you'd like to restore the old behavior.\n",
      "XGBClassifier(base_score=0.5, booster='gbtree', colsample_bylevel=1,\n",
      "              colsample_bynode=1, colsample_bytree=0.75, gamma=1, gpu_id=-1,\n",
      "              importance_type='gain', interaction_constraints='',\n",
      "              learning_rate=0.05, max_delta_step=0, max_depth=15,\n",
      "              min_child_weight=1, missing=nan, monotone_constraints='()',\n",
      "              n_estimators=100, n_jobs=16, num_parallel_tree=1,\n",
      "              objective='multi:softprob', random_state=13, reg_alpha=0,\n",
      "              reg_lambda=1, scale_pos_weight=None, subsample=0.8,\n",
      "              tree_method='exact', validate_parameters=1, verbosity=None)\n"
     ]
    }
   ],
   "source": [
    "# Hyperparameter CV Test - Round 1\n",
    "parameters = {'learning_rate' : [0.01, 0.05, 0.1],\n",
    "              'n_estimators' : [100],\n",
    "              'max_depth' : [5, 10, 15],\n",
    "              'subsample' : [0.8, 1],\n",
    "              'colsample_bytree' : [0.25, 0.75],\n",
    "              'gamma' : [0, 1, 5]\n",
    "             }\n",
    "\n",
    "# clf = ensemble.RandomForestRegressor(n_estimators=500, n_jobs=1, verbose=1)\n",
    "xgb_grid = GridSearchCV(XGBClassifier(random_state=rs), param_grid=parameters, cv=5, n_jobs=-1, verbose=1)\n",
    "xgb_grid.fit(x_train, y_train)\n",
    "print(xgb_grid.best_estimator_)"
   ]
  },
  {
   "cell_type": "code",
   "execution_count": 47,
   "metadata": {},
   "outputs": [
    {
     "data": {
      "text/html": [
       "<div>\n",
       "<style scoped>\n",
       "    .dataframe tbody tr th:only-of-type {\n",
       "        vertical-align: middle;\n",
       "    }\n",
       "\n",
       "    .dataframe tbody tr th {\n",
       "        vertical-align: top;\n",
       "    }\n",
       "\n",
       "    .dataframe thead th {\n",
       "        text-align: right;\n",
       "    }\n",
       "</style>\n",
       "<table border=\"1\" class=\"dataframe\">\n",
       "  <thead>\n",
       "    <tr style=\"text-align: right;\">\n",
       "      <th></th>\n",
       "      <th>mean_fit_time</th>\n",
       "      <th>std_fit_time</th>\n",
       "      <th>mean_score_time</th>\n",
       "      <th>std_score_time</th>\n",
       "      <th>param_colsample_bytree</th>\n",
       "      <th>param_gamma</th>\n",
       "      <th>param_learning_rate</th>\n",
       "      <th>param_max_depth</th>\n",
       "      <th>param_n_estimators</th>\n",
       "      <th>param_subsample</th>\n",
       "      <th>split0_test_score</th>\n",
       "      <th>split1_test_score</th>\n",
       "      <th>split2_test_score</th>\n",
       "      <th>split3_test_score</th>\n",
       "      <th>split4_test_score</th>\n",
       "      <th>mean_test_score</th>\n",
       "      <th>std_test_score</th>\n",
       "      <th>rank_test_score</th>\n",
       "    </tr>\n",
       "  </thead>\n",
       "  <tbody>\n",
       "    <tr>\n",
       "      <th>82</th>\n",
       "      <td>281.972918</td>\n",
       "      <td>0.450273</td>\n",
       "      <td>0.068374</td>\n",
       "      <td>0.003282</td>\n",
       "      <td>0.75</td>\n",
       "      <td>1</td>\n",
       "      <td>0.05</td>\n",
       "      <td>15</td>\n",
       "      <td>100</td>\n",
       "      <td>0.8</td>\n",
       "      <td>0.767624</td>\n",
       "      <td>0.769622</td>\n",
       "      <td>0.764172</td>\n",
       "      <td>0.774123</td>\n",
       "      <td>0.770125</td>\n",
       "      <td>0.769133</td>\n",
       "      <td>0.003256</td>\n",
       "      <td>1</td>\n",
       "    </tr>\n",
       "    <tr>\n",
       "      <th>68</th>\n",
       "      <td>153.294617</td>\n",
       "      <td>0.387013</td>\n",
       "      <td>0.050577</td>\n",
       "      <td>0.004475</td>\n",
       "      <td>0.75</td>\n",
       "      <td>0</td>\n",
       "      <td>0.1</td>\n",
       "      <td>10</td>\n",
       "      <td>100</td>\n",
       "      <td>0.8</td>\n",
       "      <td>0.773438</td>\n",
       "      <td>0.765988</td>\n",
       "      <td>0.761991</td>\n",
       "      <td>0.773396</td>\n",
       "      <td>0.770671</td>\n",
       "      <td>0.769097</td>\n",
       "      <td>0.004471</td>\n",
       "      <td>2</td>\n",
       "    </tr>\n",
       "    <tr>\n",
       "      <th>87</th>\n",
       "      <td>162.759562</td>\n",
       "      <td>0.443875</td>\n",
       "      <td>0.047843</td>\n",
       "      <td>0.001305</td>\n",
       "      <td>0.75</td>\n",
       "      <td>1</td>\n",
       "      <td>0.1</td>\n",
       "      <td>10</td>\n",
       "      <td>100</td>\n",
       "      <td>1</td>\n",
       "      <td>0.771621</td>\n",
       "      <td>0.764898</td>\n",
       "      <td>0.765080</td>\n",
       "      <td>0.775032</td>\n",
       "      <td>0.767218</td>\n",
       "      <td>0.768770</td>\n",
       "      <td>0.003959</td>\n",
       "      <td>3</td>\n",
       "    </tr>\n",
       "    <tr>\n",
       "      <th>80</th>\n",
       "      <td>166.781102</td>\n",
       "      <td>0.266503</td>\n",
       "      <td>0.053892</td>\n",
       "      <td>0.002323</td>\n",
       "      <td>0.75</td>\n",
       "      <td>1</td>\n",
       "      <td>0.05</td>\n",
       "      <td>10</td>\n",
       "      <td>100</td>\n",
       "      <td>0.8</td>\n",
       "      <td>0.769440</td>\n",
       "      <td>0.769077</td>\n",
       "      <td>0.762173</td>\n",
       "      <td>0.773578</td>\n",
       "      <td>0.768126</td>\n",
       "      <td>0.768479</td>\n",
       "      <td>0.003665</td>\n",
       "      <td>4</td>\n",
       "    </tr>\n",
       "    <tr>\n",
       "      <th>88</th>\n",
       "      <td>270.245414</td>\n",
       "      <td>0.914239</td>\n",
       "      <td>0.061137</td>\n",
       "      <td>0.006146</td>\n",
       "      <td>0.75</td>\n",
       "      <td>1</td>\n",
       "      <td>0.1</td>\n",
       "      <td>15</td>\n",
       "      <td>100</td>\n",
       "      <td>0.8</td>\n",
       "      <td>0.767442</td>\n",
       "      <td>0.767442</td>\n",
       "      <td>0.760901</td>\n",
       "      <td>0.775577</td>\n",
       "      <td>0.769217</td>\n",
       "      <td>0.768116</td>\n",
       "      <td>0.004687</td>\n",
       "      <td>5</td>\n",
       "    </tr>\n",
       "  </tbody>\n",
       "</table>\n",
       "</div>"
      ],
      "text/plain": [
       "    mean_fit_time  std_fit_time  mean_score_time  std_score_time  \\\n",
       "82     281.972918      0.450273         0.068374        0.003282   \n",
       "68     153.294617      0.387013         0.050577        0.004475   \n",
       "87     162.759562      0.443875         0.047843        0.001305   \n",
       "80     166.781102      0.266503         0.053892        0.002323   \n",
       "88     270.245414      0.914239         0.061137        0.006146   \n",
       "\n",
       "   param_colsample_bytree param_gamma param_learning_rate param_max_depth  \\\n",
       "82                   0.75           1                0.05              15   \n",
       "68                   0.75           0                 0.1              10   \n",
       "87                   0.75           1                 0.1              10   \n",
       "80                   0.75           1                0.05              10   \n",
       "88                   0.75           1                 0.1              15   \n",
       "\n",
       "   param_n_estimators param_subsample  split0_test_score  split1_test_score  \\\n",
       "82                100             0.8           0.767624           0.769622   \n",
       "68                100             0.8           0.773438           0.765988   \n",
       "87                100               1           0.771621           0.764898   \n",
       "80                100             0.8           0.769440           0.769077   \n",
       "88                100             0.8           0.767442           0.767442   \n",
       "\n",
       "    split2_test_score  split3_test_score  split4_test_score  mean_test_score  \\\n",
       "82           0.764172           0.774123           0.770125         0.769133   \n",
       "68           0.761991           0.773396           0.770671         0.769097   \n",
       "87           0.765080           0.775032           0.767218         0.768770   \n",
       "80           0.762173           0.773578           0.768126         0.768479   \n",
       "88           0.760901           0.775577           0.769217         0.768116   \n",
       "\n",
       "    std_test_score  rank_test_score  \n",
       "82        0.003256                1  \n",
       "68        0.004471                2  \n",
       "87        0.003959                3  \n",
       "80        0.003665                4  \n",
       "88        0.004687                5  "
      ]
     },
     "execution_count": 47,
     "metadata": {},
     "output_type": "execute_result"
    }
   ],
   "source": [
    "pd.DataFrame(xgb_grid.cv_results_).drop(columns='params').sort_values('rank_test_score')[0:5]"
   ]
  },
  {
   "cell_type": "code",
   "execution_count": 48,
   "metadata": {},
   "outputs": [
    {
     "name": "stdout",
     "output_type": "stream",
     "text": [
      "Fitting 5 folds for each of 6 candidates, totalling 30 fits\n"
     ]
    },
    {
     "name": "stderr",
     "output_type": "stream",
     "text": [
      "[Parallel(n_jobs=-1)]: Using backend LokyBackend with 16 concurrent workers.\n",
      "[Parallel(n_jobs=-1)]: Done  30 out of  30 | elapsed:  9.7min remaining:    0.0s\n",
      "[Parallel(n_jobs=-1)]: Done  30 out of  30 | elapsed:  9.7min finished\n",
      "/Users/davidwismer/opt/anaconda3/lib/python3.8/site-packages/xgboost/sklearn.py:1146: UserWarning: The use of label encoder in XGBClassifier is deprecated and will be removed in a future release. To remove this warning, do the following: 1) Pass option use_label_encoder=False when constructing XGBClassifier object; and 2) Encode your labels (y) as integers starting with 0, i.e. 0, 1, 2, ..., [num_class - 1].\n",
      "  warnings.warn(label_encoder_deprecation_msg, UserWarning)\n"
     ]
    },
    {
     "name": "stdout",
     "output_type": "stream",
     "text": [
      "[11:54:02] WARNING: /Users/travis/build/dmlc/xgboost/src/learner.cc:1095: Starting in XGBoost 1.3.0, the default evaluation metric used with the objective 'multi:softprob' was changed from 'merror' to 'mlogloss'. Explicitly set eval_metric if you'd like to restore the old behavior.\n",
      "XGBClassifier(base_score=0.5, booster='gbtree', colsample_bylevel=1,\n",
      "              colsample_bynode=1, colsample_bytree=0.75, gamma=1, gpu_id=-1,\n",
      "              importance_type='gain', interaction_constraints='',\n",
      "              learning_rate=0.05, max_delta_step=0, max_depth=15,\n",
      "              min_child_weight=1, missing=nan, monotone_constraints='()',\n",
      "              n_estimators=100, n_jobs=16, num_parallel_tree=1,\n",
      "              objective='multi:softprob', random_state=13, reg_alpha=0,\n",
      "              reg_lambda=1, scale_pos_weight=None, subsample=0.8,\n",
      "              tree_method='exact', validate_parameters=1, verbosity=None)\n"
     ]
    }
   ],
   "source": [
    "# Hyperparameter CV Test - Round 2\n",
    "parameters = {'learning_rate' : [0.05, 0.075, 0.1],\n",
    "              'n_estimators' : [100],\n",
    "              'max_depth' : [15, 30],\n",
    "              'subsample' : [0.8],\n",
    "              'colsample_bytree' : [0.75],\n",
    "              'gamma' : [1]\n",
    "             }\n",
    "\n",
    "# clf = ensemble.RandomForestRegressor(n_estimators=500, n_jobs=1, verbose=1)\n",
    "xgb_grid = GridSearchCV(XGBClassifier(random_state=rs), param_grid=parameters, cv=5, n_jobs=-1, verbose=1)\n",
    "xgb_grid.fit(x_train, y_train)\n",
    "print(xgb_grid.best_estimator_)"
   ]
  },
  {
   "cell_type": "code",
   "execution_count": 50,
   "metadata": {},
   "outputs": [
    {
     "data": {
      "text/html": [
       "<div>\n",
       "<style scoped>\n",
       "    .dataframe tbody tr th:only-of-type {\n",
       "        vertical-align: middle;\n",
       "    }\n",
       "\n",
       "    .dataframe tbody tr th {\n",
       "        vertical-align: top;\n",
       "    }\n",
       "\n",
       "    .dataframe thead th {\n",
       "        text-align: right;\n",
       "    }\n",
       "</style>\n",
       "<table border=\"1\" class=\"dataframe\">\n",
       "  <thead>\n",
       "    <tr style=\"text-align: right;\">\n",
       "      <th></th>\n",
       "      <th>mean_fit_time</th>\n",
       "      <th>std_fit_time</th>\n",
       "      <th>mean_score_time</th>\n",
       "      <th>std_score_time</th>\n",
       "      <th>param_colsample_bytree</th>\n",
       "      <th>param_gamma</th>\n",
       "      <th>param_learning_rate</th>\n",
       "      <th>param_max_depth</th>\n",
       "      <th>param_n_estimators</th>\n",
       "      <th>param_subsample</th>\n",
       "      <th>split0_test_score</th>\n",
       "      <th>split1_test_score</th>\n",
       "      <th>split2_test_score</th>\n",
       "      <th>split3_test_score</th>\n",
       "      <th>split4_test_score</th>\n",
       "      <th>mean_test_score</th>\n",
       "      <th>std_test_score</th>\n",
       "      <th>rank_test_score</th>\n",
       "    </tr>\n",
       "  </thead>\n",
       "  <tbody>\n",
       "    <tr>\n",
       "      <th>0</th>\n",
       "      <td>239.974297</td>\n",
       "      <td>0.489229</td>\n",
       "      <td>0.085780</td>\n",
       "      <td>0.003861</td>\n",
       "      <td>0.75</td>\n",
       "      <td>1</td>\n",
       "      <td>0.05</td>\n",
       "      <td>15</td>\n",
       "      <td>100</td>\n",
       "      <td>0.8</td>\n",
       "      <td>0.767624</td>\n",
       "      <td>0.769622</td>\n",
       "      <td>0.764172</td>\n",
       "      <td>0.774123</td>\n",
       "      <td>0.770125</td>\n",
       "      <td>0.769133</td>\n",
       "      <td>0.003256</td>\n",
       "      <td>1</td>\n",
       "    </tr>\n",
       "    <tr>\n",
       "      <th>1</th>\n",
       "      <td>365.301093</td>\n",
       "      <td>0.712210</td>\n",
       "      <td>0.086653</td>\n",
       "      <td>0.002934</td>\n",
       "      <td>0.75</td>\n",
       "      <td>1</td>\n",
       "      <td>0.05</td>\n",
       "      <td>30</td>\n",
       "      <td>100</td>\n",
       "      <td>0.8</td>\n",
       "      <td>0.769622</td>\n",
       "      <td>0.769622</td>\n",
       "      <td>0.760719</td>\n",
       "      <td>0.772851</td>\n",
       "      <td>0.769035</td>\n",
       "      <td>0.768370</td>\n",
       "      <td>0.004054</td>\n",
       "      <td>2</td>\n",
       "    </tr>\n",
       "    <tr>\n",
       "      <th>2</th>\n",
       "      <td>230.828138</td>\n",
       "      <td>0.610826</td>\n",
       "      <td>0.063906</td>\n",
       "      <td>0.001805</td>\n",
       "      <td>0.75</td>\n",
       "      <td>1</td>\n",
       "      <td>0.075</td>\n",
       "      <td>15</td>\n",
       "      <td>100</td>\n",
       "      <td>0.8</td>\n",
       "      <td>0.770531</td>\n",
       "      <td>0.766533</td>\n",
       "      <td>0.761810</td>\n",
       "      <td>0.770852</td>\n",
       "      <td>0.771397</td>\n",
       "      <td>0.768225</td>\n",
       "      <td>0.003641</td>\n",
       "      <td>3</td>\n",
       "    </tr>\n",
       "    <tr>\n",
       "      <th>4</th>\n",
       "      <td>224.880588</td>\n",
       "      <td>0.877405</td>\n",
       "      <td>0.054290</td>\n",
       "      <td>0.006607</td>\n",
       "      <td>0.75</td>\n",
       "      <td>1</td>\n",
       "      <td>0.1</td>\n",
       "      <td>15</td>\n",
       "      <td>100</td>\n",
       "      <td>0.8</td>\n",
       "      <td>0.767442</td>\n",
       "      <td>0.767442</td>\n",
       "      <td>0.760901</td>\n",
       "      <td>0.775577</td>\n",
       "      <td>0.769217</td>\n",
       "      <td>0.768116</td>\n",
       "      <td>0.004687</td>\n",
       "      <td>4</td>\n",
       "    </tr>\n",
       "    <tr>\n",
       "      <th>5</th>\n",
       "      <td>232.744590</td>\n",
       "      <td>37.078811</td>\n",
       "      <td>0.042923</td>\n",
       "      <td>0.008899</td>\n",
       "      <td>0.75</td>\n",
       "      <td>1</td>\n",
       "      <td>0.1</td>\n",
       "      <td>30</td>\n",
       "      <td>100</td>\n",
       "      <td>0.8</td>\n",
       "      <td>0.764898</td>\n",
       "      <td>0.765262</td>\n",
       "      <td>0.761628</td>\n",
       "      <td>0.774850</td>\n",
       "      <td>0.766128</td>\n",
       "      <td>0.766553</td>\n",
       "      <td>0.004420</td>\n",
       "      <td>5</td>\n",
       "    </tr>\n",
       "  </tbody>\n",
       "</table>\n",
       "</div>"
      ],
      "text/plain": [
       "   mean_fit_time  std_fit_time  mean_score_time  std_score_time  \\\n",
       "0     239.974297      0.489229         0.085780        0.003861   \n",
       "1     365.301093      0.712210         0.086653        0.002934   \n",
       "2     230.828138      0.610826         0.063906        0.001805   \n",
       "4     224.880588      0.877405         0.054290        0.006607   \n",
       "5     232.744590     37.078811         0.042923        0.008899   \n",
       "\n",
       "  param_colsample_bytree param_gamma param_learning_rate param_max_depth  \\\n",
       "0                   0.75           1                0.05              15   \n",
       "1                   0.75           1                0.05              30   \n",
       "2                   0.75           1               0.075              15   \n",
       "4                   0.75           1                 0.1              15   \n",
       "5                   0.75           1                 0.1              30   \n",
       "\n",
       "  param_n_estimators param_subsample  split0_test_score  split1_test_score  \\\n",
       "0                100             0.8           0.767624           0.769622   \n",
       "1                100             0.8           0.769622           0.769622   \n",
       "2                100             0.8           0.770531           0.766533   \n",
       "4                100             0.8           0.767442           0.767442   \n",
       "5                100             0.8           0.764898           0.765262   \n",
       "\n",
       "   split2_test_score  split3_test_score  split4_test_score  mean_test_score  \\\n",
       "0           0.764172           0.774123           0.770125         0.769133   \n",
       "1           0.760719           0.772851           0.769035         0.768370   \n",
       "2           0.761810           0.770852           0.771397         0.768225   \n",
       "4           0.760901           0.775577           0.769217         0.768116   \n",
       "5           0.761628           0.774850           0.766128         0.766553   \n",
       "\n",
       "   std_test_score  rank_test_score  \n",
       "0        0.003256                1  \n",
       "1        0.004054                2  \n",
       "2        0.003641                3  \n",
       "4        0.004687                4  \n",
       "5        0.004420                5  "
      ]
     },
     "execution_count": 50,
     "metadata": {},
     "output_type": "execute_result"
    }
   ],
   "source": [
    "pd.DataFrame(xgb_grid.cv_results_).drop(columns='params').sort_values('rank_test_score')[0:5]"
   ]
  },
  {
   "cell_type": "code",
   "execution_count": 51,
   "metadata": {},
   "outputs": [
    {
     "name": "stdout",
     "output_type": "stream",
     "text": [
      "Fitting 5 folds for each of 8 candidates, totalling 40 fits\n"
     ]
    },
    {
     "name": "stderr",
     "output_type": "stream",
     "text": [
      "[Parallel(n_jobs=-1)]: Using backend LokyBackend with 16 concurrent workers.\n",
      "[Parallel(n_jobs=-1)]: Done  40 out of  40 | elapsed: 18.6min finished\n",
      "/Users/davidwismer/opt/anaconda3/lib/python3.8/site-packages/xgboost/sklearn.py:1146: UserWarning: The use of label encoder in XGBClassifier is deprecated and will be removed in a future release. To remove this warning, do the following: 1) Pass option use_label_encoder=False when constructing XGBClassifier object; and 2) Encode your labels (y) as integers starting with 0, i.e. 0, 1, 2, ..., [num_class - 1].\n",
      "  warnings.warn(label_encoder_deprecation_msg, UserWarning)\n"
     ]
    },
    {
     "name": "stdout",
     "output_type": "stream",
     "text": [
      "[12:16:36] WARNING: /Users/travis/build/dmlc/xgboost/src/learner.cc:1095: Starting in XGBoost 1.3.0, the default evaluation metric used with the objective 'multi:softprob' was changed from 'merror' to 'mlogloss'. Explicitly set eval_metric if you'd like to restore the old behavior.\n",
      "XGBClassifier(base_score=0.5, booster='gbtree', colsample_bylevel=1,\n",
      "              colsample_bynode=1, colsample_bytree=0.75, gamma=1, gpu_id=-1,\n",
      "              importance_type='gain', interaction_constraints='',\n",
      "              learning_rate=0.06, max_delta_step=0, max_depth=15,\n",
      "              min_child_weight=1, missing=nan, monotone_constraints='()',\n",
      "              n_estimators=200, n_jobs=16, num_parallel_tree=1,\n",
      "              objective='multi:softprob', random_state=13, reg_alpha=0,\n",
      "              reg_lambda=1, scale_pos_weight=None, subsample=0.8,\n",
      "              tree_method='exact', validate_parameters=1, verbosity=None)\n"
     ]
    }
   ],
   "source": [
    "# Hyperparameter CV Test - Round 3\n",
    "parameters = {'learning_rate' : [0.05, 0.06],\n",
    "              'n_estimators' : [100, 200],\n",
    "              'max_depth' : [15, 30],\n",
    "              'subsample' : [0.8],\n",
    "              'colsample_bytree' : [0.75],\n",
    "              'gamma' : [1]\n",
    "             }\n",
    "\n",
    "# clf = ensemble.RandomForestRegressor(n_estimators=500, n_jobs=1, verbose=1)\n",
    "xgb_grid = GridSearchCV(XGBClassifier(random_state=rs), param_grid=parameters, cv=5, n_jobs=-1, verbose=1)\n",
    "xgb_grid.fit(x_train, y_train)\n",
    "print(xgb_grid.best_estimator_)"
   ]
  },
  {
   "cell_type": "code",
   "execution_count": 52,
   "metadata": {},
   "outputs": [
    {
     "data": {
      "text/html": [
       "<div>\n",
       "<style scoped>\n",
       "    .dataframe tbody tr th:only-of-type {\n",
       "        vertical-align: middle;\n",
       "    }\n",
       "\n",
       "    .dataframe tbody tr th {\n",
       "        vertical-align: top;\n",
       "    }\n",
       "\n",
       "    .dataframe thead th {\n",
       "        text-align: right;\n",
       "    }\n",
       "</style>\n",
       "<table border=\"1\" class=\"dataframe\">\n",
       "  <thead>\n",
       "    <tr style=\"text-align: right;\">\n",
       "      <th></th>\n",
       "      <th>mean_fit_time</th>\n",
       "      <th>std_fit_time</th>\n",
       "      <th>mean_score_time</th>\n",
       "      <th>std_score_time</th>\n",
       "      <th>param_colsample_bytree</th>\n",
       "      <th>param_gamma</th>\n",
       "      <th>param_learning_rate</th>\n",
       "      <th>param_max_depth</th>\n",
       "      <th>param_n_estimators</th>\n",
       "      <th>param_subsample</th>\n",
       "      <th>split0_test_score</th>\n",
       "      <th>split1_test_score</th>\n",
       "      <th>split2_test_score</th>\n",
       "      <th>split3_test_score</th>\n",
       "      <th>split4_test_score</th>\n",
       "      <th>mean_test_score</th>\n",
       "      <th>std_test_score</th>\n",
       "      <th>rank_test_score</th>\n",
       "    </tr>\n",
       "  </thead>\n",
       "  <tbody>\n",
       "    <tr>\n",
       "      <th>5</th>\n",
       "      <td>445.158271</td>\n",
       "      <td>1.952289</td>\n",
       "      <td>0.095777</td>\n",
       "      <td>0.005684</td>\n",
       "      <td>0.75</td>\n",
       "      <td>1</td>\n",
       "      <td>0.06</td>\n",
       "      <td>15</td>\n",
       "      <td>200</td>\n",
       "      <td>0.8</td>\n",
       "      <td>0.770531</td>\n",
       "      <td>0.768714</td>\n",
       "      <td>0.764172</td>\n",
       "      <td>0.775395</td>\n",
       "      <td>0.770671</td>\n",
       "      <td>0.769896</td>\n",
       "      <td>0.003617</td>\n",
       "      <td>1</td>\n",
       "    </tr>\n",
       "    <tr>\n",
       "      <th>1</th>\n",
       "      <td>442.885345</td>\n",
       "      <td>0.890761</td>\n",
       "      <td>0.115489</td>\n",
       "      <td>0.015984</td>\n",
       "      <td>0.75</td>\n",
       "      <td>1</td>\n",
       "      <td>0.05</td>\n",
       "      <td>15</td>\n",
       "      <td>200</td>\n",
       "      <td>0.8</td>\n",
       "      <td>0.767987</td>\n",
       "      <td>0.767260</td>\n",
       "      <td>0.764898</td>\n",
       "      <td>0.773941</td>\n",
       "      <td>0.773033</td>\n",
       "      <td>0.769424</td>\n",
       "      <td>0.003483</td>\n",
       "      <td>2</td>\n",
       "    </tr>\n",
       "    <tr>\n",
       "      <th>0</th>\n",
       "      <td>227.136528</td>\n",
       "      <td>0.498428</td>\n",
       "      <td>0.063576</td>\n",
       "      <td>0.003291</td>\n",
       "      <td>0.75</td>\n",
       "      <td>1</td>\n",
       "      <td>0.05</td>\n",
       "      <td>15</td>\n",
       "      <td>100</td>\n",
       "      <td>0.8</td>\n",
       "      <td>0.767624</td>\n",
       "      <td>0.769622</td>\n",
       "      <td>0.764172</td>\n",
       "      <td>0.774123</td>\n",
       "      <td>0.770125</td>\n",
       "      <td>0.769133</td>\n",
       "      <td>0.003256</td>\n",
       "      <td>3</td>\n",
       "    </tr>\n",
       "    <tr>\n",
       "      <th>3</th>\n",
       "      <td>726.527752</td>\n",
       "      <td>1.525195</td>\n",
       "      <td>0.122087</td>\n",
       "      <td>0.016311</td>\n",
       "      <td>0.75</td>\n",
       "      <td>1</td>\n",
       "      <td>0.05</td>\n",
       "      <td>30</td>\n",
       "      <td>200</td>\n",
       "      <td>0.8</td>\n",
       "      <td>0.769985</td>\n",
       "      <td>0.767442</td>\n",
       "      <td>0.763990</td>\n",
       "      <td>0.773396</td>\n",
       "      <td>0.770852</td>\n",
       "      <td>0.769133</td>\n",
       "      <td>0.003199</td>\n",
       "      <td>3</td>\n",
       "    </tr>\n",
       "    <tr>\n",
       "      <th>7</th>\n",
       "      <td>348.198002</td>\n",
       "      <td>71.161988</td>\n",
       "      <td>0.067858</td>\n",
       "      <td>0.016337</td>\n",
       "      <td>0.75</td>\n",
       "      <td>1</td>\n",
       "      <td>0.06</td>\n",
       "      <td>30</td>\n",
       "      <td>200</td>\n",
       "      <td>0.8</td>\n",
       "      <td>0.766715</td>\n",
       "      <td>0.768532</td>\n",
       "      <td>0.761446</td>\n",
       "      <td>0.774668</td>\n",
       "      <td>0.773215</td>\n",
       "      <td>0.768915</td>\n",
       "      <td>0.004740</td>\n",
       "      <td>5</td>\n",
       "    </tr>\n",
       "  </tbody>\n",
       "</table>\n",
       "</div>"
      ],
      "text/plain": [
       "   mean_fit_time  std_fit_time  mean_score_time  std_score_time  \\\n",
       "5     445.158271      1.952289         0.095777        0.005684   \n",
       "1     442.885345      0.890761         0.115489        0.015984   \n",
       "0     227.136528      0.498428         0.063576        0.003291   \n",
       "3     726.527752      1.525195         0.122087        0.016311   \n",
       "7     348.198002     71.161988         0.067858        0.016337   \n",
       "\n",
       "  param_colsample_bytree param_gamma param_learning_rate param_max_depth  \\\n",
       "5                   0.75           1                0.06              15   \n",
       "1                   0.75           1                0.05              15   \n",
       "0                   0.75           1                0.05              15   \n",
       "3                   0.75           1                0.05              30   \n",
       "7                   0.75           1                0.06              30   \n",
       "\n",
       "  param_n_estimators param_subsample  split0_test_score  split1_test_score  \\\n",
       "5                200             0.8           0.770531           0.768714   \n",
       "1                200             0.8           0.767987           0.767260   \n",
       "0                100             0.8           0.767624           0.769622   \n",
       "3                200             0.8           0.769985           0.767442   \n",
       "7                200             0.8           0.766715           0.768532   \n",
       "\n",
       "   split2_test_score  split3_test_score  split4_test_score  mean_test_score  \\\n",
       "5           0.764172           0.775395           0.770671         0.769896   \n",
       "1           0.764898           0.773941           0.773033         0.769424   \n",
       "0           0.764172           0.774123           0.770125         0.769133   \n",
       "3           0.763990           0.773396           0.770852         0.769133   \n",
       "7           0.761446           0.774668           0.773215         0.768915   \n",
       "\n",
       "   std_test_score  rank_test_score  \n",
       "5        0.003617                1  \n",
       "1        0.003483                2  \n",
       "0        0.003256                3  \n",
       "3        0.003199                3  \n",
       "7        0.004740                5  "
      ]
     },
     "execution_count": 52,
     "metadata": {},
     "output_type": "execute_result"
    }
   ],
   "source": [
    "pd.DataFrame(xgb_grid.cv_results_).drop(columns='params').sort_values('rank_test_score')[0:5]"
   ]
  },
  {
   "cell_type": "code",
   "execution_count": 53,
   "metadata": {},
   "outputs": [
    {
     "name": "stdout",
     "output_type": "stream",
     "text": [
      "Fitting 5 folds for each of 3 candidates, totalling 15 fits\n"
     ]
    },
    {
     "name": "stderr",
     "output_type": "stream",
     "text": [
      "[Parallel(n_jobs=-1)]: Using backend LokyBackend with 16 concurrent workers.\n",
      "[Parallel(n_jobs=-1)]: Done  15 out of  15 | elapsed: 20.6min finished\n",
      "/Users/davidwismer/opt/anaconda3/lib/python3.8/site-packages/xgboost/sklearn.py:1146: UserWarning: The use of label encoder in XGBClassifier is deprecated and will be removed in a future release. To remove this warning, do the following: 1) Pass option use_label_encoder=False when constructing XGBClassifier object; and 2) Encode your labels (y) as integers starting with 0, i.e. 0, 1, 2, ..., [num_class - 1].\n",
      "  warnings.warn(label_encoder_deprecation_msg, UserWarning)\n"
     ]
    },
    {
     "name": "stdout",
     "output_type": "stream",
     "text": [
      "[12:39:36] WARNING: /Users/travis/build/dmlc/xgboost/src/learner.cc:1095: Starting in XGBoost 1.3.0, the default evaluation metric used with the objective 'multi:softprob' was changed from 'merror' to 'mlogloss'. Explicitly set eval_metric if you'd like to restore the old behavior.\n",
      "XGBClassifier(base_score=0.5, booster='gbtree', colsample_bylevel=1,\n",
      "              colsample_bynode=1, colsample_bytree=0.75, gamma=1, gpu_id=-1,\n",
      "              importance_type='gain', interaction_constraints='',\n",
      "              learning_rate=0.06, max_delta_step=0, max_depth=15,\n",
      "              min_child_weight=1, missing=nan, monotone_constraints='()',\n",
      "              n_estimators=500, n_jobs=16, num_parallel_tree=1,\n",
      "              objective='multi:softprob', random_state=13, reg_alpha=0,\n",
      "              reg_lambda=1, scale_pos_weight=None, subsample=0.8,\n",
      "              tree_method='exact', validate_parameters=1, verbosity=None)\n"
     ]
    }
   ],
   "source": [
    "# Hyperparameter CV Test - Round 4\n",
    "parameters = {'learning_rate' : [0.06],\n",
    "              'n_estimators' : [200, 500, 1000],\n",
    "              'max_depth' : [15],\n",
    "              'subsample' : [0.8],\n",
    "              'colsample_bytree' : [0.75],\n",
    "              'gamma' : [1]\n",
    "             }\n",
    "\n",
    "# clf = ensemble.RandomForestRegressor(n_estimators=500, n_jobs=1, verbose=1)\n",
    "xgb_grid = GridSearchCV(XGBClassifier(random_state=rs), param_grid=parameters, cv=5, n_jobs=-1, verbose=1)\n",
    "xgb_grid.fit(x_train, y_train)\n",
    "print(xgb_grid.best_estimator_)"
   ]
  },
  {
   "cell_type": "code",
   "execution_count": 54,
   "metadata": {},
   "outputs": [
    {
     "data": {
      "text/html": [
       "<div>\n",
       "<style scoped>\n",
       "    .dataframe tbody tr th:only-of-type {\n",
       "        vertical-align: middle;\n",
       "    }\n",
       "\n",
       "    .dataframe tbody tr th {\n",
       "        vertical-align: top;\n",
       "    }\n",
       "\n",
       "    .dataframe thead th {\n",
       "        text-align: right;\n",
       "    }\n",
       "</style>\n",
       "<table border=\"1\" class=\"dataframe\">\n",
       "  <thead>\n",
       "    <tr style=\"text-align: right;\">\n",
       "      <th></th>\n",
       "      <th>mean_fit_time</th>\n",
       "      <th>std_fit_time</th>\n",
       "      <th>mean_score_time</th>\n",
       "      <th>std_score_time</th>\n",
       "      <th>param_colsample_bytree</th>\n",
       "      <th>param_gamma</th>\n",
       "      <th>param_learning_rate</th>\n",
       "      <th>param_max_depth</th>\n",
       "      <th>param_n_estimators</th>\n",
       "      <th>param_subsample</th>\n",
       "      <th>split0_test_score</th>\n",
       "      <th>split1_test_score</th>\n",
       "      <th>split2_test_score</th>\n",
       "      <th>split3_test_score</th>\n",
       "      <th>split4_test_score</th>\n",
       "      <th>mean_test_score</th>\n",
       "      <th>std_test_score</th>\n",
       "      <th>rank_test_score</th>\n",
       "    </tr>\n",
       "  </thead>\n",
       "  <tbody>\n",
       "    <tr>\n",
       "      <th>1</th>\n",
       "      <td>876.980160</td>\n",
       "      <td>1.086795</td>\n",
       "      <td>0.215075</td>\n",
       "      <td>0.050775</td>\n",
       "      <td>0.75</td>\n",
       "      <td>1</td>\n",
       "      <td>0.06</td>\n",
       "      <td>15</td>\n",
       "      <td>500</td>\n",
       "      <td>0.8</td>\n",
       "      <td>0.770894</td>\n",
       "      <td>0.767987</td>\n",
       "      <td>0.765262</td>\n",
       "      <td>0.774850</td>\n",
       "      <td>0.771761</td>\n",
       "      <td>0.770151</td>\n",
       "      <td>0.003281</td>\n",
       "      <td>1</td>\n",
       "    </tr>\n",
       "    <tr>\n",
       "      <th>2</th>\n",
       "      <td>1233.242498</td>\n",
       "      <td>0.715664</td>\n",
       "      <td>0.252185</td>\n",
       "      <td>0.070744</td>\n",
       "      <td>0.75</td>\n",
       "      <td>1</td>\n",
       "      <td>0.06</td>\n",
       "      <td>15</td>\n",
       "      <td>1000</td>\n",
       "      <td>0.8</td>\n",
       "      <td>0.769804</td>\n",
       "      <td>0.768532</td>\n",
       "      <td>0.767078</td>\n",
       "      <td>0.773941</td>\n",
       "      <td>0.771034</td>\n",
       "      <td>0.770078</td>\n",
       "      <td>0.002337</td>\n",
       "      <td>2</td>\n",
       "    </tr>\n",
       "    <tr>\n",
       "      <th>0</th>\n",
       "      <td>447.645209</td>\n",
       "      <td>1.115750</td>\n",
       "      <td>0.093598</td>\n",
       "      <td>0.007027</td>\n",
       "      <td>0.75</td>\n",
       "      <td>1</td>\n",
       "      <td>0.06</td>\n",
       "      <td>15</td>\n",
       "      <td>200</td>\n",
       "      <td>0.8</td>\n",
       "      <td>0.770531</td>\n",
       "      <td>0.768714</td>\n",
       "      <td>0.764172</td>\n",
       "      <td>0.775395</td>\n",
       "      <td>0.770671</td>\n",
       "      <td>0.769896</td>\n",
       "      <td>0.003617</td>\n",
       "      <td>3</td>\n",
       "    </tr>\n",
       "  </tbody>\n",
       "</table>\n",
       "</div>"
      ],
      "text/plain": [
       "   mean_fit_time  std_fit_time  mean_score_time  std_score_time  \\\n",
       "1     876.980160      1.086795         0.215075        0.050775   \n",
       "2    1233.242498      0.715664         0.252185        0.070744   \n",
       "0     447.645209      1.115750         0.093598        0.007027   \n",
       "\n",
       "  param_colsample_bytree param_gamma param_learning_rate param_max_depth  \\\n",
       "1                   0.75           1                0.06              15   \n",
       "2                   0.75           1                0.06              15   \n",
       "0                   0.75           1                0.06              15   \n",
       "\n",
       "  param_n_estimators param_subsample  split0_test_score  split1_test_score  \\\n",
       "1                500             0.8           0.770894           0.767987   \n",
       "2               1000             0.8           0.769804           0.768532   \n",
       "0                200             0.8           0.770531           0.768714   \n",
       "\n",
       "   split2_test_score  split3_test_score  split4_test_score  mean_test_score  \\\n",
       "1           0.765262           0.774850           0.771761         0.770151   \n",
       "2           0.767078           0.773941           0.771034         0.770078   \n",
       "0           0.764172           0.775395           0.770671         0.769896   \n",
       "\n",
       "   std_test_score  rank_test_score  \n",
       "1        0.003281                1  \n",
       "2        0.002337                2  \n",
       "0        0.003617                3  "
      ]
     },
     "execution_count": 54,
     "metadata": {},
     "output_type": "execute_result"
    }
   ],
   "source": [
    "pd.DataFrame(xgb_grid.cv_results_).drop(columns='params').sort_values('rank_test_score')[0:5]"
   ]
  },
  {
   "cell_type": "code",
   "execution_count": null,
   "metadata": {},
   "outputs": [],
   "source": [
    "# Best XGBoost Classifier Perforer\n",
    "parameters = {'learning_rate' : [0.06],\n",
    "              'n_estimators' : [500], \n",
    "              'max_depth' : [15], \n",
    "              'subsample' : [0.8],\n",
    "              'colsample_bytree' : [0.75],\n",
    "              'gamma' : [1]\n",
    "             }"
   ]
  },
  {
   "cell_type": "markdown",
   "metadata": {},
   "source": [
    "#### Random Forest"
   ]
  },
  {
   "cell_type": "code",
   "execution_count": 760,
   "metadata": {},
   "outputs": [
    {
     "name": "stdout",
     "output_type": "stream",
     "text": [
      "Fitting 5 folds for each of 108 candidates, totalling 540 fits\n"
     ]
    },
    {
     "name": "stderr",
     "output_type": "stream",
     "text": [
      "[Parallel(n_jobs=-1)]: Using backend LokyBackend with 16 concurrent workers.\n",
      "[Parallel(n_jobs=-1)]: Done  18 tasks      | elapsed:   30.1s\n",
      "[Parallel(n_jobs=-1)]: Done 168 tasks      | elapsed:  3.3min\n",
      "[Parallel(n_jobs=-1)]: Done 418 tasks      | elapsed:  7.3min\n",
      "[Parallel(n_jobs=-1)]: Done 540 out of 540 | elapsed: 10.0min finished\n"
     ]
    },
    {
     "name": "stdout",
     "output_type": "stream",
     "text": [
      "RandomForestClassifier(n_estimators=500, random_state=13)\n"
     ]
    }
   ],
   "source": [
    "# Hyperparameter CV Test - Round 1\n",
    "parameters = {'bootstrap' : [True],\n",
    "              'max_features' : ['auto'],\n",
    "              'n_estimators' : [100, 300, 500], \n",
    "              'max_depth' : [None, 5, 15, 30], \n",
    "              'min_samples_leaf' : [1, 5, 10],\n",
    "              'min_samples_split' : [2, 5, 10]\n",
    "             }\n",
    "\n",
    "rf_grid = GridSearchCV(RandomForestClassifier(random_state=rs), param_grid=parameters, cv=5, n_jobs=-1, verbose=1)\n",
    "rf_grid.fit(x_train, y_train)\n",
    "print(rf_grid.best_estimator_)"
   ]
  },
  {
   "cell_type": "code",
   "execution_count": 761,
   "metadata": {},
   "outputs": [
    {
     "data": {
      "text/html": [
       "<div>\n",
       "<style scoped>\n",
       "    .dataframe tbody tr th:only-of-type {\n",
       "        vertical-align: middle;\n",
       "    }\n",
       "\n",
       "    .dataframe tbody tr th {\n",
       "        vertical-align: top;\n",
       "    }\n",
       "\n",
       "    .dataframe thead th {\n",
       "        text-align: right;\n",
       "    }\n",
       "</style>\n",
       "<table border=\"1\" class=\"dataframe\">\n",
       "  <thead>\n",
       "    <tr style=\"text-align: right;\">\n",
       "      <th></th>\n",
       "      <th>mean_fit_time</th>\n",
       "      <th>std_fit_time</th>\n",
       "      <th>mean_score_time</th>\n",
       "      <th>std_score_time</th>\n",
       "      <th>param_bootstrap</th>\n",
       "      <th>param_max_depth</th>\n",
       "      <th>param_max_features</th>\n",
       "      <th>param_min_samples_leaf</th>\n",
       "      <th>param_min_samples_split</th>\n",
       "      <th>param_n_estimators</th>\n",
       "      <th>split0_test_score</th>\n",
       "      <th>split1_test_score</th>\n",
       "      <th>split2_test_score</th>\n",
       "      <th>split3_test_score</th>\n",
       "      <th>split4_test_score</th>\n",
       "      <th>mean_test_score</th>\n",
       "      <th>std_test_score</th>\n",
       "      <th>rank_test_score</th>\n",
       "    </tr>\n",
       "  </thead>\n",
       "  <tbody>\n",
       "    <tr>\n",
       "      <th>2</th>\n",
       "      <td>35.305544</td>\n",
       "      <td>0.061595</td>\n",
       "      <td>1.075322</td>\n",
       "      <td>0.008034</td>\n",
       "      <td>True</td>\n",
       "      <td>None</td>\n",
       "      <td>auto</td>\n",
       "      <td>1</td>\n",
       "      <td>2</td>\n",
       "      <td>500</td>\n",
       "      <td>0.763990</td>\n",
       "      <td>0.756904</td>\n",
       "      <td>0.753452</td>\n",
       "      <td>0.762675</td>\n",
       "      <td>0.757223</td>\n",
       "      <td>0.758849</td>\n",
       "      <td>0.003915</td>\n",
       "      <td>1</td>\n",
       "    </tr>\n",
       "    <tr>\n",
       "      <th>83</th>\n",
       "      <td>41.133115</td>\n",
       "      <td>0.053456</td>\n",
       "      <td>1.136577</td>\n",
       "      <td>0.018382</td>\n",
       "      <td>True</td>\n",
       "      <td>30</td>\n",
       "      <td>auto</td>\n",
       "      <td>1</td>\n",
       "      <td>2</td>\n",
       "      <td>500</td>\n",
       "      <td>0.764898</td>\n",
       "      <td>0.757631</td>\n",
       "      <td>0.752907</td>\n",
       "      <td>0.761221</td>\n",
       "      <td>0.756860</td>\n",
       "      <td>0.758703</td>\n",
       "      <td>0.004071</td>\n",
       "      <td>2</td>\n",
       "    </tr>\n",
       "    <tr>\n",
       "      <th>86</th>\n",
       "      <td>39.295221</td>\n",
       "      <td>0.082322</td>\n",
       "      <td>1.050073</td>\n",
       "      <td>0.010520</td>\n",
       "      <td>True</td>\n",
       "      <td>30</td>\n",
       "      <td>auto</td>\n",
       "      <td>1</td>\n",
       "      <td>5</td>\n",
       "      <td>500</td>\n",
       "      <td>0.763445</td>\n",
       "      <td>0.756904</td>\n",
       "      <td>0.752907</td>\n",
       "      <td>0.761766</td>\n",
       "      <td>0.757223</td>\n",
       "      <td>0.758449</td>\n",
       "      <td>0.003757</td>\n",
       "      <td>3</td>\n",
       "    </tr>\n",
       "    <tr>\n",
       "      <th>5</th>\n",
       "      <td>35.764841</td>\n",
       "      <td>0.240512</td>\n",
       "      <td>1.093637</td>\n",
       "      <td>0.057424</td>\n",
       "      <td>True</td>\n",
       "      <td>None</td>\n",
       "      <td>auto</td>\n",
       "      <td>1</td>\n",
       "      <td>5</td>\n",
       "      <td>500</td>\n",
       "      <td>0.762536</td>\n",
       "      <td>0.755451</td>\n",
       "      <td>0.752180</td>\n",
       "      <td>0.761948</td>\n",
       "      <td>0.757768</td>\n",
       "      <td>0.757977</td>\n",
       "      <td>0.003914</td>\n",
       "      <td>4</td>\n",
       "    </tr>\n",
       "    <tr>\n",
       "      <th>4</th>\n",
       "      <td>20.843695</td>\n",
       "      <td>0.247816</td>\n",
       "      <td>0.592446</td>\n",
       "      <td>0.011002</td>\n",
       "      <td>True</td>\n",
       "      <td>None</td>\n",
       "      <td>auto</td>\n",
       "      <td>1</td>\n",
       "      <td>5</td>\n",
       "      <td>300</td>\n",
       "      <td>0.762536</td>\n",
       "      <td>0.757812</td>\n",
       "      <td>0.750908</td>\n",
       "      <td>0.761403</td>\n",
       "      <td>0.757223</td>\n",
       "      <td>0.757977</td>\n",
       "      <td>0.004076</td>\n",
       "      <td>5</td>\n",
       "    </tr>\n",
       "  </tbody>\n",
       "</table>\n",
       "</div>"
      ],
      "text/plain": [
       "    mean_fit_time  std_fit_time  mean_score_time  std_score_time  \\\n",
       "2       35.305544      0.061595         1.075322        0.008034   \n",
       "83      41.133115      0.053456         1.136577        0.018382   \n",
       "86      39.295221      0.082322         1.050073        0.010520   \n",
       "5       35.764841      0.240512         1.093637        0.057424   \n",
       "4       20.843695      0.247816         0.592446        0.011002   \n",
       "\n",
       "   param_bootstrap param_max_depth param_max_features param_min_samples_leaf  \\\n",
       "2             True            None               auto                      1   \n",
       "83            True              30               auto                      1   \n",
       "86            True              30               auto                      1   \n",
       "5             True            None               auto                      1   \n",
       "4             True            None               auto                      1   \n",
       "\n",
       "   param_min_samples_split param_n_estimators  split0_test_score  \\\n",
       "2                        2                500           0.763990   \n",
       "83                       2                500           0.764898   \n",
       "86                       5                500           0.763445   \n",
       "5                        5                500           0.762536   \n",
       "4                        5                300           0.762536   \n",
       "\n",
       "    split1_test_score  split2_test_score  split3_test_score  \\\n",
       "2            0.756904           0.753452           0.762675   \n",
       "83           0.757631           0.752907           0.761221   \n",
       "86           0.756904           0.752907           0.761766   \n",
       "5            0.755451           0.752180           0.761948   \n",
       "4            0.757812           0.750908           0.761403   \n",
       "\n",
       "    split4_test_score  mean_test_score  std_test_score  rank_test_score  \n",
       "2            0.757223         0.758849        0.003915                1  \n",
       "83           0.756860         0.758703        0.004071                2  \n",
       "86           0.757223         0.758449        0.003757                3  \n",
       "5            0.757768         0.757977        0.003914                4  \n",
       "4            0.757223         0.757977        0.004076                5  "
      ]
     },
     "execution_count": 761,
     "metadata": {},
     "output_type": "execute_result"
    }
   ],
   "source": [
    "pd.DataFrame(rf_grid.cv_results_).drop(columns='params').sort_values('rank_test_score')[0:5]"
   ]
  },
  {
   "cell_type": "code",
   "execution_count": 762,
   "metadata": {},
   "outputs": [
    {
     "name": "stdout",
     "output_type": "stream",
     "text": [
      "Fitting 5 folds for each of 36 candidates, totalling 180 fits\n"
     ]
    },
    {
     "name": "stderr",
     "output_type": "stream",
     "text": [
      "[Parallel(n_jobs=-1)]: Using backend LokyBackend with 16 concurrent workers.\n",
      "[Parallel(n_jobs=-1)]: Done  18 tasks      | elapsed:  1.4min\n",
      "[Parallel(n_jobs=-1)]: Done 180 out of 180 | elapsed: 11.8min finished\n"
     ]
    },
    {
     "name": "stdout",
     "output_type": "stream",
     "text": [
      "RandomForestClassifier(max_depth=30, n_estimators=1000, random_state=13)\n"
     ]
    }
   ],
   "source": [
    "# Hyperparameter CV Test - Round 2\n",
    "parameters = {'bootstrap' : [True],\n",
    "              'max_features' : ['auto'],\n",
    "              'n_estimators' : [500, 750, 1000], \n",
    "              'max_depth' : [None, 30, 50], \n",
    "              'min_samples_split' : [2, 3, 4, 5]\n",
    "             }\n",
    "\n",
    "rf_grid = GridSearchCV(RandomForestClassifier(random_state=rs), param_grid=parameters, cv=5, n_jobs=-1, verbose=1)\n",
    "rf_grid.fit(x_train, y_train)\n",
    "print(rf_grid.best_estimator_)"
   ]
  },
  {
   "cell_type": "code",
   "execution_count": 763,
   "metadata": {},
   "outputs": [
    {
     "data": {
      "text/html": [
       "<div>\n",
       "<style scoped>\n",
       "    .dataframe tbody tr th:only-of-type {\n",
       "        vertical-align: middle;\n",
       "    }\n",
       "\n",
       "    .dataframe tbody tr th {\n",
       "        vertical-align: top;\n",
       "    }\n",
       "\n",
       "    .dataframe thead th {\n",
       "        text-align: right;\n",
       "    }\n",
       "</style>\n",
       "<table border=\"1\" class=\"dataframe\">\n",
       "  <thead>\n",
       "    <tr style=\"text-align: right;\">\n",
       "      <th></th>\n",
       "      <th>mean_fit_time</th>\n",
       "      <th>std_fit_time</th>\n",
       "      <th>mean_score_time</th>\n",
       "      <th>std_score_time</th>\n",
       "      <th>param_bootstrap</th>\n",
       "      <th>param_max_depth</th>\n",
       "      <th>param_max_features</th>\n",
       "      <th>param_min_samples_split</th>\n",
       "      <th>param_n_estimators</th>\n",
       "      <th>split0_test_score</th>\n",
       "      <th>split1_test_score</th>\n",
       "      <th>split2_test_score</th>\n",
       "      <th>split3_test_score</th>\n",
       "      <th>split4_test_score</th>\n",
       "      <th>mean_test_score</th>\n",
       "      <th>std_test_score</th>\n",
       "      <th>rank_test_score</th>\n",
       "    </tr>\n",
       "  </thead>\n",
       "  <tbody>\n",
       "    <tr>\n",
       "      <th>14</th>\n",
       "      <td>82.091154</td>\n",
       "      <td>0.245004</td>\n",
       "      <td>3.497163</td>\n",
       "      <td>0.197214</td>\n",
       "      <td>True</td>\n",
       "      <td>30</td>\n",
       "      <td>auto</td>\n",
       "      <td>2</td>\n",
       "      <td>1000</td>\n",
       "      <td>0.764535</td>\n",
       "      <td>0.758176</td>\n",
       "      <td>0.753815</td>\n",
       "      <td>0.763220</td>\n",
       "      <td>0.758677</td>\n",
       "      <td>0.759685</td>\n",
       "      <td>0.003841</td>\n",
       "      <td>1</td>\n",
       "    </tr>\n",
       "    <tr>\n",
       "      <th>29</th>\n",
       "      <td>80.407710</td>\n",
       "      <td>0.262278</td>\n",
       "      <td>2.235989</td>\n",
       "      <td>0.063695</td>\n",
       "      <td>True</td>\n",
       "      <td>50</td>\n",
       "      <td>auto</td>\n",
       "      <td>3</td>\n",
       "      <td>1000</td>\n",
       "      <td>0.766170</td>\n",
       "      <td>0.757086</td>\n",
       "      <td>0.754360</td>\n",
       "      <td>0.762857</td>\n",
       "      <td>0.757587</td>\n",
       "      <td>0.759612</td>\n",
       "      <td>0.004280</td>\n",
       "      <td>2</td>\n",
       "    </tr>\n",
       "    <tr>\n",
       "      <th>5</th>\n",
       "      <td>81.331302</td>\n",
       "      <td>0.452900</td>\n",
       "      <td>2.271380</td>\n",
       "      <td>0.111170</td>\n",
       "      <td>True</td>\n",
       "      <td>None</td>\n",
       "      <td>auto</td>\n",
       "      <td>3</td>\n",
       "      <td>1000</td>\n",
       "      <td>0.766170</td>\n",
       "      <td>0.757086</td>\n",
       "      <td>0.754360</td>\n",
       "      <td>0.762857</td>\n",
       "      <td>0.757587</td>\n",
       "      <td>0.759612</td>\n",
       "      <td>0.004280</td>\n",
       "      <td>2</td>\n",
       "    </tr>\n",
       "    <tr>\n",
       "      <th>13</th>\n",
       "      <td>61.336194</td>\n",
       "      <td>0.129474</td>\n",
       "      <td>2.417812</td>\n",
       "      <td>0.333904</td>\n",
       "      <td>True</td>\n",
       "      <td>30</td>\n",
       "      <td>auto</td>\n",
       "      <td>2</td>\n",
       "      <td>750</td>\n",
       "      <td>0.763626</td>\n",
       "      <td>0.758176</td>\n",
       "      <td>0.755451</td>\n",
       "      <td>0.762130</td>\n",
       "      <td>0.758314</td>\n",
       "      <td>0.759539</td>\n",
       "      <td>0.002949</td>\n",
       "      <td>4</td>\n",
       "    </tr>\n",
       "    <tr>\n",
       "      <th>1</th>\n",
       "      <td>55.635553</td>\n",
       "      <td>0.071098</td>\n",
       "      <td>4.948134</td>\n",
       "      <td>0.361561</td>\n",
       "      <td>True</td>\n",
       "      <td>None</td>\n",
       "      <td>auto</td>\n",
       "      <td>2</td>\n",
       "      <td>750</td>\n",
       "      <td>0.762355</td>\n",
       "      <td>0.757267</td>\n",
       "      <td>0.754360</td>\n",
       "      <td>0.762493</td>\n",
       "      <td>0.760494</td>\n",
       "      <td>0.759394</td>\n",
       "      <td>0.003145</td>\n",
       "      <td>5</td>\n",
       "    </tr>\n",
       "  </tbody>\n",
       "</table>\n",
       "</div>"
      ],
      "text/plain": [
       "    mean_fit_time  std_fit_time  mean_score_time  std_score_time  \\\n",
       "14      82.091154      0.245004         3.497163        0.197214   \n",
       "29      80.407710      0.262278         2.235989        0.063695   \n",
       "5       81.331302      0.452900         2.271380        0.111170   \n",
       "13      61.336194      0.129474         2.417812        0.333904   \n",
       "1       55.635553      0.071098         4.948134        0.361561   \n",
       "\n",
       "   param_bootstrap param_max_depth param_max_features param_min_samples_split  \\\n",
       "14            True              30               auto                       2   \n",
       "29            True              50               auto                       3   \n",
       "5             True            None               auto                       3   \n",
       "13            True              30               auto                       2   \n",
       "1             True            None               auto                       2   \n",
       "\n",
       "   param_n_estimators  split0_test_score  split1_test_score  \\\n",
       "14               1000           0.764535           0.758176   \n",
       "29               1000           0.766170           0.757086   \n",
       "5                1000           0.766170           0.757086   \n",
       "13                750           0.763626           0.758176   \n",
       "1                 750           0.762355           0.757267   \n",
       "\n",
       "    split2_test_score  split3_test_score  split4_test_score  mean_test_score  \\\n",
       "14           0.753815           0.763220           0.758677         0.759685   \n",
       "29           0.754360           0.762857           0.757587         0.759612   \n",
       "5            0.754360           0.762857           0.757587         0.759612   \n",
       "13           0.755451           0.762130           0.758314         0.759539   \n",
       "1            0.754360           0.762493           0.760494         0.759394   \n",
       "\n",
       "    std_test_score  rank_test_score  \n",
       "14        0.003841                1  \n",
       "29        0.004280                2  \n",
       "5         0.004280                2  \n",
       "13        0.002949                4  \n",
       "1         0.003145                5  "
      ]
     },
     "execution_count": 763,
     "metadata": {},
     "output_type": "execute_result"
    }
   ],
   "source": [
    "pd.DataFrame(rf_grid.cv_results_).drop(columns='params').sort_values('rank_test_score')[0:5]"
   ]
  },
  {
   "cell_type": "code",
   "execution_count": 764,
   "metadata": {},
   "outputs": [
    {
     "name": "stdout",
     "output_type": "stream",
     "text": [
      "Fitting 5 folds for each of 36 candidates, totalling 180 fits\n"
     ]
    },
    {
     "name": "stderr",
     "output_type": "stream",
     "text": [
      "[Parallel(n_jobs=-1)]: Using backend LokyBackend with 16 concurrent workers.\n",
      "[Parallel(n_jobs=-1)]: Done  18 tasks      | elapsed:  4.5min\n",
      "[Parallel(n_jobs=-1)]: Done 180 out of 180 | elapsed: 30.6min finished\n"
     ]
    },
    {
     "name": "stdout",
     "output_type": "stream",
     "text": [
      "RandomForestClassifier(max_depth=30, n_estimators=3000, random_state=13)\n"
     ]
    }
   ],
   "source": [
    "# Hyperparameter CV Test - Round 3\n",
    "parameters = {'bootstrap' : [True],\n",
    "              'max_features' : ['auto'],\n",
    "              'n_estimators' : [1000, 2000, 3000], \n",
    "              'max_depth' : [30, 50, 70], \n",
    "              'min_samples_leaf' : [1, 5],\n",
    "              'min_samples_split' : [2, 3]\n",
    "             }\n",
    "\n",
    "rf_grid = GridSearchCV(RandomForestClassifier(random_state=rs), param_grid=parameters, cv=5, n_jobs=-1, verbose=1)\n",
    "rf_grid.fit(x_train, y_train)\n",
    "print(rf_grid.best_estimator_)"
   ]
  },
  {
   "cell_type": "code",
   "execution_count": 765,
   "metadata": {},
   "outputs": [
    {
     "data": {
      "text/html": [
       "<div>\n",
       "<style scoped>\n",
       "    .dataframe tbody tr th:only-of-type {\n",
       "        vertical-align: middle;\n",
       "    }\n",
       "\n",
       "    .dataframe tbody tr th {\n",
       "        vertical-align: top;\n",
       "    }\n",
       "\n",
       "    .dataframe thead th {\n",
       "        text-align: right;\n",
       "    }\n",
       "</style>\n",
       "<table border=\"1\" class=\"dataframe\">\n",
       "  <thead>\n",
       "    <tr style=\"text-align: right;\">\n",
       "      <th></th>\n",
       "      <th>mean_fit_time</th>\n",
       "      <th>std_fit_time</th>\n",
       "      <th>mean_score_time</th>\n",
       "      <th>std_score_time</th>\n",
       "      <th>param_bootstrap</th>\n",
       "      <th>param_max_depth</th>\n",
       "      <th>param_max_features</th>\n",
       "      <th>param_min_samples_leaf</th>\n",
       "      <th>param_min_samples_split</th>\n",
       "      <th>param_n_estimators</th>\n",
       "      <th>split0_test_score</th>\n",
       "      <th>split1_test_score</th>\n",
       "      <th>split2_test_score</th>\n",
       "      <th>split3_test_score</th>\n",
       "      <th>split4_test_score</th>\n",
       "      <th>mean_test_score</th>\n",
       "      <th>std_test_score</th>\n",
       "      <th>rank_test_score</th>\n",
       "    </tr>\n",
       "  </thead>\n",
       "  <tbody>\n",
       "    <tr>\n",
       "      <th>2</th>\n",
       "      <td>245.854928</td>\n",
       "      <td>0.354332</td>\n",
       "      <td>23.677651</td>\n",
       "      <td>0.411336</td>\n",
       "      <td>True</td>\n",
       "      <td>30</td>\n",
       "      <td>auto</td>\n",
       "      <td>1</td>\n",
       "      <td>2</td>\n",
       "      <td>3000</td>\n",
       "      <td>0.765080</td>\n",
       "      <td>0.758721</td>\n",
       "      <td>0.755087</td>\n",
       "      <td>0.762675</td>\n",
       "      <td>0.758495</td>\n",
       "      <td>0.760012</td>\n",
       "      <td>0.003493</td>\n",
       "      <td>1</td>\n",
       "    </tr>\n",
       "    <tr>\n",
       "      <th>0</th>\n",
       "      <td>75.110345</td>\n",
       "      <td>0.261229</td>\n",
       "      <td>5.473007</td>\n",
       "      <td>0.206539</td>\n",
       "      <td>True</td>\n",
       "      <td>30</td>\n",
       "      <td>auto</td>\n",
       "      <td>1</td>\n",
       "      <td>2</td>\n",
       "      <td>1000</td>\n",
       "      <td>0.764535</td>\n",
       "      <td>0.758176</td>\n",
       "      <td>0.753815</td>\n",
       "      <td>0.763220</td>\n",
       "      <td>0.758677</td>\n",
       "      <td>0.759685</td>\n",
       "      <td>0.003841</td>\n",
       "      <td>2</td>\n",
       "    </tr>\n",
       "    <tr>\n",
       "      <th>26</th>\n",
       "      <td>254.205860</td>\n",
       "      <td>0.750165</td>\n",
       "      <td>19.343383</td>\n",
       "      <td>1.252700</td>\n",
       "      <td>True</td>\n",
       "      <td>70</td>\n",
       "      <td>auto</td>\n",
       "      <td>1</td>\n",
       "      <td>2</td>\n",
       "      <td>3000</td>\n",
       "      <td>0.764717</td>\n",
       "      <td>0.758358</td>\n",
       "      <td>0.753634</td>\n",
       "      <td>0.762857</td>\n",
       "      <td>0.758677</td>\n",
       "      <td>0.759648</td>\n",
       "      <td>0.003867</td>\n",
       "      <td>3</td>\n",
       "    </tr>\n",
       "    <tr>\n",
       "      <th>14</th>\n",
       "      <td>253.904983</td>\n",
       "      <td>0.740412</td>\n",
       "      <td>21.161616</td>\n",
       "      <td>1.920730</td>\n",
       "      <td>True</td>\n",
       "      <td>50</td>\n",
       "      <td>auto</td>\n",
       "      <td>1</td>\n",
       "      <td>2</td>\n",
       "      <td>3000</td>\n",
       "      <td>0.764717</td>\n",
       "      <td>0.758358</td>\n",
       "      <td>0.753634</td>\n",
       "      <td>0.762857</td>\n",
       "      <td>0.758677</td>\n",
       "      <td>0.759648</td>\n",
       "      <td>0.003867</td>\n",
       "      <td>3</td>\n",
       "    </tr>\n",
       "    <tr>\n",
       "      <th>27</th>\n",
       "      <td>84.069335</td>\n",
       "      <td>0.264914</td>\n",
       "      <td>4.618063</td>\n",
       "      <td>0.519080</td>\n",
       "      <td>True</td>\n",
       "      <td>70</td>\n",
       "      <td>auto</td>\n",
       "      <td>1</td>\n",
       "      <td>3</td>\n",
       "      <td>1000</td>\n",
       "      <td>0.766170</td>\n",
       "      <td>0.757086</td>\n",
       "      <td>0.754360</td>\n",
       "      <td>0.762857</td>\n",
       "      <td>0.757587</td>\n",
       "      <td>0.759612</td>\n",
       "      <td>0.004280</td>\n",
       "      <td>5</td>\n",
       "    </tr>\n",
       "  </tbody>\n",
       "</table>\n",
       "</div>"
      ],
      "text/plain": [
       "    mean_fit_time  std_fit_time  mean_score_time  std_score_time  \\\n",
       "2      245.854928      0.354332        23.677651        0.411336   \n",
       "0       75.110345      0.261229         5.473007        0.206539   \n",
       "26     254.205860      0.750165        19.343383        1.252700   \n",
       "14     253.904983      0.740412        21.161616        1.920730   \n",
       "27      84.069335      0.264914         4.618063        0.519080   \n",
       "\n",
       "   param_bootstrap param_max_depth param_max_features param_min_samples_leaf  \\\n",
       "2             True              30               auto                      1   \n",
       "0             True              30               auto                      1   \n",
       "26            True              70               auto                      1   \n",
       "14            True              50               auto                      1   \n",
       "27            True              70               auto                      1   \n",
       "\n",
       "   param_min_samples_split param_n_estimators  split0_test_score  \\\n",
       "2                        2               3000           0.765080   \n",
       "0                        2               1000           0.764535   \n",
       "26                       2               3000           0.764717   \n",
       "14                       2               3000           0.764717   \n",
       "27                       3               1000           0.766170   \n",
       "\n",
       "    split1_test_score  split2_test_score  split3_test_score  \\\n",
       "2            0.758721           0.755087           0.762675   \n",
       "0            0.758176           0.753815           0.763220   \n",
       "26           0.758358           0.753634           0.762857   \n",
       "14           0.758358           0.753634           0.762857   \n",
       "27           0.757086           0.754360           0.762857   \n",
       "\n",
       "    split4_test_score  mean_test_score  std_test_score  rank_test_score  \n",
       "2            0.758495         0.760012        0.003493                1  \n",
       "0            0.758677         0.759685        0.003841                2  \n",
       "26           0.758677         0.759648        0.003867                3  \n",
       "14           0.758677         0.759648        0.003867                3  \n",
       "27           0.757587         0.759612        0.004280                5  "
      ]
     },
     "execution_count": 765,
     "metadata": {},
     "output_type": "execute_result"
    }
   ],
   "source": [
    "pd.DataFrame(rf_grid.cv_results_).drop(columns='params').sort_values('rank_test_score')[0:5]"
   ]
  },
  {
   "cell_type": "code",
   "execution_count": 766,
   "metadata": {},
   "outputs": [
    {
     "name": "stdout",
     "output_type": "stream",
     "text": [
      "Fitting 5 folds for each of 10 candidates, totalling 50 fits\n"
     ]
    },
    {
     "name": "stderr",
     "output_type": "stream",
     "text": [
      "[Parallel(n_jobs=-1)]: Using backend LokyBackend with 16 concurrent workers.\n",
      "[Parallel(n_jobs=-1)]: Done  18 tasks      | elapsed:  9.4min\n",
      "[Parallel(n_jobs=-1)]: Done  50 out of  50 | elapsed: 20.8min finished\n"
     ]
    },
    {
     "name": "stdout",
     "output_type": "stream",
     "text": [
      "RandomForestClassifier(max_depth=30, n_estimators=3000, random_state=13)\n"
     ]
    }
   ],
   "source": [
    "# Hyperparameter CV Test - Round 4\n",
    "parameters = {'bootstrap' : [True],\n",
    "              'max_features' : ['auto'],\n",
    "              'n_estimators' : [3000, 5000], \n",
    "              'max_depth' : [20, 25, 30, 35, 40], \n",
    "              'min_samples_leaf' : [1],\n",
    "              'min_samples_split' : [2]\n",
    "             }\n",
    "\n",
    "rf_grid = GridSearchCV(RandomForestClassifier(random_state=rs), param_grid=parameters, cv=5, n_jobs=-1, verbose=1)\n",
    "rf_grid.fit(x_train, y_train)\n",
    "print(rf_grid.best_estimator_)"
   ]
  },
  {
   "cell_type": "code",
   "execution_count": null,
   "metadata": {},
   "outputs": [],
   "source": [
    "# Hyperparameter CV Test - Round 5\n",
    "parameters = {'bootstrap' : [True],\n",
    "              'max_features' : ['auto'],\n",
    "              'n_estimators' : [3000, 5000], \n",
    "              'max_depth' : [20, 30, 40], \n",
    "              'min_samples_leaf' : [1, 3, 5],\n",
    "              'min_samples_split' : [2, 5, 10]\n",
    "             }\n",
    "\n",
    "rf_grid = GridSearchCV(RandomForestClassifier(random_state=rs), param_grid=parameters, cv=5, n_jobs=-1, verbose=2)\n",
    "rf_grid.fit(x_train, y_train)\n",
    "print(rf_grid.best_estimator_)"
   ]
  },
  {
   "cell_type": "code",
   "execution_count": 777,
   "metadata": {},
   "outputs": [
    {
     "name": "stdout",
     "output_type": "stream",
     "text": [
      "Fitting 5 folds for each of 6 candidates, totalling 30 fits\n"
     ]
    },
    {
     "name": "stderr",
     "output_type": "stream",
     "text": [
      "[Parallel(n_jobs=-1)]: Using backend LokyBackend with 16 concurrent workers.\n",
      "[Parallel(n_jobs=-1)]: Done  30 out of  30 | elapsed: 14.9min remaining:    0.0s\n",
      "[Parallel(n_jobs=-1)]: Done  30 out of  30 | elapsed: 14.9min finished\n"
     ]
    },
    {
     "name": "stdout",
     "output_type": "stream",
     "text": [
      "RandomForestClassifier(max_depth=40, n_estimators=5000, random_state=13)\n"
     ]
    }
   ],
   "source": [
    "# Hyperparameter CV Test - Round 6\n",
    "parameters = {'bootstrap' : [True],\n",
    "              'max_features' : ['auto'],\n",
    "              'n_estimators' : [5000], \n",
    "              'max_depth' : [20, 30, 40], \n",
    "              'min_samples_leaf' : [1],\n",
    "              'min_samples_split' : [2, 5]\n",
    "             }\n",
    "\n",
    "rf_grid = GridSearchCV(RandomForestClassifier(random_state=rs), param_grid=parameters, cv=5, n_jobs=-1, verbose=1)\n",
    "rf_grid.fit(x_train, y_train)\n",
    "print(rf_grid.best_estimator_)"
   ]
  },
  {
   "cell_type": "code",
   "execution_count": 779,
   "metadata": {},
   "outputs": [
    {
     "name": "stdout",
     "output_type": "stream",
     "text": [
      "Fitting 5 folds for each of 3 candidates, totalling 15 fits\n"
     ]
    },
    {
     "name": "stderr",
     "output_type": "stream",
     "text": [
      "[Parallel(n_jobs=-1)]: Using backend LokyBackend with 16 concurrent workers.\n",
      "[Parallel(n_jobs=-1)]: Done  15 out of  15 | elapsed:  4.1min finished\n"
     ]
    },
    {
     "name": "stdout",
     "output_type": "stream",
     "text": [
      "RandomForestClassifier(max_depth=30, n_estimators=3000, random_state=13)\n"
     ]
    }
   ],
   "source": [
    "# Hyperparameter CV Test - Round 7\n",
    "parameters = {'bootstrap' : [True],\n",
    "              'max_features' : ['auto'],\n",
    "              'n_estimators' : [3000], \n",
    "              'max_depth' : [20, 30, 40], \n",
    "              'min_samples_leaf' : [1],\n",
    "              'min_samples_split' : [2]\n",
    "             }\n",
    "\n",
    "rf_grid = GridSearchCV(RandomForestClassifier(random_state=rs), param_grid=parameters, cv=5, n_jobs=-1, verbose=1)\n",
    "rf_grid.fit(x_train, y_train)\n",
    "print(rf_grid.best_estimator_)"
   ]
  },
  {
   "cell_type": "code",
   "execution_count": 780,
   "metadata": {},
   "outputs": [
    {
     "data": {
      "text/html": [
       "<div>\n",
       "<style scoped>\n",
       "    .dataframe tbody tr th:only-of-type {\n",
       "        vertical-align: middle;\n",
       "    }\n",
       "\n",
       "    .dataframe tbody tr th {\n",
       "        vertical-align: top;\n",
       "    }\n",
       "\n",
       "    .dataframe thead th {\n",
       "        text-align: right;\n",
       "    }\n",
       "</style>\n",
       "<table border=\"1\" class=\"dataframe\">\n",
       "  <thead>\n",
       "    <tr style=\"text-align: right;\">\n",
       "      <th></th>\n",
       "      <th>mean_fit_time</th>\n",
       "      <th>std_fit_time</th>\n",
       "      <th>mean_score_time</th>\n",
       "      <th>std_score_time</th>\n",
       "      <th>param_bootstrap</th>\n",
       "      <th>param_max_depth</th>\n",
       "      <th>param_max_features</th>\n",
       "      <th>param_min_samples_leaf</th>\n",
       "      <th>param_min_samples_split</th>\n",
       "      <th>param_n_estimators</th>\n",
       "      <th>split0_test_score</th>\n",
       "      <th>split1_test_score</th>\n",
       "      <th>split2_test_score</th>\n",
       "      <th>split3_test_score</th>\n",
       "      <th>split4_test_score</th>\n",
       "      <th>mean_test_score</th>\n",
       "      <th>std_test_score</th>\n",
       "      <th>rank_test_score</th>\n",
       "    </tr>\n",
       "  </thead>\n",
       "  <tbody>\n",
       "    <tr>\n",
       "      <th>1</th>\n",
       "      <td>213.914520</td>\n",
       "      <td>0.244483</td>\n",
       "      <td>28.988567</td>\n",
       "      <td>0.227665</td>\n",
       "      <td>True</td>\n",
       "      <td>30</td>\n",
       "      <td>auto</td>\n",
       "      <td>1</td>\n",
       "      <td>2</td>\n",
       "      <td>3000</td>\n",
       "      <td>0.765080</td>\n",
       "      <td>0.758721</td>\n",
       "      <td>0.755087</td>\n",
       "      <td>0.762675</td>\n",
       "      <td>0.758495</td>\n",
       "      <td>0.760012</td>\n",
       "      <td>0.003493</td>\n",
       "      <td>1</td>\n",
       "    </tr>\n",
       "    <tr>\n",
       "      <th>0</th>\n",
       "      <td>209.404680</td>\n",
       "      <td>0.215100</td>\n",
       "      <td>32.863391</td>\n",
       "      <td>0.139943</td>\n",
       "      <td>True</td>\n",
       "      <td>20</td>\n",
       "      <td>auto</td>\n",
       "      <td>1</td>\n",
       "      <td>2</td>\n",
       "      <td>3000</td>\n",
       "      <td>0.765262</td>\n",
       "      <td>0.757994</td>\n",
       "      <td>0.755087</td>\n",
       "      <td>0.761766</td>\n",
       "      <td>0.759404</td>\n",
       "      <td>0.759903</td>\n",
       "      <td>0.003443</td>\n",
       "      <td>2</td>\n",
       "    </tr>\n",
       "    <tr>\n",
       "      <th>2</th>\n",
       "      <td>213.892563</td>\n",
       "      <td>0.163606</td>\n",
       "      <td>29.006618</td>\n",
       "      <td>0.130167</td>\n",
       "      <td>True</td>\n",
       "      <td>40</td>\n",
       "      <td>auto</td>\n",
       "      <td>1</td>\n",
       "      <td>2</td>\n",
       "      <td>3000</td>\n",
       "      <td>0.764898</td>\n",
       "      <td>0.758358</td>\n",
       "      <td>0.753634</td>\n",
       "      <td>0.762857</td>\n",
       "      <td>0.758677</td>\n",
       "      <td>0.759685</td>\n",
       "      <td>0.003915</td>\n",
       "      <td>3</td>\n",
       "    </tr>\n",
       "  </tbody>\n",
       "</table>\n",
       "</div>"
      ],
      "text/plain": [
       "   mean_fit_time  std_fit_time  mean_score_time  std_score_time  \\\n",
       "1     213.914520      0.244483        28.988567        0.227665   \n",
       "0     209.404680      0.215100        32.863391        0.139943   \n",
       "2     213.892563      0.163606        29.006618        0.130167   \n",
       "\n",
       "  param_bootstrap param_max_depth param_max_features param_min_samples_leaf  \\\n",
       "1            True              30               auto                      1   \n",
       "0            True              20               auto                      1   \n",
       "2            True              40               auto                      1   \n",
       "\n",
       "  param_min_samples_split param_n_estimators  split0_test_score  \\\n",
       "1                       2               3000           0.765080   \n",
       "0                       2               3000           0.765262   \n",
       "2                       2               3000           0.764898   \n",
       "\n",
       "   split1_test_score  split2_test_score  split3_test_score  split4_test_score  \\\n",
       "1           0.758721           0.755087           0.762675           0.758495   \n",
       "0           0.757994           0.755087           0.761766           0.759404   \n",
       "2           0.758358           0.753634           0.762857           0.758677   \n",
       "\n",
       "   mean_test_score  std_test_score  rank_test_score  \n",
       "1         0.760012        0.003493                1  \n",
       "0         0.759903        0.003443                2  \n",
       "2         0.759685        0.003915                3  "
      ]
     },
     "execution_count": 780,
     "metadata": {},
     "output_type": "execute_result"
    }
   ],
   "source": [
    "pd.DataFrame(rf_grid.cv_results_).drop(columns='params').sort_values('rank_test_score')[0:5]"
   ]
  },
  {
   "cell_type": "code",
   "execution_count": 781,
   "metadata": {},
   "outputs": [
    {
     "name": "stdout",
     "output_type": "stream",
     "text": [
      "Fitting 5 folds for each of 5 candidates, totalling 25 fits\n"
     ]
    },
    {
     "name": "stderr",
     "output_type": "stream",
     "text": [
      "[Parallel(n_jobs=-1)]: Using backend LokyBackend with 16 concurrent workers.\n",
      "[Parallel(n_jobs=-1)]: Done  20 out of  25 | elapsed:   56.1s remaining:   14.0s\n",
      "[Parallel(n_jobs=-1)]: Done  25 out of  25 | elapsed:  1.2min finished\n"
     ]
    },
    {
     "name": "stdout",
     "output_type": "stream",
     "text": [
      "RandomForestClassifier(max_depth=30, n_estimators=1000, random_state=13)\n"
     ]
    }
   ],
   "source": [
    "# Hyperparameter CV Test - Round 8\n",
    "parameters = {'bootstrap' : [True],\n",
    "              'max_features' : ['auto'],\n",
    "              'n_estimators' : [100, 300, 500, 750, 1000], \n",
    "              'max_depth' : [30], \n",
    "              'min_samples_leaf' : [1],\n",
    "              'min_samples_split' : [2]\n",
    "             }\n",
    "\n",
    "rf_grid = GridSearchCV(RandomForestClassifier(random_state=rs), param_grid=parameters, cv=5, n_jobs=-1, verbose=1)\n",
    "rf_grid.fit(x_train, y_train)\n",
    "print(rf_grid.best_estimator_)"
   ]
  },
  {
   "cell_type": "code",
   "execution_count": 782,
   "metadata": {},
   "outputs": [
    {
     "data": {
      "text/html": [
       "<div>\n",
       "<style scoped>\n",
       "    .dataframe tbody tr th:only-of-type {\n",
       "        vertical-align: middle;\n",
       "    }\n",
       "\n",
       "    .dataframe tbody tr th {\n",
       "        vertical-align: top;\n",
       "    }\n",
       "\n",
       "    .dataframe thead th {\n",
       "        text-align: right;\n",
       "    }\n",
       "</style>\n",
       "<table border=\"1\" class=\"dataframe\">\n",
       "  <thead>\n",
       "    <tr style=\"text-align: right;\">\n",
       "      <th></th>\n",
       "      <th>mean_fit_time</th>\n",
       "      <th>std_fit_time</th>\n",
       "      <th>mean_score_time</th>\n",
       "      <th>std_score_time</th>\n",
       "      <th>param_bootstrap</th>\n",
       "      <th>param_max_depth</th>\n",
       "      <th>param_max_features</th>\n",
       "      <th>param_min_samples_leaf</th>\n",
       "      <th>param_min_samples_split</th>\n",
       "      <th>param_n_estimators</th>\n",
       "      <th>split0_test_score</th>\n",
       "      <th>split1_test_score</th>\n",
       "      <th>split2_test_score</th>\n",
       "      <th>split3_test_score</th>\n",
       "      <th>split4_test_score</th>\n",
       "      <th>mean_test_score</th>\n",
       "      <th>std_test_score</th>\n",
       "      <th>rank_test_score</th>\n",
       "    </tr>\n",
       "  </thead>\n",
       "  <tbody>\n",
       "    <tr>\n",
       "      <th>4</th>\n",
       "      <td>49.278001</td>\n",
       "      <td>2.383262</td>\n",
       "      <td>1.206285</td>\n",
       "      <td>0.023854</td>\n",
       "      <td>True</td>\n",
       "      <td>30</td>\n",
       "      <td>auto</td>\n",
       "      <td>1</td>\n",
       "      <td>2</td>\n",
       "      <td>1000</td>\n",
       "      <td>0.764535</td>\n",
       "      <td>0.758176</td>\n",
       "      <td>0.753815</td>\n",
       "      <td>0.763220</td>\n",
       "      <td>0.758677</td>\n",
       "      <td>0.759685</td>\n",
       "      <td>0.003841</td>\n",
       "      <td>1</td>\n",
       "    </tr>\n",
       "    <tr>\n",
       "      <th>3</th>\n",
       "      <td>45.244822</td>\n",
       "      <td>0.795852</td>\n",
       "      <td>1.057005</td>\n",
       "      <td>0.037604</td>\n",
       "      <td>True</td>\n",
       "      <td>30</td>\n",
       "      <td>auto</td>\n",
       "      <td>1</td>\n",
       "      <td>2</td>\n",
       "      <td>750</td>\n",
       "      <td>0.763626</td>\n",
       "      <td>0.758176</td>\n",
       "      <td>0.755451</td>\n",
       "      <td>0.762130</td>\n",
       "      <td>0.758314</td>\n",
       "      <td>0.759539</td>\n",
       "      <td>0.002949</td>\n",
       "      <td>2</td>\n",
       "    </tr>\n",
       "    <tr>\n",
       "      <th>2</th>\n",
       "      <td>33.887882</td>\n",
       "      <td>0.077542</td>\n",
       "      <td>1.039588</td>\n",
       "      <td>0.008045</td>\n",
       "      <td>True</td>\n",
       "      <td>30</td>\n",
       "      <td>auto</td>\n",
       "      <td>1</td>\n",
       "      <td>2</td>\n",
       "      <td>500</td>\n",
       "      <td>0.764898</td>\n",
       "      <td>0.757631</td>\n",
       "      <td>0.752907</td>\n",
       "      <td>0.761221</td>\n",
       "      <td>0.756860</td>\n",
       "      <td>0.758703</td>\n",
       "      <td>0.004071</td>\n",
       "      <td>3</td>\n",
       "    </tr>\n",
       "    <tr>\n",
       "      <th>1</th>\n",
       "      <td>20.390475</td>\n",
       "      <td>0.039422</td>\n",
       "      <td>0.639030</td>\n",
       "      <td>0.013029</td>\n",
       "      <td>True</td>\n",
       "      <td>30</td>\n",
       "      <td>auto</td>\n",
       "      <td>1</td>\n",
       "      <td>2</td>\n",
       "      <td>300</td>\n",
       "      <td>0.763263</td>\n",
       "      <td>0.757631</td>\n",
       "      <td>0.752725</td>\n",
       "      <td>0.760494</td>\n",
       "      <td>0.754316</td>\n",
       "      <td>0.757686</td>\n",
       "      <td>0.003872</td>\n",
       "      <td>4</td>\n",
       "    </tr>\n",
       "    <tr>\n",
       "      <th>0</th>\n",
       "      <td>6.586421</td>\n",
       "      <td>0.031684</td>\n",
       "      <td>0.220395</td>\n",
       "      <td>0.013265</td>\n",
       "      <td>True</td>\n",
       "      <td>30</td>\n",
       "      <td>auto</td>\n",
       "      <td>1</td>\n",
       "      <td>2</td>\n",
       "      <td>100</td>\n",
       "      <td>0.759448</td>\n",
       "      <td>0.753089</td>\n",
       "      <td>0.750727</td>\n",
       "      <td>0.756315</td>\n",
       "      <td>0.755043</td>\n",
       "      <td>0.754924</td>\n",
       "      <td>0.002946</td>\n",
       "      <td>5</td>\n",
       "    </tr>\n",
       "  </tbody>\n",
       "</table>\n",
       "</div>"
      ],
      "text/plain": [
       "   mean_fit_time  std_fit_time  mean_score_time  std_score_time  \\\n",
       "4      49.278001      2.383262         1.206285        0.023854   \n",
       "3      45.244822      0.795852         1.057005        0.037604   \n",
       "2      33.887882      0.077542         1.039588        0.008045   \n",
       "1      20.390475      0.039422         0.639030        0.013029   \n",
       "0       6.586421      0.031684         0.220395        0.013265   \n",
       "\n",
       "  param_bootstrap param_max_depth param_max_features param_min_samples_leaf  \\\n",
       "4            True              30               auto                      1   \n",
       "3            True              30               auto                      1   \n",
       "2            True              30               auto                      1   \n",
       "1            True              30               auto                      1   \n",
       "0            True              30               auto                      1   \n",
       "\n",
       "  param_min_samples_split param_n_estimators  split0_test_score  \\\n",
       "4                       2               1000           0.764535   \n",
       "3                       2                750           0.763626   \n",
       "2                       2                500           0.764898   \n",
       "1                       2                300           0.763263   \n",
       "0                       2                100           0.759448   \n",
       "\n",
       "   split1_test_score  split2_test_score  split3_test_score  split4_test_score  \\\n",
       "4           0.758176           0.753815           0.763220           0.758677   \n",
       "3           0.758176           0.755451           0.762130           0.758314   \n",
       "2           0.757631           0.752907           0.761221           0.756860   \n",
       "1           0.757631           0.752725           0.760494           0.754316   \n",
       "0           0.753089           0.750727           0.756315           0.755043   \n",
       "\n",
       "   mean_test_score  std_test_score  rank_test_score  \n",
       "4         0.759685        0.003841                1  \n",
       "3         0.759539        0.002949                2  \n",
       "2         0.758703        0.004071                3  \n",
       "1         0.757686        0.003872                4  \n",
       "0         0.754924        0.002946                5  "
      ]
     },
     "execution_count": 782,
     "metadata": {},
     "output_type": "execute_result"
    }
   ],
   "source": [
    "pd.DataFrame(rf_grid.cv_results_).drop(columns='params').sort_values('rank_test_score')[0:5]"
   ]
  },
  {
   "cell_type": "code",
   "execution_count": 828,
   "metadata": {},
   "outputs": [],
   "source": [
    "# Best Random Forest performer\n",
    "parameters = {'bootstrap' : [True],\n",
    "              'max_features' : ['auto'],\n",
    "              'n_estimators' : [3000], \n",
    "              'max_depth' : [30], \n",
    "              'min_samples_leaf' : [1],\n",
    "              'min_samples_split' : [2]\n",
    "             }"
   ]
  },
  {
   "cell_type": "markdown",
   "metadata": {},
   "source": [
    "#### Random Forest - Recommendation Data"
   ]
  },
  {
   "cell_type": "code",
   "execution_count": 830,
   "metadata": {},
   "outputs": [],
   "source": [
    "X = model_data_recs[audio_metrics + dummy_vars]\n",
    "Y = model_data_recs['genre']\n",
    "\n",
    "X, x_test, Y, y_test = train_test_split(X, Y, test_size=0.20, random_state=13)\n",
    "x_train, x_val, y_train, y_val = train_test_split(X, Y, test_size=0.25, random_state=13)"
   ]
  },
  {
   "cell_type": "code",
   "execution_count": 831,
   "metadata": {},
   "outputs": [
    {
     "name": "stdout",
     "output_type": "stream",
     "text": [
      "Fitting 5 folds for each of 1 candidates, totalling 5 fits\n"
     ]
    },
    {
     "name": "stderr",
     "output_type": "stream",
     "text": [
      "[Parallel(n_jobs=-1)]: Using backend LokyBackend with 16 concurrent workers.\n",
      "[Parallel(n_jobs=-1)]: Done   5 out of   5 | elapsed:   11.6s finished\n"
     ]
    },
    {
     "name": "stdout",
     "output_type": "stream",
     "text": [
      "RandomForestClassifier(max_depth=30, n_estimators=3000, random_state=13)\n"
     ]
    }
   ],
   "source": [
    "# clf = ensemble.RandomForestRegressor(n_estimators=500, n_jobs=1, verbose=1)\n",
    "rf_grid = GridSearchCV(RandomForestClassifier(random_state=rs), param_grid=parameters, cv=5, n_jobs=-1, verbose=1)\n",
    "rf_grid.fit(x_train, y_train)\n",
    "print(rf_grid.best_estimator_)"
   ]
  },
  {
   "cell_type": "code",
   "execution_count": 832,
   "metadata": {},
   "outputs": [
    {
     "data": {
      "text/html": [
       "<div>\n",
       "<style scoped>\n",
       "    .dataframe tbody tr th:only-of-type {\n",
       "        vertical-align: middle;\n",
       "    }\n",
       "\n",
       "    .dataframe tbody tr th {\n",
       "        vertical-align: top;\n",
       "    }\n",
       "\n",
       "    .dataframe thead th {\n",
       "        text-align: right;\n",
       "    }\n",
       "</style>\n",
       "<table border=\"1\" class=\"dataframe\">\n",
       "  <thead>\n",
       "    <tr style=\"text-align: right;\">\n",
       "      <th></th>\n",
       "      <th>mean_fit_time</th>\n",
       "      <th>std_fit_time</th>\n",
       "      <th>mean_score_time</th>\n",
       "      <th>std_score_time</th>\n",
       "      <th>param_bootstrap</th>\n",
       "      <th>param_max_depth</th>\n",
       "      <th>param_max_features</th>\n",
       "      <th>param_min_samples_leaf</th>\n",
       "      <th>param_min_samples_split</th>\n",
       "      <th>param_n_estimators</th>\n",
       "      <th>split0_test_score</th>\n",
       "      <th>split1_test_score</th>\n",
       "      <th>split2_test_score</th>\n",
       "      <th>split3_test_score</th>\n",
       "      <th>split4_test_score</th>\n",
       "      <th>mean_test_score</th>\n",
       "      <th>std_test_score</th>\n",
       "      <th>rank_test_score</th>\n",
       "    </tr>\n",
       "  </thead>\n",
       "  <tbody>\n",
       "    <tr>\n",
       "      <th>0</th>\n",
       "      <td>9.21856</td>\n",
       "      <td>0.058484</td>\n",
       "      <td>0.393435</td>\n",
       "      <td>0.00565</td>\n",
       "      <td>True</td>\n",
       "      <td>30</td>\n",
       "      <td>auto</td>\n",
       "      <td>1</td>\n",
       "      <td>2</td>\n",
       "      <td>3000</td>\n",
       "      <td>0.761905</td>\n",
       "      <td>0.740476</td>\n",
       "      <td>0.771429</td>\n",
       "      <td>0.780952</td>\n",
       "      <td>0.807143</td>\n",
       "      <td>0.772381</td>\n",
       "      <td>0.021956</td>\n",
       "      <td>1</td>\n",
       "    </tr>\n",
       "  </tbody>\n",
       "</table>\n",
       "</div>"
      ],
      "text/plain": [
       "   mean_fit_time  std_fit_time  mean_score_time  std_score_time  \\\n",
       "0        9.21856      0.058484         0.393435         0.00565   \n",
       "\n",
       "  param_bootstrap param_max_depth param_max_features param_min_samples_leaf  \\\n",
       "0            True              30               auto                      1   \n",
       "\n",
       "  param_min_samples_split param_n_estimators  split0_test_score  \\\n",
       "0                       2               3000           0.761905   \n",
       "\n",
       "   split1_test_score  split2_test_score  split3_test_score  split4_test_score  \\\n",
       "0           0.740476           0.771429           0.780952           0.807143   \n",
       "\n",
       "   mean_test_score  std_test_score  rank_test_score  \n",
       "0         0.772381        0.021956                1  "
      ]
     },
     "execution_count": 832,
     "metadata": {},
     "output_type": "execute_result"
    }
   ],
   "source": [
    "pd.DataFrame(rf_grid.cv_results_).drop(columns='params').sort_values('rank_test_score')[0:5]"
   ]
  },
  {
   "cell_type": "markdown",
   "metadata": {},
   "source": [
    "#### Support Vector Machine"
   ]
  },
  {
   "cell_type": "code",
   "execution_count": 788,
   "metadata": {},
   "outputs": [
    {
     "name": "stdout",
     "output_type": "stream",
     "text": [
      "Fitting 5 folds for each of 25 candidates, totalling 125 fits\n"
     ]
    },
    {
     "name": "stderr",
     "output_type": "stream",
     "text": [
      "[Parallel(n_jobs=1)]: Using backend SequentialBackend with 1 concurrent workers.\n",
      "[Parallel(n_jobs=1)]: Done 125 out of 125 | elapsed: 57.5min finished\n"
     ]
    },
    {
     "name": "stdout",
     "output_type": "stream",
     "text": [
      "SVC(C=1, gamma=0.1)\n"
     ]
    }
   ],
   "source": [
    "parameters = {'C': [0.1, 1, 10, 100, 1000], \n",
    "              'gamma': [1, 0.1, 0.01, 0.001, 0.0001],\n",
    "              'kernel': ['rbf']} \n",
    "  \n",
    "svm_grid = GridSearchCV(svm.SVC(random_state=rs), param_grid=parameters, verbose = 1)\n",
    "svm_grid.fit(x_train_st, y_train)\n",
    "print(svm_grid.best_estimator_)"
   ]
  },
  {
   "cell_type": "code",
   "execution_count": 789,
   "metadata": {},
   "outputs": [
    {
     "data": {
      "text/html": [
       "<div>\n",
       "<style scoped>\n",
       "    .dataframe tbody tr th:only-of-type {\n",
       "        vertical-align: middle;\n",
       "    }\n",
       "\n",
       "    .dataframe tbody tr th {\n",
       "        vertical-align: top;\n",
       "    }\n",
       "\n",
       "    .dataframe thead th {\n",
       "        text-align: right;\n",
       "    }\n",
       "</style>\n",
       "<table border=\"1\" class=\"dataframe\">\n",
       "  <thead>\n",
       "    <tr style=\"text-align: right;\">\n",
       "      <th></th>\n",
       "      <th>mean_fit_time</th>\n",
       "      <th>std_fit_time</th>\n",
       "      <th>mean_score_time</th>\n",
       "      <th>std_score_time</th>\n",
       "      <th>param_C</th>\n",
       "      <th>param_gamma</th>\n",
       "      <th>param_kernel</th>\n",
       "      <th>split0_test_score</th>\n",
       "      <th>split1_test_score</th>\n",
       "      <th>split2_test_score</th>\n",
       "      <th>split3_test_score</th>\n",
       "      <th>split4_test_score</th>\n",
       "      <th>mean_test_score</th>\n",
       "      <th>std_test_score</th>\n",
       "      <th>rank_test_score</th>\n",
       "    </tr>\n",
       "  </thead>\n",
       "  <tbody>\n",
       "    <tr>\n",
       "      <th>6</th>\n",
       "      <td>9.914833</td>\n",
       "      <td>0.081023</td>\n",
       "      <td>2.680622</td>\n",
       "      <td>0.030333</td>\n",
       "      <td>1</td>\n",
       "      <td>0.1</td>\n",
       "      <td>rbf</td>\n",
       "      <td>0.738735</td>\n",
       "      <td>0.726199</td>\n",
       "      <td>0.722202</td>\n",
       "      <td>0.731601</td>\n",
       "      <td>0.726513</td>\n",
       "      <td>0.729050</td>\n",
       "      <td>0.005688</td>\n",
       "      <td>1</td>\n",
       "    </tr>\n",
       "    <tr>\n",
       "      <th>11</th>\n",
       "      <td>13.422931</td>\n",
       "      <td>0.201334</td>\n",
       "      <td>2.850712</td>\n",
       "      <td>0.058100</td>\n",
       "      <td>10</td>\n",
       "      <td>0.1</td>\n",
       "      <td>rbf</td>\n",
       "      <td>0.737645</td>\n",
       "      <td>0.728198</td>\n",
       "      <td>0.716388</td>\n",
       "      <td>0.724332</td>\n",
       "      <td>0.729602</td>\n",
       "      <td>0.727233</td>\n",
       "      <td>0.006942</td>\n",
       "      <td>2</td>\n",
       "    </tr>\n",
       "    <tr>\n",
       "      <th>22</th>\n",
       "      <td>51.174569</td>\n",
       "      <td>2.492654</td>\n",
       "      <td>2.551774</td>\n",
       "      <td>0.014567</td>\n",
       "      <td>1000</td>\n",
       "      <td>0.01</td>\n",
       "      <td>rbf</td>\n",
       "      <td>0.736010</td>\n",
       "      <td>0.722747</td>\n",
       "      <td>0.716388</td>\n",
       "      <td>0.731964</td>\n",
       "      <td>0.724696</td>\n",
       "      <td>0.726361</td>\n",
       "      <td>0.006925</td>\n",
       "      <td>3</td>\n",
       "    </tr>\n",
       "    <tr>\n",
       "      <th>17</th>\n",
       "      <td>15.774720</td>\n",
       "      <td>0.532427</td>\n",
       "      <td>2.638611</td>\n",
       "      <td>0.091345</td>\n",
       "      <td>100</td>\n",
       "      <td>0.01</td>\n",
       "      <td>rbf</td>\n",
       "      <td>0.734375</td>\n",
       "      <td>0.722929</td>\n",
       "      <td>0.719113</td>\n",
       "      <td>0.730147</td>\n",
       "      <td>0.723242</td>\n",
       "      <td>0.725961</td>\n",
       "      <td>0.005510</td>\n",
       "      <td>4</td>\n",
       "    </tr>\n",
       "    <tr>\n",
       "      <th>23</th>\n",
       "      <td>19.049012</td>\n",
       "      <td>0.515522</td>\n",
       "      <td>2.804666</td>\n",
       "      <td>0.071140</td>\n",
       "      <td>1000</td>\n",
       "      <td>0.001</td>\n",
       "      <td>rbf</td>\n",
       "      <td>0.723656</td>\n",
       "      <td>0.710574</td>\n",
       "      <td>0.714753</td>\n",
       "      <td>0.722878</td>\n",
       "      <td>0.717245</td>\n",
       "      <td>0.717821</td>\n",
       "      <td>0.004937</td>\n",
       "      <td>5</td>\n",
       "    </tr>\n",
       "  </tbody>\n",
       "</table>\n",
       "</div>"
      ],
      "text/plain": [
       "    mean_fit_time  std_fit_time  mean_score_time  std_score_time param_C  \\\n",
       "6        9.914833      0.081023         2.680622        0.030333       1   \n",
       "11      13.422931      0.201334         2.850712        0.058100      10   \n",
       "22      51.174569      2.492654         2.551774        0.014567    1000   \n",
       "17      15.774720      0.532427         2.638611        0.091345     100   \n",
       "23      19.049012      0.515522         2.804666        0.071140    1000   \n",
       "\n",
       "   param_gamma param_kernel  split0_test_score  split1_test_score  \\\n",
       "6          0.1          rbf           0.738735           0.726199   \n",
       "11         0.1          rbf           0.737645           0.728198   \n",
       "22        0.01          rbf           0.736010           0.722747   \n",
       "17        0.01          rbf           0.734375           0.722929   \n",
       "23       0.001          rbf           0.723656           0.710574   \n",
       "\n",
       "    split2_test_score  split3_test_score  split4_test_score  mean_test_score  \\\n",
       "6            0.722202           0.731601           0.726513         0.729050   \n",
       "11           0.716388           0.724332           0.729602         0.727233   \n",
       "22           0.716388           0.731964           0.724696         0.726361   \n",
       "17           0.719113           0.730147           0.723242         0.725961   \n",
       "23           0.714753           0.722878           0.717245         0.717821   \n",
       "\n",
       "    std_test_score  rank_test_score  \n",
       "6         0.005688                1  \n",
       "11        0.006942                2  \n",
       "22        0.006925                3  \n",
       "17        0.005510                4  \n",
       "23        0.004937                5  "
      ]
     },
     "execution_count": 789,
     "metadata": {},
     "output_type": "execute_result"
    }
   ],
   "source": [
    "pd.DataFrame(svm_grid.cv_results_).drop(columns='params').sort_values('rank_test_score')[0:5]"
   ]
  },
  {
   "cell_type": "code",
   "execution_count": null,
   "metadata": {},
   "outputs": [],
   "source": [
    "# Best SVM performer\n",
    "parameters = {'C': [1], \n",
    "              'gamma': [0.1],\n",
    "              'kernel': ['rbf']} "
   ]
  },
  {
   "cell_type": "markdown",
   "metadata": {},
   "source": [
    "#### Logistic Regression"
   ]
  },
  {
   "cell_type": "code",
   "execution_count": 88,
   "metadata": {},
   "outputs": [
    {
     "name": "stdout",
     "output_type": "stream",
     "text": [
      "Fitting 5 folds for each of 5 candidates, totalling 25 fits\n"
     ]
    },
    {
     "name": "stderr",
     "output_type": "stream",
     "text": [
      "[Parallel(n_jobs=1)]: Using backend SequentialBackend with 1 concurrent workers.\n",
      "[Parallel(n_jobs=1)]: Done  25 out of  25 | elapsed:  1.2min finished\n"
     ]
    },
    {
     "name": "stdout",
     "output_type": "stream",
     "text": [
      "LogisticRegression(C=100, max_iter=1000, multi_class='multinomial',\n",
      "                   random_state=13, solver='sag')\n"
     ]
    }
   ],
   "source": [
    "parameters = {'C': [0.1, 1, 10, 100, 1000], \n",
    "              'penalty': ['l2']} \n",
    "  \n",
    "lr_grid = GridSearchCV(LogisticRegression(multi_class='multinomial', solver='sag', max_iter=1000, random_state=rs), param_grid=parameters, verbose = 1)\n",
    "lr_grid.fit(x_train_st, y_train)\n",
    "print(lr_grid.best_estimator_)"
   ]
  },
  {
   "cell_type": "code",
   "execution_count": 89,
   "metadata": {},
   "outputs": [
    {
     "data": {
      "text/html": [
       "<div>\n",
       "<style scoped>\n",
       "    .dataframe tbody tr th:only-of-type {\n",
       "        vertical-align: middle;\n",
       "    }\n",
       "\n",
       "    .dataframe tbody tr th {\n",
       "        vertical-align: top;\n",
       "    }\n",
       "\n",
       "    .dataframe thead th {\n",
       "        text-align: right;\n",
       "    }\n",
       "</style>\n",
       "<table border=\"1\" class=\"dataframe\">\n",
       "  <thead>\n",
       "    <tr style=\"text-align: right;\">\n",
       "      <th></th>\n",
       "      <th>mean_fit_time</th>\n",
       "      <th>std_fit_time</th>\n",
       "      <th>mean_score_time</th>\n",
       "      <th>std_score_time</th>\n",
       "      <th>param_C</th>\n",
       "      <th>param_penalty</th>\n",
       "      <th>split0_test_score</th>\n",
       "      <th>split1_test_score</th>\n",
       "      <th>split2_test_score</th>\n",
       "      <th>split3_test_score</th>\n",
       "      <th>split4_test_score</th>\n",
       "      <th>mean_test_score</th>\n",
       "      <th>std_test_score</th>\n",
       "      <th>rank_test_score</th>\n",
       "    </tr>\n",
       "  </thead>\n",
       "  <tbody>\n",
       "    <tr>\n",
       "      <th>3</th>\n",
       "      <td>1.492408</td>\n",
       "      <td>0.275671</td>\n",
       "      <td>0.004171</td>\n",
       "      <td>0.000019</td>\n",
       "      <td>100</td>\n",
       "      <td>l2</td>\n",
       "      <td>0.640625</td>\n",
       "      <td>0.632631</td>\n",
       "      <td>0.627725</td>\n",
       "      <td>0.641105</td>\n",
       "      <td>0.634381</td>\n",
       "      <td>0.635293</td>\n",
       "      <td>0.005048</td>\n",
       "      <td>1</td>\n",
       "    </tr>\n",
       "    <tr>\n",
       "      <th>4</th>\n",
       "      <td>1.624621</td>\n",
       "      <td>0.240090</td>\n",
       "      <td>0.004728</td>\n",
       "      <td>0.001033</td>\n",
       "      <td>1000</td>\n",
       "      <td>l2</td>\n",
       "      <td>0.640625</td>\n",
       "      <td>0.632631</td>\n",
       "      <td>0.627725</td>\n",
       "      <td>0.641105</td>\n",
       "      <td>0.634381</td>\n",
       "      <td>0.635293</td>\n",
       "      <td>0.005048</td>\n",
       "      <td>1</td>\n",
       "    </tr>\n",
       "    <tr>\n",
       "      <th>2</th>\n",
       "      <td>8.615861</td>\n",
       "      <td>0.902749</td>\n",
       "      <td>0.004263</td>\n",
       "      <td>0.000140</td>\n",
       "      <td>10</td>\n",
       "      <td>l2</td>\n",
       "      <td>0.640443</td>\n",
       "      <td>0.632449</td>\n",
       "      <td>0.627725</td>\n",
       "      <td>0.641105</td>\n",
       "      <td>0.634200</td>\n",
       "      <td>0.635184</td>\n",
       "      <td>0.005036</td>\n",
       "      <td>3</td>\n",
       "    </tr>\n",
       "    <tr>\n",
       "      <th>1</th>\n",
       "      <td>2.642342</td>\n",
       "      <td>0.069107</td>\n",
       "      <td>0.004245</td>\n",
       "      <td>0.000081</td>\n",
       "      <td>1</td>\n",
       "      <td>l2</td>\n",
       "      <td>0.640262</td>\n",
       "      <td>0.631904</td>\n",
       "      <td>0.627180</td>\n",
       "      <td>0.641468</td>\n",
       "      <td>0.634200</td>\n",
       "      <td>0.635003</td>\n",
       "      <td>0.005308</td>\n",
       "      <td>4</td>\n",
       "    </tr>\n",
       "    <tr>\n",
       "      <th>0</th>\n",
       "      <td>0.498998</td>\n",
       "      <td>0.029767</td>\n",
       "      <td>0.004327</td>\n",
       "      <td>0.000123</td>\n",
       "      <td>0.1</td>\n",
       "      <td>l2</td>\n",
       "      <td>0.639898</td>\n",
       "      <td>0.630996</td>\n",
       "      <td>0.625363</td>\n",
       "      <td>0.639833</td>\n",
       "      <td>0.632746</td>\n",
       "      <td>0.633767</td>\n",
       "      <td>0.005545</td>\n",
       "      <td>5</td>\n",
       "    </tr>\n",
       "  </tbody>\n",
       "</table>\n",
       "</div>"
      ],
      "text/plain": [
       "   mean_fit_time  std_fit_time  mean_score_time  std_score_time param_C  \\\n",
       "3       1.492408      0.275671         0.004171        0.000019     100   \n",
       "4       1.624621      0.240090         0.004728        0.001033    1000   \n",
       "2       8.615861      0.902749         0.004263        0.000140      10   \n",
       "1       2.642342      0.069107         0.004245        0.000081       1   \n",
       "0       0.498998      0.029767         0.004327        0.000123     0.1   \n",
       "\n",
       "  param_penalty  split0_test_score  split1_test_score  split2_test_score  \\\n",
       "3            l2           0.640625           0.632631           0.627725   \n",
       "4            l2           0.640625           0.632631           0.627725   \n",
       "2            l2           0.640443           0.632449           0.627725   \n",
       "1            l2           0.640262           0.631904           0.627180   \n",
       "0            l2           0.639898           0.630996           0.625363   \n",
       "\n",
       "   split3_test_score  split4_test_score  mean_test_score  std_test_score  \\\n",
       "3           0.641105           0.634381         0.635293        0.005048   \n",
       "4           0.641105           0.634381         0.635293        0.005048   \n",
       "2           0.641105           0.634200         0.635184        0.005036   \n",
       "1           0.641468           0.634200         0.635003        0.005308   \n",
       "0           0.639833           0.632746         0.633767        0.005545   \n",
       "\n",
       "   rank_test_score  \n",
       "3                1  \n",
       "4                1  \n",
       "2                3  \n",
       "1                4  \n",
       "0                5  "
      ]
     },
     "execution_count": 89,
     "metadata": {},
     "output_type": "execute_result"
    }
   ],
   "source": [
    "pd.DataFrame(lr_grid.cv_results_).drop(columns='params').sort_values('rank_test_score')[0:5]"
   ]
  },
  {
   "cell_type": "markdown",
   "metadata": {},
   "source": [
    "## Model Selection - Cross Validation\n",
    "\n",
    "***Random Forest Classifier*** and ***XGBoost Classifier*** were the best performing classification models in both simple validation and cross validation with hyperparameter tuning. XGBoost slightly beat out Random Forest. \n",
    "\n",
    "The optimal XBoost parameters were as follows:\n",
    "\n",
    "- **learning_rate**. 0.06\n",
    "- **n_estimators** - 500\n",
    "- **max_depth** - 15\n",
    "- **subsample** - 0.8\n",
    "- **colsample_bytree** - 0.75\n",
    "- **gamma** - 1.0\n",
    "\n",
    "The optimal Random Forest parameters were as follows:\n",
    "\n",
    "- **n_estimators** - The optimal number of trees for optimal performance is ***more trees***. But from 1,000 to 3,000 trees, the mean R-Squared increase was around 0.002. As such, I'll move forward with 1,000 estimators.\n",
    "- **max_depth** - 30\n",
    "- **min_samples_leaf** - 1 (default)\n",
    "- **mix_samples_split** - 2 (default)\n",
    "- **max_features** - auto (default)\n",
    "- **max_features** - True (default)\n",
    "- **bootstrap** - True (default)\n",
    "\n"
   ]
  },
  {
   "cell_type": "markdown",
   "metadata": {},
   "source": [
    "## Imputing Tempo Values - Random Forest"
   ]
  },
  {
   "cell_type": "code",
   "execution_count": 669,
   "metadata": {},
   "outputs": [],
   "source": [
    "tempo_dict = {'dnb' : [160, 180],\n",
    "              'deep_house' : [115, 130],\n",
    "              'dubstep' : [130, 145],\n",
    "              'hardstyle' : [145, 155],\n",
    "              'prog_house' : [115, 130],\n",
    "              'techno' : [120, 160],\n",
    "              'trance' : [120, 135]\n",
    "             }"
   ]
  },
  {
   "cell_type": "code",
   "execution_count": 670,
   "metadata": {},
   "outputs": [],
   "source": [
    "def impute_tempo_by_genre(df, genre=None, range_method='set'):\n",
    "    \"\"\"\n",
    "    Return df for a specified genre with NaN imputed with a tempo value.\n",
    "    \"\"\"\n",
    "    if genre:\n",
    "        df = df[df['genre'] == genre]\n",
    "        if range_method == 'set':\n",
    "            high = 180\n",
    "            low = 115\n",
    "        else:\n",
    "            high = tempo_dict[genre][1] + ((tempo_dict[genre][1] - tempo_dict[genre][0]) * 0.2) \n",
    "            low = tempo_dict[genre][0] - ((tempo_dict[genre][1] - tempo_dict[genre][0]) * 0.2)\n",
    "    else:\n",
    "        high = 180\n",
    "        low = 115\n",
    "    \n",
    "    tempo = df['tempo']\n",
    "    df.drop(labels=['tempo'], axis=1,inplace = True)\n",
    "    df.insert(0, 'tempo', tempo)\n",
    "    \n",
    "    imputer = KNNImputer(n_neighbors=2000, weights='uniform', metric='nan_euclidean')\n",
    "    \n",
    "    X = df.drop(columns='genre')\n",
    "    X['tempo'] = np.where(((X['tempo'] > high) | (X['tempo'] < low)), np.nan, X['tempo'])\n",
    "    \n",
    "    imputer.fit(X)\n",
    "    \n",
    "    X_imputed = imputer.transform(X)\n",
    "    \n",
    "    df['tempo'] = X_imputed[:,0]\n",
    "    \n",
    "    return df"
   ]
  },
  {
   "cell_type": "markdown",
   "metadata": {},
   "source": [
    "#### Impute Using Genre Tempo Dictionary\n",
    "\n",
    "In this attempt, I imputed all training data tempo values outside of the prescribed subgenre tempos as outlined in the EDA notebook. In the training data, I imputed on a subgenre basis using KNN imputation. For validation data, I imputed using KNN imputation, but since no subgenre information is known, I used the entire population for finding nearest neighbors."
   ]
  },
  {
   "cell_type": "code",
   "execution_count": 799,
   "metadata": {},
   "outputs": [],
   "source": [
    "X = model_data[audio_metrics + dummy_vars]\n",
    "Y = model_data['genre']"
   ]
  },
  {
   "cell_type": "code",
   "execution_count": 800,
   "metadata": {},
   "outputs": [],
   "source": [
    "X, x_test, Y, y_test = train_test_split(X, Y, test_size=0.20, random_state=13)\n",
    "x_train, x_val, y_train, y_val = train_test_split(X, Y, test_size=0.25, random_state=13)"
   ]
  },
  {
   "cell_type": "code",
   "execution_count": 801,
   "metadata": {},
   "outputs": [],
   "source": [
    "# Create complete training and validation sets\n",
    "train_data = x_train.copy()\n",
    "train_data['genre'] = y_train\n",
    "\n",
    "val_data = x_val.copy()\n",
    "val_data['genre'] = y_val"
   ]
  },
  {
   "cell_type": "code",
   "execution_count": null,
   "metadata": {},
   "outputs": [],
   "source": [
    "# Impute tempo by genre in training data\n",
    "dnb_train_imputed = impute_tempo_by_genre(train_data, 'dnb', 'set')\n",
    "deep_house_train_imputed = impute_tempo_by_genre(train_data, 'deep_house', 'set')\n",
    "dubstep_train_imputed = impute_tempo_by_genre(train_data, 'dubstep', 'set')\n",
    "hardstyle_train_imputed = impute_tempo_by_genre(train_data, 'hardstyle', 'set')\n",
    "prog_house_train_imputed = impute_tempo_by_genre(train_data, 'prog_house', 'set')\n",
    "techno_train_imputed = impute_tempo_by_genre(train_data, 'techno', 'set')\n",
    "trance_train_imputed = impute_tempo_by_genre(train_data, 'trance', 'set')"
   ]
  },
  {
   "cell_type": "code",
   "execution_count": 803,
   "metadata": {},
   "outputs": [],
   "source": [
    "# Concatenate imputed training datasets by genre\n",
    "all_genres_train_imputed = pd.concat([dnb_train_imputed,\n",
    "                                      deep_house_train_imputed,\n",
    "                                      dubstep_train_imputed,\n",
    "                                      hardstyle_train_imputed,\n",
    "                                      prog_house_train_imputed,\n",
    "                                      techno_train_imputed,\n",
    "                                      trance_train_imputed])"
   ]
  },
  {
   "cell_type": "code",
   "execution_count": 804,
   "metadata": {},
   "outputs": [],
   "source": [
    "# Convert tempo to NaN where outside of the accepted range\n",
    "val_data['tempo'] = np.where(((val_data['tempo'] > 180) | (val_data['tempo'] < 115)), np.nan, val_data['tempo'])\n",
    "\n",
    "# Add NaN tempo rows for validation data to the imputed training data\n",
    "val_na = val_data[val_data['tempo'].isna()]\n",
    "val_na_length = len(val_na)\n",
    "\n",
    "train_and_val_nan = pd.concat([all_genres_train_imputed,\n",
    "                               val_na])"
   ]
  },
  {
   "cell_type": "code",
   "execution_count": 805,
   "metadata": {},
   "outputs": [],
   "source": [
    "# Impute the tempo for the validation data using the training data\n",
    "val_imputed = impute_tempo_by_genre(train_and_val_nan)\n",
    "val_imputed = val_imputed[-1 * val_na_length:]"
   ]
  },
  {
   "cell_type": "code",
   "execution_count": 806,
   "metadata": {},
   "outputs": [],
   "source": [
    "# Replace NaN rows with new imputed tempo rows in the validation set\n",
    "val_data.dropna(inplace=True)\n",
    "val_data = pd.concat([val_data, val_imputed])"
   ]
  },
  {
   "cell_type": "code",
   "execution_count": 807,
   "metadata": {},
   "outputs": [],
   "source": [
    "x_train = all_genres_train_imputed.drop(columns='genre')\n",
    "y_train = all_genres_train_imputed['genre']\n",
    "x_val = val_data.drop(columns='genre')\n",
    "y_val = val_data['genre']"
   ]
  },
  {
   "cell_type": "code",
   "execution_count": 808,
   "metadata": {},
   "outputs": [],
   "source": [
    "rf_classifier = RandomForestClassifier(n_estimators=1000,\n",
    "                                       max_depth=30,\n",
    "                                       oob_score=True, \n",
    "                                       criterion='gini', \n",
    "                                       random_state=13)\n",
    "\n",
    "rf_classifier.fit(x_train, y_train)\n",
    "y_pred_train = rf_classifier.predict(x_train)\n",
    "y_pred_val = rf_classifier.predict(x_val)\n",
    "train_score = accuracy_score(y_train, y_pred_train, normalize = True)\n",
    "val_score = accuracy_score(y_val, y_pred_val, normalize = True)"
   ]
  },
  {
   "cell_type": "code",
   "execution_count": 809,
   "metadata": {},
   "outputs": [
    {
     "name": "stdout",
     "output_type": "stream",
     "text": [
      "Training Score:   0.998304099234422\n",
      "Validation Score: 0.1375\n"
     ]
    }
   ],
   "source": [
    "print('Training Score:   ' + str(train_score))\n",
    "print('Validation Score: ' + str(val_score))"
   ]
  },
  {
   "cell_type": "markdown",
   "metadata": {},
   "source": [
    "#### Impute Only Tempo Outside 115-180 BPM\n",
    "\n",
    "In this attempt, I imputed all tempo values outside 115-180 BPM. In the training data, I imputed on a subgenre basis using KNN imputation. For validation data, I imputed using KNN imputation, but since no subgenre information is known, I used the entire population for finding nearest neighbors."
   ]
  },
  {
   "cell_type": "code",
   "execution_count": 810,
   "metadata": {},
   "outputs": [],
   "source": [
    "X = model_data[audio_metrics]\n",
    "Y = model_data['genre']"
   ]
  },
  {
   "cell_type": "code",
   "execution_count": 811,
   "metadata": {},
   "outputs": [],
   "source": [
    "X, x_test, Y, y_test = train_test_split(X, Y, test_size=0.20, random_state=13)\n",
    "x_train, x_val, y_train, y_val = train_test_split(X, Y, test_size=0.25, random_state=13)"
   ]
  },
  {
   "cell_type": "code",
   "execution_count": 812,
   "metadata": {},
   "outputs": [],
   "source": [
    "# Create complete training and validation sets\n",
    "train_data = x_train.copy()\n",
    "train_data['genre'] = y_train\n",
    "\n",
    "val_data = x_val.copy()\n",
    "val_data['genre'] = y_val"
   ]
  },
  {
   "cell_type": "code",
   "execution_count": null,
   "metadata": {},
   "outputs": [],
   "source": [
    "# Impute tempo by genre in training data\n",
    "dnb_train_imputed = impute_tempo_by_genre(train_data, 'dnb')\n",
    "deep_house_train_imputed = impute_tempo_by_genre(train_data, 'deep_house')\n",
    "dubstep_train_imputed = impute_tempo_by_genre(train_data, 'dubstep')\n",
    "hardstyle_train_imputed = impute_tempo_by_genre(train_data, 'hardstyle')\n",
    "prog_house_train_imputed = impute_tempo_by_genre(train_data, 'prog_house')\n",
    "techno_train_imputed = impute_tempo_by_genre(train_data, 'techno')\n",
    "trance_train_imputed = impute_tempo_by_genre(train_data, 'trance')"
   ]
  },
  {
   "cell_type": "code",
   "execution_count": 814,
   "metadata": {},
   "outputs": [],
   "source": [
    "# Concatenate imputed training datasets by genre\n",
    "all_genres_train_imputed = pd.concat([dnb_train_imputed,\n",
    "                                      deep_house_train_imputed,\n",
    "                                      dubstep_train_imputed,\n",
    "                                      hardstyle_train_imputed,\n",
    "                                      prog_house_train_imputed,\n",
    "                                      techno_train_imputed,\n",
    "                                      trance_train_imputed])"
   ]
  },
  {
   "cell_type": "code",
   "execution_count": 815,
   "metadata": {},
   "outputs": [],
   "source": [
    "# Convert tempo to NaN where outside of the accepted range\n",
    "val_data['tempo'] = np.where(((val_data['tempo'] > 180) | (val_data['tempo'] < 115)), np.nan, val_data['tempo'])\n",
    "\n",
    "# Add NaN tempo rows for validation data to the imputed training data\n",
    "val_na = val_data[val_data['tempo'].isna()]\n",
    "val_na_length = len(val_na)\n",
    "\n",
    "train_and_val_nan = pd.concat([all_genres_train_imputed,\n",
    "                               val_na])"
   ]
  },
  {
   "cell_type": "code",
   "execution_count": 816,
   "metadata": {},
   "outputs": [],
   "source": [
    "# Impute the tempo for the validation data using the training data\n",
    "val_imputed = impute_tempo_by_genre(train_and_val_nan)\n",
    "val_imputed = val_imputed[-1 * val_na_length:]"
   ]
  },
  {
   "cell_type": "code",
   "execution_count": 817,
   "metadata": {},
   "outputs": [],
   "source": [
    "# Replace NaN rows with new imputed tempo rows in the validation set\n",
    "val_data.dropna(inplace=True)\n",
    "val_data = pd.concat([val_data, val_imputed])"
   ]
  },
  {
   "cell_type": "code",
   "execution_count": 818,
   "metadata": {},
   "outputs": [],
   "source": [
    "x_train = all_genres_train_imputed.drop(columns='genre')\n",
    "y_train = all_genres_train_imputed['genre']\n",
    "x_val = val_data.drop(columns='genre')\n",
    "y_val = val_data['genre']"
   ]
  },
  {
   "cell_type": "code",
   "execution_count": 819,
   "metadata": {},
   "outputs": [],
   "source": [
    "rf_classifier.fit(x_train, y_train)\n",
    "y_pred_train = rf_classifier.predict(x_train)\n",
    "y_pred_val = rf_classifier.predict(x_val)\n",
    "train_score = accuracy_score(y_train, y_pred_train, normalize = True)\n",
    "val_score = accuracy_score(y_val, y_pred_val, normalize = True)"
   ]
  },
  {
   "cell_type": "code",
   "execution_count": 820,
   "metadata": {},
   "outputs": [
    {
     "name": "stdout",
     "output_type": "stream",
     "text": [
      "Training Score:   0.998304099234422\n",
      "Validation Score: 0.13924418604651162\n"
     ]
    }
   ],
   "source": [
    "print('Training Score:   ' + str(train_score))\n",
    "print('Validation Score: ' + str(val_score))"
   ]
  },
  {
   "cell_type": "markdown",
   "metadata": {},
   "source": [
    "#### Impute Using Genre Dictionary -  Training and Validation Data\n",
    "\n",
    "This is not a valid approach because subgenre for validation data should not be known. But given that the results from the valid imputation approaches was ineffective, I wanted to see if imputation on the entire dataset would even provide improved performance."
   ]
  },
  {
   "cell_type": "code",
   "execution_count": null,
   "metadata": {},
   "outputs": [],
   "source": [
    "# Impute tempo by genre in all model data (training and testing)\n",
    "dnb_imputed = impute_tempo_by_genre(model_data, 'dnb')\n",
    "deep_house_imputed = impute_tempo_by_genre(model_data, 'deep_house')\n",
    "dubstep_imputed = impute_tempo_by_genre(model_data, 'dubstep')\n",
    "hardstyle_imputed = impute_tempo_by_genre(model_data, 'hardstyle')\n",
    "prog_train_imputed = impute_tempo_by_genre(model_data, 'prog_house')\n",
    "techno_imputed = impute_tempo_by_genre(model_data, 'techno')\n",
    "trance_imputed = impute_tempo_by_genre(model_data, 'trance')"
   ]
  },
  {
   "cell_type": "code",
   "execution_count": 822,
   "metadata": {},
   "outputs": [],
   "source": [
    "# Concatenate imputed training datasets by genre\n",
    "aggregate_data = pd.concat([dnb_imputed,\n",
    "                            deep_house_imputed,\n",
    "                            dubstep_imputed,\n",
    "                            hardstyle_imputed,\n",
    "                            prog_house_imputed,\n",
    "                            techno_imputed,\n",
    "                            trance_imputed])"
   ]
  },
  {
   "cell_type": "code",
   "execution_count": 823,
   "metadata": {},
   "outputs": [],
   "source": [
    "X = aggregate_data[audio_metrics]\n",
    "Y = aggregate_data['genre']"
   ]
  },
  {
   "cell_type": "code",
   "execution_count": 824,
   "metadata": {},
   "outputs": [],
   "source": [
    "X, x_test, Y, y_test = train_test_split(X, Y, test_size=0.20, random_state=13)\n",
    "x_train, x_val, y_train, y_val = train_test_split(X, Y, test_size=0.25, random_state=13)"
   ]
  },
  {
   "cell_type": "code",
   "execution_count": 825,
   "metadata": {},
   "outputs": [],
   "source": [
    "rf_classifier.fit(x_train, y_train)\n",
    "y_pred_train = rf_classifier.predict(x_train)\n",
    "y_pred_val = rf_classifier.predict(x_val)\n",
    "train_score = accuracy_score(y_train, y_pred_train, normalize = True)\n",
    "val_score = accuracy_score(y_val, y_pred_val, normalize = True)\n"
   ]
  },
  {
   "cell_type": "code",
   "execution_count": 826,
   "metadata": {},
   "outputs": [
    {
     "name": "stdout",
     "output_type": "stream",
     "text": [
      "Training Score:   0.9985236447520185\n",
      "Validation Score: 0.7844982698961938\n"
     ]
    }
   ],
   "source": [
    "print('Training Score:   ' + str(train_score))\n",
    "print('Validation Score: ' + str(val_score))"
   ]
  },
  {
   "cell_type": "markdown",
   "metadata": {},
   "source": [
    "### Imputation Conclusions\n",
    "\n",
    "Imputation of tempo values for tempos outside of the appropriate range only had a positive impact on predictive performance of a Random Forest model when applied to both training and validation data. Even then, the performance boost was modest. When following the rules of valid data cleaning from a testing perspective, imputing tempos using KNN imputation was damaging to the model. I am surprised at the impact that such little imputation could have on performance. In all, this process only adjusted the tempo values for approximately 4% of the dataset, and performance dropped dramatically. This could be because the subgenres are not impacted evenly by the imputation. Below, we can see the subgenre imbalace for tracks with less than 115 BPM and greater than 180 BPM. There may be predictive value in the low and high tempo values. Seeing dubstep at the top of the count both above and below the thresholds is strange, and could signal that BPM is difficult to pick out programmatically in dubstep songs."
   ]
  },
  {
   "cell_type": "code",
   "execution_count": 699,
   "metadata": {},
   "outputs": [
    {
     "data": {
      "text/plain": [
       "dubstep       300\n",
       "deep_house    280\n",
       "prog_house     95\n",
       "hardstyle      61\n",
       "trance         57\n",
       "techno         56\n",
       "dnb            47\n",
       "Name: genre, dtype: int64"
      ]
     },
     "execution_count": 699,
     "metadata": {},
     "output_type": "execute_result"
    }
   ],
   "source": [
    "model_data[model_data['tempo'] < 115]['genre'].value_counts()"
   ]
  },
  {
   "cell_type": "code",
   "execution_count": 700,
   "metadata": {},
   "outputs": [
    {
     "data": {
      "text/plain": [
       "dubstep       122\n",
       "hardstyle      52\n",
       "deep_house     50\n",
       "trance         30\n",
       "techno         27\n",
       "dnb            23\n",
       "prog_house     13\n",
       "Name: genre, dtype: int64"
      ]
     },
     "execution_count": 700,
     "metadata": {},
     "output_type": "execute_result"
    }
   ],
   "source": [
    "model_data[model_data['tempo'] > 180]['genre'].value_counts()"
   ]
  },
  {
   "cell_type": "markdown",
   "metadata": {},
   "source": [
    "## Final Model Refinement"
   ]
  },
  {
   "cell_type": "markdown",
   "metadata": {},
   "source": [
    "### Random Forest Feature Reduction\n",
    "\n",
    "By performing sequential forward and sequential backward feature selection, I was able to determine that many features are not particularly useful in making genre predictions using Random Forest Classification. Note that, for this portion of the modeling, I am using simple validation rather than cross validation in the interest of speed and simplicity. Ultimately, I found that removing the dummy variables for \"Key\" and \"Time Signature\" is inconsequential. Moving forward, I will use the following feature set:\n",
    "\n",
    "\n",
    "- Acousticness\n",
    "- Danceability\n",
    "- Duration (ms)\n",
    "- Energy\n",
    "- Instrumentalness\n",
    "- Liveness\n",
    "- Loudness\n",
    "- Mode\n",
    "- Speechiness\n",
    "- Tempo\n",
    "- Valence"
   ]
  },
  {
   "cell_type": "code",
   "execution_count": 118,
   "metadata": {},
   "outputs": [],
   "source": [
    "rf_classifier = RandomForestClassifier(n_estimators=1000,\n",
    "                                       max_depth=30,\n",
    "                                       oob_score=True, \n",
    "                                       criterion='gini', \n",
    "                                       random_state=13)"
   ]
  },
  {
   "cell_type": "code",
   "execution_count": 59,
   "metadata": {},
   "outputs": [],
   "source": [
    "def sequential_backward(model_data, target, classifier):\n",
    "\n",
    "    test_columns = list(model_data.columns)\n",
    "    test_columns.remove(target)\n",
    "    \n",
    "    feature_combos = pd.DataFrame()\n",
    "\n",
    "    backward_order = []\n",
    "\n",
    "    while test_columns:\n",
    "        cols = test_columns + [target]\n",
    "        data = model_data[cols]\n",
    "\n",
    "        X = data.drop(columns=target)\n",
    "        Y = data[target]\n",
    "        \n",
    "        X, x_text, Y, y_test = train_test_split(X, Y, test_size=0.20, random_state=13)\n",
    "        x_train, x_test, y_train, y_test = train_test_split(X, Y, test_size=0.25, random_state=13)\n",
    "\n",
    "        classifier.fit(x_train, y_train)\n",
    "        y_pred = classifier.predict(x_test)\n",
    "        score = accuracy_score(y_test, y_pred, normalize = True)\n",
    "\n",
    "        test_instance = {'combo' : ', '.join(test_columns), 'score' : score, 'length' : len(test_columns)}\n",
    "        feature_combos = feature_combos.append(test_instance, ignore_index=True)\n",
    "\n",
    "        feature_importance = pd.Series(classifier.feature_importances_, index=x_train.columns).sort_values(ascending=False)\n",
    "        remove = feature_importance.index[-1]\n",
    "\n",
    "        test_columns.remove(remove)\n",
    "        backward_order.extend([remove])\n",
    "\n",
    "    sorted_combos = feature_combos.sort_values('score', ascending=False).reset_index()\n",
    "    \n",
    "    return backward_order, sorted_combos"
   ]
  },
  {
   "cell_type": "code",
   "execution_count": 57,
   "metadata": {},
   "outputs": [],
   "source": [
    "def sequential_forward(model_data, target, classifier):\n",
    "\n",
    "    test_columns = list(model_data.columns)\n",
    "    test_columns.remove(target)\n",
    "    \n",
    "    feature_combos = pd.DataFrame()\n",
    "\n",
    "    forward_order = []\n",
    "    i = 1\n",
    "\n",
    "    while test_columns:\n",
    "        for col in test_columns:\n",
    "            cols = [target] + forward_order + [col]\n",
    "            data = model_data[cols].copy()\n",
    "            \n",
    "            X = data.drop(columns=target)\n",
    "            Y = data[target]\n",
    "            \n",
    "            X, x_test, Y, y_test = train_test_split(X, Y, test_size=0.20, random_state=13)\n",
    "            x_train, x_test, y_train, y_test = train_test_split(X, Y, test_size=0.25, random_state=13)\n",
    "\n",
    "            classifier.fit(x_train, y_train)\n",
    "            y_pred = classifier.predict(x_test)\n",
    "\n",
    "            score = accuracy_score(y_test, y_pred, normalize = True)\n",
    "\n",
    "            test_instance = {'combo' : ', '.join(cols), 'score' : score, 'length' : i}\n",
    "            feature_combos = feature_combos.append(test_instance, ignore_index=True)\n",
    "\n",
    "        remove = feature_combos[feature_combos['length']==i].sort_values('score', ascending=False).reset_index().loc[0,'combo'].split(', ')[-1]\n",
    "\n",
    "        test_columns.remove(remove)\n",
    "        forward_order.extend([remove])\n",
    "        i += 1\n",
    "\n",
    "    sorted_combos = feature_combos.sort_values('score', ascending=False).reset_index()\n",
    "    sorted_combos = sorted_combos.drop_duplicates(subset='length', keep='first')\n",
    "    \n",
    "    return forward_order, sorted_combos"
   ]
  },
  {
   "cell_type": "code",
   "execution_count": 99,
   "metadata": {},
   "outputs": [],
   "source": [
    "backward_order, sorted_combos_backward = sequential_backward(model_data, 'genre', rf_classifier)"
   ]
  },
  {
   "cell_type": "code",
   "execution_count": 100,
   "metadata": {},
   "outputs": [
    {
     "data": {
      "text/html": [
       "<div>\n",
       "<style scoped>\n",
       "    .dataframe tbody tr th:only-of-type {\n",
       "        vertical-align: middle;\n",
       "    }\n",
       "\n",
       "    .dataframe tbody tr th {\n",
       "        vertical-align: top;\n",
       "    }\n",
       "\n",
       "    .dataframe thead th {\n",
       "        text-align: right;\n",
       "    }\n",
       "</style>\n",
       "<table border=\"1\" class=\"dataframe\">\n",
       "  <thead>\n",
       "    <tr style=\"text-align: right;\">\n",
       "      <th></th>\n",
       "      <th>index</th>\n",
       "      <th>combo</th>\n",
       "      <th>length</th>\n",
       "      <th>score</th>\n",
       "    </tr>\n",
       "  </thead>\n",
       "  <tbody>\n",
       "    <tr>\n",
       "      <th>0</th>\n",
       "      <td>16</td>\n",
       "      <td>duration_ms, acousticness, danceability, energ...</td>\n",
       "      <td>11.0</td>\n",
       "      <td>0.763372</td>\n",
       "    </tr>\n",
       "    <tr>\n",
       "      <th>1</th>\n",
       "      <td>11</td>\n",
       "      <td>duration_ms, acousticness, danceability, energ...</td>\n",
       "      <td>16.0</td>\n",
       "      <td>0.763372</td>\n",
       "    </tr>\n",
       "    <tr>\n",
       "      <th>2</th>\n",
       "      <td>15</td>\n",
       "      <td>duration_ms, acousticness, danceability, energ...</td>\n",
       "      <td>12.0</td>\n",
       "      <td>0.762209</td>\n",
       "    </tr>\n",
       "    <tr>\n",
       "      <th>3</th>\n",
       "      <td>1</td>\n",
       "      <td>duration_ms, acousticness, danceability, energ...</td>\n",
       "      <td>26.0</td>\n",
       "      <td>0.762209</td>\n",
       "    </tr>\n",
       "    <tr>\n",
       "      <th>4</th>\n",
       "      <td>10</td>\n",
       "      <td>duration_ms, acousticness, danceability, energ...</td>\n",
       "      <td>17.0</td>\n",
       "      <td>0.762064</td>\n",
       "    </tr>\n",
       "  </tbody>\n",
       "</table>\n",
       "</div>"
      ],
      "text/plain": [
       "   index                                              combo  length     score\n",
       "0     16  duration_ms, acousticness, danceability, energ...    11.0  0.763372\n",
       "1     11  duration_ms, acousticness, danceability, energ...    16.0  0.763372\n",
       "2     15  duration_ms, acousticness, danceability, energ...    12.0  0.762209\n",
       "3      1  duration_ms, acousticness, danceability, energ...    26.0  0.762209\n",
       "4     10  duration_ms, acousticness, danceability, energ...    17.0  0.762064"
      ]
     },
     "execution_count": 100,
     "metadata": {},
     "output_type": "execute_result"
    }
   ],
   "source": [
    "sorted_combos_backward[0:5]"
   ]
  },
  {
   "cell_type": "code",
   "execution_count": 101,
   "metadata": {},
   "outputs": [
    {
     "data": {
      "text/plain": [
       "['tempo',\n",
       " 'duration_ms',\n",
       " 'danceability',\n",
       " 'loudness',\n",
       " 'instrumentalness',\n",
       " 'energy',\n",
       " 'speechiness',\n",
       " 'valence',\n",
       " 'acousticness',\n",
       " 'liveness',\n",
       " 'mode',\n",
       " 'key_1',\n",
       " 'key_7',\n",
       " 'key_11',\n",
       " 'key_9',\n",
       " 'key_6',\n",
       " 'key_0',\n",
       " 'key_2',\n",
       " 'key_5',\n",
       " 'key_8',\n",
       " 'key_10',\n",
       " 'time_sig_4',\n",
       " 'key_4',\n",
       " 'key_3',\n",
       " 'time_sig_3',\n",
       " 'time_sig_5',\n",
       " 'time_sig_1']"
      ]
     },
     "execution_count": 101,
     "metadata": {},
     "output_type": "execute_result"
    }
   ],
   "source": [
    "backward_order[::-1]"
   ]
  },
  {
   "cell_type": "code",
   "execution_count": 102,
   "metadata": {},
   "outputs": [],
   "source": [
    "forward_order, sorted_combos_forward = sequential_forward(model_data, 'genre', rf_classifier)"
   ]
  },
  {
   "cell_type": "code",
   "execution_count": 103,
   "metadata": {},
   "outputs": [
    {
     "data": {
      "text/html": [
       "<div>\n",
       "<style scoped>\n",
       "    .dataframe tbody tr th:only-of-type {\n",
       "        vertical-align: middle;\n",
       "    }\n",
       "\n",
       "    .dataframe tbody tr th {\n",
       "        vertical-align: top;\n",
       "    }\n",
       "\n",
       "    .dataframe thead th {\n",
       "        text-align: right;\n",
       "    }\n",
       "</style>\n",
       "<table border=\"1\" class=\"dataframe\">\n",
       "  <thead>\n",
       "    <tr style=\"text-align: right;\">\n",
       "      <th></th>\n",
       "      <th>index</th>\n",
       "      <th>combo</th>\n",
       "      <th>length</th>\n",
       "      <th>score</th>\n",
       "    </tr>\n",
       "  </thead>\n",
       "  <tbody>\n",
       "    <tr>\n",
       "      <th>0</th>\n",
       "      <td>330</td>\n",
       "      <td>genre, tempo, duration_ms, danceability, instr...</td>\n",
       "      <td>18.0</td>\n",
       "      <td>0.764826</td>\n",
       "    </tr>\n",
       "    <tr>\n",
       "      <th>1</th>\n",
       "      <td>257</td>\n",
       "      <td>genre, tempo, duration_ms, danceability, instr...</td>\n",
       "      <td>12.0</td>\n",
       "      <td>0.764244</td>\n",
       "    </tr>\n",
       "    <tr>\n",
       "      <th>2</th>\n",
       "      <td>300</td>\n",
       "      <td>genre, tempo, duration_ms, danceability, instr...</td>\n",
       "      <td>16.0</td>\n",
       "      <td>0.764099</td>\n",
       "    </tr>\n",
       "    <tr>\n",
       "      <th>5</th>\n",
       "      <td>317</td>\n",
       "      <td>genre, tempo, duration_ms, danceability, instr...</td>\n",
       "      <td>17.0</td>\n",
       "      <td>0.763808</td>\n",
       "    </tr>\n",
       "    <tr>\n",
       "      <th>7</th>\n",
       "      <td>286</td>\n",
       "      <td>genre, tempo, duration_ms, danceability, instr...</td>\n",
       "      <td>14.0</td>\n",
       "      <td>0.763517</td>\n",
       "    </tr>\n",
       "  </tbody>\n",
       "</table>\n",
       "</div>"
      ],
      "text/plain": [
       "   index                                              combo  length     score\n",
       "0    330  genre, tempo, duration_ms, danceability, instr...    18.0  0.764826\n",
       "1    257  genre, tempo, duration_ms, danceability, instr...    12.0  0.764244\n",
       "2    300  genre, tempo, duration_ms, danceability, instr...    16.0  0.764099\n",
       "5    317  genre, tempo, duration_ms, danceability, instr...    17.0  0.763808\n",
       "7    286  genre, tempo, duration_ms, danceability, instr...    14.0  0.763517"
      ]
     },
     "execution_count": 103,
     "metadata": {},
     "output_type": "execute_result"
    }
   ],
   "source": [
    "sorted_combos_forward.drop_duplicates(subset='length', keep='first')[0:5]"
   ]
  },
  {
   "cell_type": "code",
   "execution_count": 104,
   "metadata": {},
   "outputs": [
    {
     "data": {
      "text/plain": [
       "['tempo',\n",
       " 'duration_ms',\n",
       " 'danceability',\n",
       " 'instrumentalness',\n",
       " 'loudness',\n",
       " 'energy',\n",
       " 'speechiness',\n",
       " 'valence',\n",
       " 'acousticness',\n",
       " 'key_0',\n",
       " 'time_sig_4',\n",
       " 'time_sig_5',\n",
       " 'mode',\n",
       " 'time_sig_3',\n",
       " 'key_11',\n",
       " 'liveness',\n",
       " 'key_6',\n",
       " 'key_9',\n",
       " 'key_4',\n",
       " 'key_2',\n",
       " 'key_7',\n",
       " 'time_sig_1',\n",
       " 'key_5',\n",
       " 'key_3',\n",
       " 'key_1',\n",
       " 'key_10',\n",
       " 'key_8']"
      ]
     },
     "execution_count": 104,
     "metadata": {},
     "output_type": "execute_result"
    }
   ],
   "source": [
    "forward_order"
   ]
  },
  {
   "cell_type": "code",
   "execution_count": null,
   "metadata": {},
   "outputs": [],
   "source": [
    "# Forward Order\n",
    "# 0.7648 - 'tempo, duration_ms, danceability, instrumentalness, loudness, energy, speechiness, valence, acousticness, key_0, time_sig_4, time_sig_5, mode, time_sig_3, key_11, liveness, key_6, key_9'\n",
    "# 0.7642 - 'tempo, duration_ms, danceability, instrumentalness, loudness, energy, speechiness, valence, acousticness, key_0, time_sig_4, time_sig_5'\n",
    "# 0.7641 - 'tempo, duration_ms, danceability, instrumentalness, loudness, energy, speechiness, valence, acousticness, key_0, time_sig_4, time_sig_5, mode, time_sig_3, key_11, liveness'\n",
    "\n",
    "# Backward Order - \n",
    "# 0.7634 - 'duration_ms, acousticness, danceability, energy, instrumentalness, liveness, loudness, mode, speechiness, tempo, valence'\n",
    "# 0.7634 - 'duration_ms, acousticness, danceability, energy, instrumentalness, liveness, loudness, mode, speechiness, tempo, valence, key_1, key_6, key_7, key_9, key_11'\n",
    "# 0.7622 - 'duration_ms, acousticness, danceability, energy, instrumentalness, liveness, loudness, mode, speechiness, tempo, valence, key_1'"
   ]
  },
  {
   "cell_type": "code",
   "execution_count": 6,
   "metadata": {},
   "outputs": [],
   "source": [
    "reduced_features = ['duration_ms', 'acousticness', 'danceability', 'energy', 'instrumentalness', 'liveness', 'loudness', 'speechiness', 'tempo', 'valence']\n",
    "dummy = 'mode'"
   ]
  },
  {
   "cell_type": "markdown",
   "metadata": {},
   "source": [
    "### XGBoost Feature Reduction\n",
    "\n",
    "By performing sequential forward and sequential backward feature selection, I was able to determine that many features are not particularly useful in making genre predictions using Random Forest Classification. Note that, for this portion of the modeling, I am using simple validation rather than cross validation in the interest of speed and simplicity. Ultimately, I found that removing the dummy variables for \"Key\" and \"Time Signature\" is inconsequential. Moving forward, I will use the following feature set:\n",
    "\n",
    "\n",
    "- Acousticness\n",
    "- Danceability\n",
    "- Duration (ms)\n",
    "- Energy\n",
    "- Instrumentalness\n",
    "- Liveness\n",
    "- Loudness\n",
    "- Mode\n",
    "- Speechiness\n",
    "- Tempo\n",
    "- Valence"
   ]
  },
  {
   "cell_type": "code",
   "execution_count": 55,
   "metadata": {},
   "outputs": [],
   "source": [
    "xgb_classifier = XGBClassifier(learning_rate=0.06,\n",
    "                               n_estimators=500, \n",
    "                               max_depth=15, \n",
    "                               subsample=0.8,\n",
    "                               colsample_bytree=0.75,\n",
    "                               gamma=1)"
   ]
  },
  {
   "cell_type": "code",
   "execution_count": null,
   "metadata": {},
   "outputs": [],
   "source": [
    "backward_order_xgb, sorted_combos_backward_xgb = sequential_backward(model_data, 'genre', xgb_classifier)"
   ]
  },
  {
   "cell_type": "code",
   "execution_count": 61,
   "metadata": {},
   "outputs": [
    {
     "data": {
      "text/html": [
       "<div>\n",
       "<style scoped>\n",
       "    .dataframe tbody tr th:only-of-type {\n",
       "        vertical-align: middle;\n",
       "    }\n",
       "\n",
       "    .dataframe tbody tr th {\n",
       "        vertical-align: top;\n",
       "    }\n",
       "\n",
       "    .dataframe thead th {\n",
       "        text-align: right;\n",
       "    }\n",
       "</style>\n",
       "<table border=\"1\" class=\"dataframe\">\n",
       "  <thead>\n",
       "    <tr style=\"text-align: right;\">\n",
       "      <th></th>\n",
       "      <th>index</th>\n",
       "      <th>combo</th>\n",
       "      <th>length</th>\n",
       "      <th>score</th>\n",
       "    </tr>\n",
       "  </thead>\n",
       "  <tbody>\n",
       "    <tr>\n",
       "      <th>0</th>\n",
       "      <td>3</td>\n",
       "      <td>duration_ms, acousticness, danceability, energ...</td>\n",
       "      <td>24.0</td>\n",
       "      <td>0.773547</td>\n",
       "    </tr>\n",
       "    <tr>\n",
       "      <th>1</th>\n",
       "      <td>9</td>\n",
       "      <td>duration_ms, acousticness, danceability, energ...</td>\n",
       "      <td>18.0</td>\n",
       "      <td>0.770349</td>\n",
       "    </tr>\n",
       "    <tr>\n",
       "      <th>2</th>\n",
       "      <td>13</td>\n",
       "      <td>duration_ms, acousticness, danceability, energ...</td>\n",
       "      <td>14.0</td>\n",
       "      <td>0.769041</td>\n",
       "    </tr>\n",
       "    <tr>\n",
       "      <th>3</th>\n",
       "      <td>11</td>\n",
       "      <td>duration_ms, acousticness, danceability, energ...</td>\n",
       "      <td>16.0</td>\n",
       "      <td>0.768895</td>\n",
       "    </tr>\n",
       "    <tr>\n",
       "      <th>4</th>\n",
       "      <td>8</td>\n",
       "      <td>duration_ms, acousticness, danceability, energ...</td>\n",
       "      <td>19.0</td>\n",
       "      <td>0.768169</td>\n",
       "    </tr>\n",
       "  </tbody>\n",
       "</table>\n",
       "</div>"
      ],
      "text/plain": [
       "   index                                              combo  length     score\n",
       "0      3  duration_ms, acousticness, danceability, energ...    24.0  0.773547\n",
       "1      9  duration_ms, acousticness, danceability, energ...    18.0  0.770349\n",
       "2     13  duration_ms, acousticness, danceability, energ...    14.0  0.769041\n",
       "3     11  duration_ms, acousticness, danceability, energ...    16.0  0.768895\n",
       "4      8  duration_ms, acousticness, danceability, energ...    19.0  0.768169"
      ]
     },
     "execution_count": 61,
     "metadata": {},
     "output_type": "execute_result"
    }
   ],
   "source": [
    "sorted_combos_backward_xgb[0:5]"
   ]
  },
  {
   "cell_type": "code",
   "execution_count": 66,
   "metadata": {},
   "outputs": [
    {
     "data": {
      "text/plain": [
       "'duration_ms, acousticness, danceability, energy, instrumentalness, liveness, loudness, mode, speechiness, tempo, valence, key_0, key_1, key_2, key_4, key_6, key_7, key_8, key_9, key_10, key_11, time_sig_3, time_sig_4, time_sig_5'"
      ]
     },
     "execution_count": 66,
     "metadata": {},
     "output_type": "execute_result"
    }
   ],
   "source": [
    "sorted_combos_backward_xgb.combo.loc[0]"
   ]
  },
  {
   "cell_type": "code",
   "execution_count": null,
   "metadata": {},
   "outputs": [],
   "source": [
    "# 'duration_ms, acousticness, danceability, energy, instrumentalness, liveness, loudness, mode, speechiness, tempo, valence, key_0, key_1, key_2, key_4, key_6, key_7, key_8, key_9, key_10, key_11, time_sig_3, time_sig_4, time_sig_5'"
   ]
  },
  {
   "cell_type": "code",
   "execution_count": 62,
   "metadata": {},
   "outputs": [
    {
     "data": {
      "text/plain": [
       "['tempo',\n",
       " 'time_sig_5',\n",
       " 'danceability',\n",
       " 'duration_ms',\n",
       " 'loudness',\n",
       " 'instrumentalness',\n",
       " 'energy',\n",
       " 'valence',\n",
       " 'speechiness',\n",
       " 'acousticness',\n",
       " 'time_sig_4',\n",
       " 'mode',\n",
       " 'liveness',\n",
       " 'key_1',\n",
       " 'key_11',\n",
       " 'key_2',\n",
       " 'key_9',\n",
       " 'key_7',\n",
       " 'time_sig_3',\n",
       " 'key_0',\n",
       " 'key_6',\n",
       " 'key_10',\n",
       " 'key_8',\n",
       " 'key_4',\n",
       " 'key_5',\n",
       " 'key_3',\n",
       " 'time_sig_1']"
      ]
     },
     "execution_count": 62,
     "metadata": {},
     "output_type": "execute_result"
    }
   ],
   "source": [
    "backward_order_xgb[::-1]"
   ]
  },
  {
   "cell_type": "code",
   "execution_count": null,
   "metadata": {},
   "outputs": [],
   "source": [
    "forward_order_xgb, sorted_combos_forward_xgb = sequential_forward(model_data, 'genre', xgb_classifier)"
   ]
  },
  {
   "cell_type": "code",
   "execution_count": 64,
   "metadata": {},
   "outputs": [
    {
     "data": {
      "text/html": [
       "<div>\n",
       "<style scoped>\n",
       "    .dataframe tbody tr th:only-of-type {\n",
       "        vertical-align: middle;\n",
       "    }\n",
       "\n",
       "    .dataframe tbody tr th {\n",
       "        vertical-align: top;\n",
       "    }\n",
       "\n",
       "    .dataframe thead th {\n",
       "        text-align: right;\n",
       "    }\n",
       "</style>\n",
       "<table border=\"1\" class=\"dataframe\">\n",
       "  <thead>\n",
       "    <tr style=\"text-align: right;\">\n",
       "      <th></th>\n",
       "      <th>index</th>\n",
       "      <th>combo</th>\n",
       "      <th>length</th>\n",
       "      <th>score</th>\n",
       "    </tr>\n",
       "  </thead>\n",
       "  <tbody>\n",
       "    <tr>\n",
       "      <th>0</th>\n",
       "      <td>361</td>\n",
       "      <td>genre, tempo, danceability, duration_ms, instr...</td>\n",
       "      <td>22.0</td>\n",
       "      <td>0.771512</td>\n",
       "    </tr>\n",
       "    <tr>\n",
       "      <th>1</th>\n",
       "      <td>367</td>\n",
       "      <td>genre, tempo, danceability, duration_ms, instr...</td>\n",
       "      <td>23.0</td>\n",
       "      <td>0.771076</td>\n",
       "    </tr>\n",
       "    <tr>\n",
       "      <th>2</th>\n",
       "      <td>349</td>\n",
       "      <td>genre, tempo, danceability, duration_ms, instr...</td>\n",
       "      <td>20.0</td>\n",
       "      <td>0.770930</td>\n",
       "    </tr>\n",
       "    <tr>\n",
       "      <th>5</th>\n",
       "      <td>303</td>\n",
       "      <td>genre, tempo, danceability, duration_ms, instr...</td>\n",
       "      <td>16.0</td>\n",
       "      <td>0.770494</td>\n",
       "    </tr>\n",
       "    <tr>\n",
       "      <th>7</th>\n",
       "      <td>256</td>\n",
       "      <td>genre, tempo, danceability, duration_ms, instr...</td>\n",
       "      <td>12.0</td>\n",
       "      <td>0.769913</td>\n",
       "    </tr>\n",
       "  </tbody>\n",
       "</table>\n",
       "</div>"
      ],
      "text/plain": [
       "   index                                              combo  length     score\n",
       "0    361  genre, tempo, danceability, duration_ms, instr...    22.0  0.771512\n",
       "1    367  genre, tempo, danceability, duration_ms, instr...    23.0  0.771076\n",
       "2    349  genre, tempo, danceability, duration_ms, instr...    20.0  0.770930\n",
       "5    303  genre, tempo, danceability, duration_ms, instr...    16.0  0.770494\n",
       "7    256  genre, tempo, danceability, duration_ms, instr...    12.0  0.769913"
      ]
     },
     "execution_count": 64,
     "metadata": {},
     "output_type": "execute_result"
    }
   ],
   "source": [
    "sorted_combos_forward_xgb.drop_duplicates(subset='length', keep='first')[0:5]"
   ]
  },
  {
   "cell_type": "code",
   "execution_count": 65,
   "metadata": {},
   "outputs": [
    {
     "data": {
      "text/plain": [
       "['tempo',\n",
       " 'danceability',\n",
       " 'duration_ms',\n",
       " 'instrumentalness',\n",
       " 'loudness',\n",
       " 'energy',\n",
       " 'speechiness',\n",
       " 'valence',\n",
       " 'acousticness',\n",
       " 'liveness',\n",
       " 'key_5',\n",
       " 'key_11',\n",
       " 'mode',\n",
       " 'key_7',\n",
       " 'time_sig_3',\n",
       " 'key_3',\n",
       " 'key_6',\n",
       " 'key_8',\n",
       " 'key_4',\n",
       " 'time_sig_4',\n",
       " 'key_10',\n",
       " 'time_sig_1',\n",
       " 'time_sig_5',\n",
       " 'key_0',\n",
       " 'key_9',\n",
       " 'key_1',\n",
       " 'key_2']"
      ]
     },
     "execution_count": 65,
     "metadata": {},
     "output_type": "execute_result"
    }
   ],
   "source": [
    "forward_order_xgb"
   ]
  },
  {
   "cell_type": "markdown",
   "metadata": {},
   "source": [
    "### Polynomial Features\n",
    "\n",
    "Adding polynomial features had a negative impact on accuracy. I'll move forward with the reduced feature set, as it is the simplest of the models, performance is near the peak of cross validation performance, and reducing features will increase the speed of the model when deployed to the web application."
   ]
  },
  {
   "cell_type": "code",
   "execution_count": 192,
   "metadata": {},
   "outputs": [],
   "source": [
    "# Train test split\n",
    "X = model_data_recs[audio_metrics + [dummy]]\n",
    "Y = model_data_recs['genre']\n",
    "            \n",
    "X, x_test, Y, y_test = train_test_split(X, Y, test_size=0.20, random_state=13)\n",
    "x_train, x_test, y_train, y_test = train_test_split(X, Y, test_size=0.25, random_state=13)"
   ]
  },
  {
   "cell_type": "code",
   "execution_count": 193,
   "metadata": {},
   "outputs": [],
   "source": [
    "# No Polynomial Features Random Forest Model\n",
    "rf_classifier.fit(x_train, y_train)\n",
    "y_pred = rf_classifier.predict(x_test)\n",
    "y_pred_train = rf_classifier.predict(x_train)\n",
    "score_no_poly = accuracy_score(y_test, y_pred, normalize = True)\n",
    "train_score_no_poly = accuracy_score(y_train, y_pred_train, normalize = True)"
   ]
  },
  {
   "cell_type": "code",
   "execution_count": 194,
   "metadata": {},
   "outputs": [],
   "source": [
    "# 2nd Degree Polynomial Random Forest Model\n",
    "poly2 = PolynomialFeatures(degree=2)\n",
    "x_test_poly2 = poly2.fit_transform(x_test[reduced_features])\n",
    "x_test_poly2 = np.concatenate((x_test_poly2, x_test[dummy].to_numpy().reshape(len(x_test), 1)), axis=1)\n",
    "\n",
    "x_train_poly2 = poly2.fit_transform(x_train[reduced_features])\n",
    "x_train_poly2 = np.concatenate((x_train_poly2, x_train[dummy].to_numpy().reshape(len(x_train), 1)), axis=1)\n",
    "\n",
    "rf_classifier.fit(x_train_poly2, y_train)\n",
    "y_pred = rf_classifier.predict(x_test_poly2)\n",
    "y_pred_train = rf_classifier.predict(x_train_poly2)\n",
    "score_poly2 = accuracy_score(y_test, y_pred, normalize = True)\n",
    "train_score_poly2 = accuracy_score(y_train, y_pred_train, normalize = True)"
   ]
  },
  {
   "cell_type": "code",
   "execution_count": 197,
   "metadata": {},
   "outputs": [],
   "source": [
    "# 3rd Degree Polynomial Random Forest Model\n",
    "poly3 = PolynomialFeatures(degree=3)\n",
    "x_test_poly3 = poly3.fit_transform(x_test[reduced_features])\n",
    "x_test_poly3 = np.concatenate((x_test_poly3, x_test[dummy].to_numpy().reshape(len(x_test), 1)), axis=1)\n",
    "\n",
    "x_train_poly3 = poly3.fit_transform(x_train[reduced_features])\n",
    "x_train_poly3 = np.concatenate((x_train_poly3, x_train[dummy].to_numpy().reshape(len(x_train), 1)), axis=1)\n",
    "\n",
    "rf_classifier.fit(x_train_poly3, y_train)\n",
    "y_pred = rf_classifier.predict(x_test_poly3)\n",
    "y_pred_train = rf_classifier.predict(x_train_poly3)\n",
    "score_poly3 = accuracy_score(y_test, y_pred, normalize = True)\n",
    "train_score_poly3 = accuracy_score(y_train, y_pred_train, normalize = True)"
   ]
  },
  {
   "cell_type": "code",
   "execution_count": 220,
   "metadata": {},
   "outputs": [
    {
     "name": "stdout",
     "output_type": "stream",
     "text": [
      "\n",
      "\n",
      "No Polynomials - Train Score: 1.0000\n",
      "No Polynomials - Test Score:  0.7914\n",
      "\n",
      "\n",
      "Polynomial 2nd - Train Score: 1.0000\n",
      "Polynomial 2nd - Test Score:  0.7871\n",
      "\n",
      "\n",
      "Polynomial 3rd - Train Score: 1.0000\n",
      "Polynomial 3rd - Test Score:  0.7700\n"
     ]
    }
   ],
   "source": [
    "# Summarize the polynomia features results\n",
    "print('\\n')\n",
    "print('No Polynomials - Train Score: ' + '{:0.4f}'.format(train_score_no_poly))\n",
    "print('No Polynomials - Test Score:  ' + '{:0.4f}'.format(score_no_poly))\n",
    "print('\\n')\n",
    "print('Polynomial 2nd - Train Score: ' + '{:0.4f}'.format(train_score_poly2))\n",
    "print('Polynomial 2nd - Test Score:  ' + '{:0.4f}'.format(score_poly2))\n",
    "print('\\n')\n",
    "print('Polynomial 3rd - Train Score: ' + '{:0.4f}'.format(train_score_poly3))\n",
    "print('Polynomial 3rd - Test Score:  ' + '{:0.4f}'.format(score_poly3))"
   ]
  },
  {
   "cell_type": "markdown",
   "metadata": {},
   "source": [
    "# Model Evaluation"
   ]
  },
  {
   "cell_type": "code",
   "execution_count": 72,
   "metadata": {},
   "outputs": [],
   "source": [
    "def confusion(classifier, x_test, y_test, y_pred, model, cmap):\n",
    "    \"\"\"\n",
    "    Plot a confusion matrix for a given classifier and test data.\n",
    "    \"\"\"\n",
    "    fig, axes = plt.subplots(nrows=1, ncols=2, figsize=(18,7.5))\n",
    "    fig.patch.set_alpha(0)\n",
    "\n",
    "    norm_list = ['true', 'pred']\n",
    "    titles = ['Normalized by Actual', 'Normalized by Prediction']\n",
    "    labels = ['Deep House', 'Drum n\\' Bass', 'Dubstep', 'Hardstyle', 'Progressive House',\n",
    "               'Techno', 'Trance']\n",
    "    \n",
    "    fig.suptitle(model + ' Confusion Matrices', fontsize=22, fontweight='bold')\n",
    "\n",
    "    for ax, norm, title in zip(axes.flatten(), norm_list, titles):\n",
    "        plot_confusion_matrix(classifier, \n",
    "                              x_test, \n",
    "                              y_test, \n",
    "                              ax=ax, \n",
    "                              cmap=cmap,\n",
    "                              normalize=norm,\n",
    "                              values_format='.1%'\n",
    "                             )\n",
    "        ax.set_title(title, pad=15, fontsize=18, fontweight='bold')\n",
    "        ax.set_xlabel('Predicted Classification', labelpad=20, fontsize=16, fontweight='bold')\n",
    "        ax.set_xticklabels(labels, rotation=45, ha='right', fontsize=14)\n",
    "        ax.set_yticklabels(labels, ha='right', fontsize=14)\n",
    "        ax.set_ylabel('True Classification', labelpad=20, fontsize=16, fontweight='bold')\n",
    "        \n",
    "        \n",
    "        # FIGURE SAVING SETTINGS\n",
    "        #ax.set_xlabel('Predicted Classification', labelpad=20, fontsize=30, fontweight='bold')\n",
    "        #ax.set_xticklabels(labels, rotation=45, ha='right', fontsize=28)\n",
    "        #ax.set_yticklabels(labels, ha='right', fontsize=28)\n",
    "        #ax.set_ylabel('True Classification', labelpad=20, fontsize=30, fontweight='bold')\n",
    "        \n",
    "        ax.grid(None)\n",
    "\n",
    "    #plt.savefig('Confusion Matrix', bbox_inches=\"tight\")\n",
    "    \n",
    "    plt.tight_layout(pad=2.2)  \n",
    "    plt.show();"
   ]
  },
  {
   "cell_type": "code",
   "execution_count": 6,
   "metadata": {},
   "outputs": [],
   "source": [
    "# Final model\n",
    "rf_classifier = RandomForestClassifier(n_estimators=1000,\n",
    "                                       max_depth=30,\n",
    "                                       oob_score=True, \n",
    "                                       criterion='gini', \n",
    "                                       random_state=rs)"
   ]
  },
  {
   "cell_type": "code",
   "execution_count": 7,
   "metadata": {},
   "outputs": [],
   "source": [
    "# Train test split\n",
    "X = model_data[reduced_features + [dummy]]\n",
    "Y = model_data['genre']\n",
    "            \n",
    "x_train, x_test, y_train, y_test = train_test_split(X, Y, test_size=0.20, random_state=13)"
   ]
  },
  {
   "cell_type": "code",
   "execution_count": 11,
   "metadata": {},
   "outputs": [],
   "source": [
    "# Unaltered Random Forest Model\n",
    "rf_classifier.fit(x_train, y_train)\n",
    "y_pred = rf_classifier.predict(x_test)\n",
    "y_pred_train = rf_classifier.predict(x_train)\n",
    "score = accuracy_score(y_test, y_pred, normalize = True)\n",
    "train_score = accuracy_score(y_train, y_pred_train, normalize = True)"
   ]
  },
  {
   "cell_type": "code",
   "execution_count": 12,
   "metadata": {},
   "outputs": [
    {
     "name": "stdout",
     "output_type": "stream",
     "text": [
      "Final Model Train Score: 0.9977\n",
      "Final Model Test Score:  0.7640\n"
     ]
    }
   ],
   "source": [
    "print('Final Model Train Score: ' + '{:0.4f}'.format(train_score))\n",
    "print('Final Model Test Score:  ' + '{:0.4f}'.format(score))"
   ]
  },
  {
   "cell_type": "code",
   "execution_count": 222,
   "metadata": {},
   "outputs": [],
   "source": [
    "# Pickle the model\n",
    "with open('pickle_rf_model.pickle', 'wb') as to_write:\n",
    "    pickle.dump(rf_classifier, to_write)"
   ]
  },
  {
   "cell_type": "code",
   "execution_count": 74,
   "metadata": {},
   "outputs": [
    {
     "data": {
      "image/png": "[encoded data removed]",
      "text/plain": [
       "<Figure size 432x288 with 1 Axes>"
      ]
     },
     "metadata": {},
     "output_type": "display_data"
    }
   ],
   "source": [
    "# Create custom colormap for use in heatmaps\n",
    "colors = [(1, 1, 1), ((106/256, 235/256, 245/256)), ((22/256, 159/256, 169/256)), ((14/256, 95/256, 101/256))] # first color is black, last is red\n",
    "cm = LinearSegmentedColormap.from_list(\n",
    "        \"Custom\", colors, N=30)\n",
    "mat = np.indices((30,30))[1]\n",
    "plt.imshow(mat, cmap=cm)\n",
    "plt.show()"
   ]
  },
  {
   "cell_type": "code",
   "execution_count": 16,
   "metadata": {},
   "outputs": [],
   "source": [
    "sns.set(font_scale=2.0)\n",
    "\n",
    "# FIGURE SAVING SETTINGS\n",
    "#sns.set(font_scale=4.0)\n",
    "#plt.rcParams['text.color'] = 'white'\n",
    "#plt.rcParams['axes.labelcolor'] = 'white'\n",
    "#plt.rcParams['xtick.color'] = 'white'\n",
    "#plt.rcParams['ytick.color'] = 'white'\n"
   ]
  },
  {
   "cell_type": "code",
   "execution_count": 17,
   "metadata": {},
   "outputs": [
    {
     "data": {
      "image/png": "[encoded data removed]",
      "text/plain": [
       "<Figure size 2592x1080 with 4 Axes>"
      ]
     },
     "metadata": {
      "needs_background": "dark"
     },
     "output_type": "display_data"
    }
   ],
   "source": [
    "plt.rcParams.update({'font.size': 30})\n",
    "\n",
    "confusion(classifier=rf_classifier, x_test=x_test, y_test=y_test, y_pred=y_pred,\n",
    "          model='Random Forest', cmap=cm)"
   ]
  },
  {
   "cell_type": "code",
   "execution_count": 19,
   "metadata": {},
   "outputs": [
    {
     "data": {
      "text/html": [
       "<div>\n",
       "<style scoped>\n",
       "    .dataframe tbody tr th:only-of-type {\n",
       "        vertical-align: middle;\n",
       "    }\n",
       "\n",
       "    .dataframe tbody tr th {\n",
       "        vertical-align: top;\n",
       "    }\n",
       "\n",
       "    .dataframe thead th {\n",
       "        text-align: right;\n",
       "    }\n",
       "</style>\n",
       "<table border=\"1\" class=\"dataframe\">\n",
       "  <thead>\n",
       "    <tr style=\"text-align: right;\">\n",
       "      <th></th>\n",
       "      <th>Feature</th>\n",
       "      <th>Importance</th>\n",
       "    </tr>\n",
       "  </thead>\n",
       "  <tbody>\n",
       "    <tr>\n",
       "      <th>8</th>\n",
       "      <td>tempo</td>\n",
       "      <td>0.347159</td>\n",
       "    </tr>\n",
       "    <tr>\n",
       "      <th>2</th>\n",
       "      <td>danceability</td>\n",
       "      <td>0.100906</td>\n",
       "    </tr>\n",
       "    <tr>\n",
       "      <th>6</th>\n",
       "      <td>loudness</td>\n",
       "      <td>0.093429</td>\n",
       "    </tr>\n",
       "    <tr>\n",
       "      <th>0</th>\n",
       "      <td>duration_ms</td>\n",
       "      <td>0.091711</td>\n",
       "    </tr>\n",
       "    <tr>\n",
       "      <th>4</th>\n",
       "      <td>instrumentalness</td>\n",
       "      <td>0.073677</td>\n",
       "    </tr>\n",
       "    <tr>\n",
       "      <th>3</th>\n",
       "      <td>energy</td>\n",
       "      <td>0.067065</td>\n",
       "    </tr>\n",
       "    <tr>\n",
       "      <th>7</th>\n",
       "      <td>speechiness</td>\n",
       "      <td>0.060083</td>\n",
       "    </tr>\n",
       "    <tr>\n",
       "      <th>9</th>\n",
       "      <td>valence</td>\n",
       "      <td>0.059519</td>\n",
       "    </tr>\n",
       "    <tr>\n",
       "      <th>1</th>\n",
       "      <td>acousticness</td>\n",
       "      <td>0.053425</td>\n",
       "    </tr>\n",
       "    <tr>\n",
       "      <th>5</th>\n",
       "      <td>liveness</td>\n",
       "      <td>0.045003</td>\n",
       "    </tr>\n",
       "    <tr>\n",
       "      <th>10</th>\n",
       "      <td>mode</td>\n",
       "      <td>0.008024</td>\n",
       "    </tr>\n",
       "  </tbody>\n",
       "</table>\n",
       "</div>"
      ],
      "text/plain": [
       "             Feature  Importance\n",
       "8              tempo    0.347159\n",
       "2       danceability    0.100906\n",
       "6           loudness    0.093429\n",
       "0        duration_ms    0.091711\n",
       "4   instrumentalness    0.073677\n",
       "3             energy    0.067065\n",
       "7        speechiness    0.060083\n",
       "9            valence    0.059519\n",
       "1       acousticness    0.053425\n",
       "5           liveness    0.045003\n",
       "10              mode    0.008024"
      ]
     },
     "execution_count": 19,
     "metadata": {},
     "output_type": "execute_result"
    }
   ],
   "source": [
    "rf_feature_importance = pd.DataFrame({'Feature' : reduced_features + [dummy], 'Importance' : rf_classifier.feature_importances_})\\\n",
    "                            #.sort_values('Importance', ascending=False)\n",
    "\n",
    "rf_feature_importance.sort_values('Importance', ascending=False)"
   ]
  },
  {
   "cell_type": "markdown",
   "metadata": {},
   "source": [
    "# Model Evaluation Using Recommendations"
   ]
  },
  {
   "cell_type": "code",
   "execution_count": 7,
   "metadata": {},
   "outputs": [],
   "source": [
    "# Train test split\n",
    "X = model_data_recs[reduced_features + [dummy]]\n",
    "Y = model_data_recs['genre']\n",
    "            \n",
    "x_train, x_test, y_train, y_test = train_test_split(X, Y, test_size=0.20, random_state=13)"
   ]
  },
  {
   "cell_type": "code",
   "execution_count": 8,
   "metadata": {},
   "outputs": [],
   "source": [
    "# Unaltered Random Forest Model\n",
    "rf_classifier.fit(x_train, y_train)\n",
    "y_pred = rf_classifier.predict(x_test)\n",
    "y_pred_train = rf_classifier.predict(x_train)\n",
    "score = accuracy_score(y_test, y_pred, normalize = True)\n",
    "train_score = accuracy_score(y_train, y_pred_train, normalize = True)"
   ]
  },
  {
   "cell_type": "code",
   "execution_count": 9,
   "metadata": {},
   "outputs": [
    {
     "name": "stdout",
     "output_type": "stream",
     "text": [
      "Final Model Train Score: 1.0000\n",
      "Final Model Test Score:  0.8214\n"
     ]
    }
   ],
   "source": [
    "print('Final Model Train Score: ' + '{:0.4f}'.format(train_score))\n",
    "print('Final Model Test Score:  ' + '{:0.4f}'.format(score))"
   ]
  },
  {
   "cell_type": "code",
   "execution_count": 18,
   "metadata": {},
   "outputs": [
    {
     "data": {
      "image/png": "[encoded data removed]",
      "text/plain": [
       "<Figure size 1296x540 with 4 Axes>"
      ]
     },
     "metadata": {
      "needs_background": "light"
     },
     "output_type": "display_data"
    }
   ],
   "source": [
    "plt.rcParams.update({'font.size': 13})\n",
    "\n",
    "confusion(classifier=rf_classifier, x_test=x_test, y_test=y_test, y_pred=y_pred,\n",
    "          model='Random Forest', cmap=cm)"
   ]
  },
  {
   "cell_type": "code",
   "execution_count": null,
   "metadata": {},
   "outputs": [],
   "source": []
  },
  {
   "cell_type": "code",
   "execution_count": 67,
   "metadata": {},
   "outputs": [],
   "source": [
    "xgboost_features = ['duration_ms', 'acousticness', 'danceability', 'energy', 'instrumentalness', \n",
    "                    'liveness', 'loudness', 'mode', 'speechiness', 'tempo', 'valence', 'key_0', \n",
    "                    'key_1', 'key_2', 'key_4', 'key_6', 'key_7', 'key_8', 'key_9', 'key_10', 'key_11', \n",
    "                    'time_sig_3', 'time_sig_4', 'time_sig_5']"
   ]
  },
  {
   "cell_type": "code",
   "execution_count": 68,
   "metadata": {},
   "outputs": [],
   "source": [
    "# Train test split\n",
    "X = model_data[xgboost_features]\n",
    "Y = model_data['genre']\n",
    "            \n",
    "x_train, x_test, y_train, y_test = train_test_split(X, Y, test_size=0.20, random_state=13)"
   ]
  },
  {
   "cell_type": "code",
   "execution_count": 69,
   "metadata": {},
   "outputs": [],
   "source": [
    "# Unaltered Random Forest Model\n",
    "xgb_classifier.fit(x_train, y_train)\n",
    "y_pred = xgb_classifier.predict(x_test)\n",
    "y_pred_train = xgb_classifier.predict(x_train)\n",
    "score = accuracy_score(y_test, y_pred, normalize = True)\n",
    "train_score = accuracy_score(y_train, y_pred_train, normalize = True)"
   ]
  },
  {
   "cell_type": "code",
   "execution_count": 70,
   "metadata": {},
   "outputs": [
    {
     "name": "stdout",
     "output_type": "stream",
     "text": [
      "Final Model Train Score: 0.9957\n",
      "Final Model Test Score:  0.7724\n"
     ]
    }
   ],
   "source": [
    "print('Final Model Train Score: ' + '{:0.4f}'.format(train_score))\n",
    "print('Final Model Test Score:  ' + '{:0.4f}'.format(score))"
   ]
  },
  {
   "cell_type": "code",
   "execution_count": 76,
   "metadata": {},
   "outputs": [
    {
     "data": {
      "image/png": "[encoded data removed]",
      "text/plain": [
       "<Figure size 1296x540 with 4 Axes>"
      ]
     },
     "metadata": {
      "needs_background": "light"
     },
     "output_type": "display_data"
    }
   ],
   "source": [
    "plt.rcParams.update({'font.size': 13})\n",
    "\n",
    "confusion(classifier=xgb_classifier, x_test=x_test, y_test=y_test, y_pred=y_pred,\n",
    "          model='XGBoost Classifier', cmap=cm)"
   ]
  },
  {
   "cell_type": "code",
   "execution_count": null,
   "metadata": {},
   "outputs": [],
   "source": []
  },
  {
   "cell_type": "code",
   "execution_count": null,
   "metadata": {},
   "outputs": [],
   "source": []
  },
  {
   "cell_type": "code",
   "execution_count": null,
   "metadata": {},
   "outputs": [],
   "source": []
  }
 ],
 "metadata": {
  "kernelspec": {
   "display_name": "Python 3",
   "language": "python",
   "name": "python3"
  },
  "language_info": {
   "codemirror_mode": {
    "name": "ipython",
    "version": 3
   },
   "file_extension": ".py",
   "mimetype": "text/x-python",
   "name": "python",
   "nbconvert_exporter": "python",
   "pygments_lexer": "ipython3",
   "version": "3.8.5"
  }
 },
 "nbformat": 4,
 "nbformat_minor": 4
}
